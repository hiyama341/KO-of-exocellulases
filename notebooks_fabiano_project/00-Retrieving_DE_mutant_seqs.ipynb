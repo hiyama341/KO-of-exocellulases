{
 "cells": [
  {
   "cell_type": "code",
   "execution_count": 1,
   "id": "2604a417-48b0-43ae-a530-0a778c5a02de",
   "metadata": {},
   "outputs": [],
   "source": [
    "from Bio.Seq import Seq\n",
    "from Bio.SeqRecord import SeqRecord\n",
    "from Bio import SeqIO\n",
    "import pandas as pd\n",
    "from Bio.Seq import Seq"
   ]
  },
  {
   "cell_type": "code",
   "execution_count": 2,
   "id": "6f2c9c37-88fb-4fc4-8c4a-caa0cbe18946",
   "metadata": {},
   "outputs": [],
   "source": [
    "from teemi.design.fetch_sequences import read_fasta_files"
   ]
  },
  {
   "cell_type": "code",
   "execution_count": 3,
   "id": "7f1cf73f-9d27-4649-a658-7851e9d5043e",
   "metadata": {},
   "outputs": [],
   "source": [
    "## Randomly the niger genome has the correct annotation\n",
    "path_to_file = '../notebooks/FungiDB-61_AnigerATCC1015_AnnotatedCDSs.fasta'"
   ]
  },
  {
   "cell_type": "code",
   "execution_count": 4,
   "id": "7344d872-c9b2-47ae-9457-501fdbaf22f3",
   "metadata": {},
   "outputs": [],
   "source": [
    "proteins = read_fasta_files(path_to_file)"
   ]
  },
  {
   "cell_type": "markdown",
   "id": "1da1060e-c091-4a34-be2f-1d97b69f81de",
   "metadata": {},
   "source": [
    "see the proteins"
   ]
  },
  {
   "cell_type": "code",
   "execution_count": 5,
   "id": "441daf52-2c69-4df5-9cb6-ca4de63545ce",
   "metadata": {},
   "outputs": [
    {
     "data": {
      "text/plain": [
       "[SeqRecord(seq=Seq('ATGGGTGACTTGGGTCCATATCTCGAATACGATGGTGAGGACTATATATGTTCT...TGA'), id='ASPNIDRAFT2_1000234-t41_1', name='ASPNIDRAFT2_1000234-t41_1', description='ASPNIDRAFT2_1000234-t41_1 | organism=Aspergillus_niger_ATCC_1015 | product=hypothetical protein | location=ACJE01000001.1:254822-255232(-) | length=411 | sequence_SO=supercontig | SO=protein_coding_gene', dbxrefs=[]),\n",
       " SeqRecord(seq=Seq('ATGTCGGCGACAATGTCCTCATCGCCCTCCGCCCGCTCTTCGACGCTAACTCCG...TAG'), id='ASPNIDRAFT2_1000395-t41_1', name='ASPNIDRAFT2_1000395-t41_1', description='ASPNIDRAFT2_1000395-t41_1 | organism=Aspergillus_niger_ATCC_1015 | product=hypothetical protein | location=ACJE01000001.1:545592-546884(+) | length=1293 | sequence_SO=supercontig | SO=protein_coding_gene', dbxrefs=[]),\n",
       " SeqRecord(seq=Seq('ATGGCGGGCACCATGGCCGACGACGAACTCTTCACAAGGGCCATCTCTGGGTAT...TGA'), id='ASPNIDRAFT2_1000674-t41_1', name='ASPNIDRAFT2_1000674-t41_1', description='ASPNIDRAFT2_1000674-t41_1 | organism=Aspergillus_niger_ATCC_1015 | product=hypothetical protein | location=ACJE01000001.1:808777-810906(-) | length=2130 | sequence_SO=supercontig | SO=protein_coding_gene', dbxrefs=[]),\n",
       " SeqRecord(seq=Seq('ATGTCCCCGCCAGCTATCATTGCTCCCTCCATCCTGAGTGCCGACTTCGGCACC...TAA'), id='ASPNIDRAFT2_1000708-t41_1', name='ASPNIDRAFT2_1000708-t41_1', description='ASPNIDRAFT2_1000708-t41_1 | organism=Aspergillus_niger_ATCC_1015 | product=hypothetical protein|Ribulose-phosphate 3-epimerase | location=ACJE01000001.1:822328-823339(-) | length=1012 | sequence_SO=supercontig | SO=protein_coding_gene', dbxrefs=[]),\n",
       " SeqRecord(seq=Seq('ATGGCATACATTGGCGACGCAGCGGTCATCTTCTTTGTCATTCTCGGCTGTGTA...TGA'), id='ASPNIDRAFT2_1000793-t41_1', name='ASPNIDRAFT2_1000793-t41_1', description='ASPNIDRAFT2_1000793-t41_1 | organism=Aspergillus_niger_ATCC_1015 | product=hypothetical protein | location=ACJE01000001.1:898733-898969(+) | length=237 | sequence_SO=supercontig | SO=protein_coding_gene', dbxrefs=[]),\n",
       " SeqRecord(seq=Seq('ATGTATGCCTCTCAACAGCCTGCTACCTACGCCTACCCACCTGGCGTGACGCTG...TGA'), id='ASPNIDRAFT2_1001006-t41_1', name='ASPNIDRAFT2_1001006-t41_1', description='ASPNIDRAFT2_1001006-t41_1 | organism=Aspergillus_niger_ATCC_1015 | product=Pal1-domain containing protein | location=ACJE01000001.1:1064356-1066246(+) | length=1891 | sequence_SO=supercontig | SO=protein_coding_gene', dbxrefs=[]),\n",
       " SeqRecord(seq=Seq('ATGGCCAACACCGAGTCGGGCGACTCAATCCTCAATGCCGGACAGGCACTGAGC...TGA'), id='ASPNIDRAFT2_1001019-t41_1', name='ASPNIDRAFT2_1001019-t41_1', description='ASPNIDRAFT2_1001019-t41_1 | organism=Aspergillus_niger_ATCC_1015 | product=expressed protein | location=ACJE01000001.1:1071739-1073630(+) | length=1892 | sequence_SO=supercontig | SO=protein_coding_gene', dbxrefs=[]),\n",
       " SeqRecord(seq=Seq('ATGGACACTGGCGGTCTTGCTCAAATGACCTACAACTCCTCTTTCAATAATGGC...TAA'), id='ASPNIDRAFT2_1001071-t41_1', name='ASPNIDRAFT2_1001071-t41_1', description='ASPNIDRAFT2_1001071-t41_1 | organism=Aspergillus_niger_ATCC_1015 | product=hypothetical protein | location=ACJE01000001.1:1102891-1104621(-) | length=1731 | sequence_SO=supercontig | SO=protein_coding_gene', dbxrefs=[]),\n",
       " SeqRecord(seq=Seq('ATGACACAACAAAGAAAGACCATTGCCGTGGTGAACGCTACGGGTCGCCAGGCG...TGA'), id='ASPNIDRAFT2_1001118-t41_1', name='ASPNIDRAFT2_1001118-t41_1', description='ASPNIDRAFT2_1001118-t41_1 | organism=Aspergillus_niger_ATCC_1015 | product=NAD(P)-binding protein | location=ACJE01000001.1:1132605-1133724(-) | length=1120 | sequence_SO=supercontig | SO=protein_coding_gene', dbxrefs=[]),\n",
       " SeqRecord(seq=Seq('ATGTTTTCCAAGTCCATTCTTGCGGCCGCTGCTCTCCTGGGCATTTCGGCTGTT...TAA'), id='ASPNIDRAFT2_1001171-t41_1', name='ASPNIDRAFT2_1001171-t41_1', description='ASPNIDRAFT2_1001171-t41_1 | organism=Aspergillus_niger_ATCC_1015 | product=Lytic polysaccharide monooxygenase | location=ACJE01000001.1:1191296-1192525(+) | length=1230 | sequence_SO=supercontig | SO=protein_coding_gene', dbxrefs=[]),\n",
       " SeqRecord(seq=Seq('ATGGCCACTGCTATGCATGACGACGAATACCGCTCCATGCCCCCTACCGGGGGC...TGA'), id='ASPNIDRAFT2_1001310-t41_1', name='ASPNIDRAFT2_1001310-t41_1', description='ASPNIDRAFT2_1001310-t41_1 | organism=Aspergillus_niger_ATCC_1015 | product=hypothetical protein | location=ACJE01000001.1:1288521-1288880(+) | length=360 | sequence_SO=supercontig | SO=protein_coding_gene', dbxrefs=[]),\n",
       " SeqRecord(seq=Seq('ATGGCCACTCCAGCAGCTCCCTCACTCGCCCCTGCGCCCGGTCCAGCTCCGTTG...TGA'), id='ASPNIDRAFT2_1001547-t41_1', name='ASPNIDRAFT2_1001547-t41_1', description='ASPNIDRAFT2_1001547-t41_1 | organism=Aspergillus_niger_ATCC_1015 | product=hypothetical protein | location=ACJE01000001.1:1467274-1468761(+) | length=1488 | sequence_SO=supercontig | SO=protein_coding_gene', dbxrefs=[]),\n",
       " SeqRecord(seq=Seq('ATGTCAATGAGGCTTTCCCGCAGGCTGTGTGGTTGTTGTGTTGGCACCGCACTG...TAA'), id='ASPNIDRAFT2_1001607-t41_1', name='ASPNIDRAFT2_1001607-t41_1', description='ASPNIDRAFT2_1001607-t41_1 | organism=Aspergillus_niger_ATCC_1015 | product=expressed protein | location=ACJE01000001.1:1510474-1510731(-) | length=258 | sequence_SO=supercontig | SO=protein_coding_gene', dbxrefs=[]),\n",
       " SeqRecord(seq=Seq('ATGACTTTGATACCAATCACGACCTGCCGATTTCTGGCATCCGACGCGGGTCTA...TAG'), id='ASPNIDRAFT2_1001621-t41_1', name='ASPNIDRAFT2_1001621-t41_1', description='ASPNIDRAFT2_1001621-t41_1 | organism=Aspergillus_niger_ATCC_1015 | product=expressed protein | location=ACJE01000001.1:1519104-1519523(+) | length=420 | sequence_SO=supercontig | SO=protein_coding_gene', dbxrefs=[]),\n",
       " SeqRecord(seq=Seq('ATGGCCGACACGACCCAGGCTCCTATCAACGGCGGCTACCCTGCGCAACACGCT...TAG'), id='ASPNIDRAFT2_1001664-t41_1', name='ASPNIDRAFT2_1001664-t41_1', description='ASPNIDRAFT2_1001664-t41_1 | organism=Aspergillus_niger_ATCC_1015 | product=expressed protein | location=ACJE01000001.1:1542540-1544294(+) | length=1755 | sequence_SO=supercontig | SO=protein_coding_gene', dbxrefs=[]),\n",
       " SeqRecord(seq=Seq('ATGAACCACGGACCCGTCCCAGTCACCGTCGGATCTCGAATAGATCATTGGCAC...TGA'), id='ASPNIDRAFT2_1001747-t41_1', name='ASPNIDRAFT2_1001747-t41_1', description='ASPNIDRAFT2_1001747-t41_1 | organism=Aspergillus_niger_ATCC_1015 | product=expressed protein | location=ACJE01000001.1:1582548-1582880(-) | length=333 | sequence_SO=supercontig | SO=protein_coding_gene', dbxrefs=[]),\n",
       " SeqRecord(seq=Seq('ATGCTTTACTTGGCCGGCGCGGCCCTCTGTGTGCGTATCGATCCATATGCTAAT...TAG'), id='ASPNIDRAFT2_1001783-t41_1', name='ASPNIDRAFT2_1001783-t41_1', description='ASPNIDRAFT2_1001783-t41_1 | organism=Aspergillus_niger_ATCC_1015 | product=Ras-domain containing protein | location=ACJE01000001.1:1601039-1601914(-) | length=876 | sequence_SO=supercontig | SO=protein_coding_gene', dbxrefs=[]),\n",
       " SeqRecord(seq=Seq('ATGGCTGGTACAAGGAACTACGACTTTCTGATCAAGTTACTACTTATTGGGGAC...TGA'), id='ASPNIDRAFT2_1001862-t41_1', name='ASPNIDRAFT2_1001862-t41_1', description='ASPNIDRAFT2_1001862-t41_1 | organism=Aspergillus_niger_ATCC_1015 | product=secretion related GTPase srgA-aspergillus niger | location=ACJE01000002.1:7060-7804(+) | length=745 | sequence_SO=supercontig | SO=protein_coding_gene', dbxrefs=[]),\n",
       " SeqRecord(seq=Seq('ATGTCTGGTGACATGCCATCTGAGTCGCTGGAGAGCAACTCTGAACATGCTTAT...TGA'), id='ASPNIDRAFT2_1001906-t41_1', name='ASPNIDRAFT2_1001906-t41_1', description='ASPNIDRAFT2_1001906-t41_1 | organism=Aspergillus_niger_ATCC_1015 | product=cytidine and deoxycytidylate deaminase zinc-binding domain protein | location=ACJE01000002.1:22797-23702(+) | length=906 | sequence_SO=supercontig | SO=protein_coding_gene', dbxrefs=[]),\n",
       " SeqRecord(seq=Seq('ATGAAAAGAGTAACTATAGCAATAAAATTTTCTTGCAATACAATAATTTCGCTC...TGA'), id='ASPNIDRAFT2_1002454-t41_1', name='ASPNIDRAFT2_1002454-t41_1', description='ASPNIDRAFT2_1002454-t41_1 | organism=Aspergillus_niger_ATCC_1015 | product=expressed protein | location=ACJE01000002.1:385612-385824(+) | length=213 | sequence_SO=supercontig | SO=protein_coding_gene', dbxrefs=[])]"
      ]
     },
     "execution_count": 5,
     "metadata": {},
     "output_type": "execute_result"
    }
   ],
   "source": [
    "proteins[:20]"
   ]
  },
  {
   "cell_type": "code",
   "execution_count": 6,
   "id": "ae2bccad-65ca-46c0-bbb3-415aafa7b637",
   "metadata": {},
   "outputs": [
    {
     "data": {
      "text/plain": [
       "'ASPNIDRAFT2_1000234-t41_1'"
      ]
     },
     "execution_count": 6,
     "metadata": {},
     "output_type": "execute_result"
    }
   ],
   "source": [
    "proteins[0].id"
   ]
  },
  {
   "cell_type": "code",
   "execution_count": 7,
   "id": "e3fb59d3-0eec-44c4-9376-d9c29a9c68cd",
   "metadata": {},
   "outputs": [],
   "source": [
    "import pandas as pd"
   ]
  },
  {
   "cell_type": "code",
   "execution_count": 8,
   "id": "3710ccf8-19b8-4394-8fe9-227de4d3a6a7",
   "metadata": {},
   "outputs": [],
   "source": [
    "xls = pd.ExcelFile('../notebooks/FungiDB_proteins_mutant strain sugarcane bagasse_Table Fer.xlsx')\n",
    "df1 = pd.read_excel(xls, 'QMprtT>WTprtT')\n",
    "df2 = pd.read_excel(xls, 'bglA>WTprtT')"
   ]
  },
  {
   "cell_type": "code",
   "execution_count": 9,
   "id": "37a435e1-4aa0-4fd7-a2df-7bc5ef8996b5",
   "metadata": {},
   "outputs": [
    {
     "name": "stdout",
     "output_type": "stream",
     "text": [
      "18\n",
      "['ASPNIDRAFT2_1147525-t41_1-p1', 'A0A124BXG2', 'A0A117E1I5', 'ASPNIDRAFT2_182100-t41_1-p1', 'ASPNIDRAFT2_1154180-t41_1-p1', 'A0A117E2B9', 'A0A100IN24', 'ASPNIDRAFT2_1159267-t41_1-p1', 'A0A100INU2', 'ASPNIDRAFT2_1178295-t41_1-p1', 'ASPNIDRAFT2_54860-t41_1-p1', 'ASPNIDRAFT2_1160135-t41_1-p1', 'ASPNIDRAFT2_1187269-t41_1-p1', 'ASPNIDRAFT2_1183516-t41_1-p1', 'ASPNIDRAFT2_1162209-t41_1-p1', 'ASPNIDRAFT2_1162768-t41_1-p1', 'ASPNIDRAFT2_1099883-t41_1-p1', 'ASPNIDRAFT2_1141724-t41_1-p1']\n"
     ]
    }
   ],
   "source": [
    "list_of_acc_numbers_bglA = list(df2['Unnamed: 0'])[1:]\n",
    "print(len(list_of_acc_numbers_bglA))\n",
    "print(list_of_acc_numbers_bglA)"
   ]
  },
  {
   "cell_type": "code",
   "execution_count": 10,
   "id": "71781f10-5014-40d0-873b-f654af0588e3",
   "metadata": {},
   "outputs": [
    {
     "name": "stdout",
     "output_type": "stream",
     "text": [
      "110\n",
      "['ASPNIDRAFT2_1162209-t41_1-p1', 'ASPNIDRAFT2_1107559-t41_1-p1', 'ASPNIDRAFT2_182100-t41_1-p1', 'A0A100I6G0', 'ASPNIDRAFT2_1147525-t41_1-p1', 'ASPNIDRAFT2_1161545-t41_1-p1', 'A0A124BX74', 'A0A100I1U6', 'ASPNIDRAFT2_1110178-t41_1-p1', 'A0A117DXA3', 'ASPNIDRAFT2_1178295-t41_1-p1', 'ASPNIDRAFT2_1143951-t41_1-p1', 'ASPNIDRAFT2_1161751-t41_1-p1', 'ASPNIDRAFT2_1116389-t41_1-p1', 'ASPNIDRAFT2_1165908-t41_1-p1', 'ASPNIDRAFT2_1117716-t41_1-p1', 'ASPNIDRAFT2_1144686-t41_1-p1', 'ASPNIDRAFT2_1145619-t41_1-p1', 'A0A100IK28', 'ASPNIDRAFT2_1146214-t41_1-p1', 'ASPNIDRAFT2_1144977-t41_1-p1', 'ASPNIDRAFT2_1130315-t41_1-p1', 'ASPNIDRAFT2_1166799-t41_1-p1', 'A0A124BVP3', 'ASPNIDRAFT2_1159267-t41_1-p1', 'A0A117E1S1', 'ASPNIDRAFT2_175486-t41_1-p1', 'ASPNIDRAFT2_1125363-t41_1-p1', 'ASPNIDRAFT2_1118013-t41_1-p1', 'ASPNIDRAFT2_1179433-t41_1-p1', 'ASPNIDRAFT2_1147004-t41_1-p1', 'A0A100I349', 'ASPNIDRAFT2_54860-t41_1-p1', 'ASPNIDRAFT2_1146675-t41_1-p1', 'A0A100IT94', 'ASPNIDRAFT2_1156695-t41_1-p1', 'A0A100IPV4', 'ASPNIDRAFT2_1110657-t41_1-p1', 'A0A100INF1', 'A0A117DYT5', 'ASPNIDRAFT2_1223842-t41_1-p1', 'A0A100IIJ3', 'A0A100INU2', 'ASPNIDRAFT2_1164625-t41_1-p1', 'ASPNIDRAFT2_1150208-t41_1-p1', 'ASPNIDRAFT2_1116766-t41_1-p1', 'A0A100IPX8', 'ASPNIDRAFT2_1143275-t41_1-p1', 'ASPNIDRAFT2_1187280-t41_1-p1', 'ASPNIDRAFT2_1146032-t41_1-p1', 'ASPNIDRAFT2_1183964-t41_1-p1', 'A0A124BWF4', 'ASPNIDRAFT2_1182629-t41_1-p1', 'ASPNIDRAFT2_1162768-t41_1-p1', 'ASPNIDRAFT2_1142077-t41_1-p1', 'ASPNIDRAFT2_1168995-t41_1-p1', 'ASPNIDRAFT2_1187269-t41_1-p1', 'F5CI28', 'ASPNIDRAFT2_1106945-t41_1-p1', 'ASPNIDRAFT2_1183516-t41_1-p1', 'A0A100IHG4', 'ASPNIDRAFT2_1085285-t41_1-p1', 'ASPNIDRAFT2_1158713-t41_1-p1', 'A0A100IR60', 'ASPNIDRAFT2_1156809-t41_1-p1', 'ASPNIDRAFT2_1129086-t41_1-p1', 'ASPNIDRAFT2_1098926-t41_1-p1', 'ASPNIDRAFT2_1082604-t41_1-p1', 'ASPNIDRAFT2_1167448-t41_1-p1', 'ASPNIDRAFT2_1154180-t41_1-p1', 'ASPNIDRAFT2_1132679-t41_1-p1', 'A0A117E3B9', 'ASPNIDRAFT2_1152313-t41_1-p1', 'ASPNIDRAFT2_1179270-t41_1-p1', 'ASPNIDRAFT2_1187426-t41_1-p1', 'ASPNIDRAFT2_1179759-t41_1-p1', 'ASPNIDRAFT2_1160135-t41_1-p1', 'ASPNIDRAFT2_1164521-t41_1-p1', 'A0A100IIK3', 'A0A100IN24', 'A0A117E1C5', 'ASPNIDRAFT2_1164595-t41_1-p1', 'A0A100I9R5', 'A0A117DX26', 'A0A100INW1', 'ASPNIDRAFT2_1176802-t41_1-p1', 'A0A100IKW0', 'ASPNIDRAFT2_1085850-t41_1-p1', 'ASPNIDRAFT2_1163354-t41_1-p1', 'ASPNIDRAFT2_1166644-t41_1-p1', 'ASPNIDRAFT2_1099883-t41_1-p1', 'ASPNIDRAFT2_1117636-t41_1-p1', 'A0A100I7W0', 'ASPNIDRAFT2_1168200-t41_1-p1', 'ASPNIDRAFT2_1183095-t41_1-p1', 'ASPNIDRAFT2_1165424-t41_1-p1', 'ASPNIDRAFT2_213559-t41_1-p1', 'ASPNIDRAFT2_1152501-t41_1-p1', 'ASPNIDRAFT2_1204436-t41_1-p1', 'A0A100IAD1', 'ASPNIDRAFT2_1180590-t41_1-p1', 'A0A124BXH6', 'ASPNIDRAFT2_1187703-t41_1-p1', 'A0A124BV73', 'ASPNIDRAFT2_1159253-t41_1-p1', 'ASPNIDRAFT2_1147022-t41_1-p1', 'ASPNIDRAFT2_1129152-t41_1-p1', 'ASPNIDRAFT2_1088919-t41_1-p1', 'ASPNIDRAFT2_1161570-t41_1-p1', 'ASPNIDRAFT2_1158719-t41_1-p1']\n"
     ]
    }
   ],
   "source": [
    "list_of_acc_numbers_QM = list(df1['QMprtT/WTprtT'])[1:]\n",
    "print(len(list_of_acc_numbers_QM))\n",
    "print(list_of_acc_numbers_QM)"
   ]
  },
  {
   "cell_type": "markdown",
   "id": "06daff6e-8255-4bf4-83b1-347b72ce0635",
   "metadata": {},
   "source": [
    "# THE NAMES DO NOT MATCH THE GENOME!!!!!! - fix"
   ]
  },
  {
   "cell_type": "markdown",
   "id": "1de1911c-76e4-488b-a4e6-4f9e78c1c71d",
   "metadata": {},
   "source": [
    "### for the QM"
   ]
  },
  {
   "cell_type": "code",
   "execution_count": 11,
   "id": "082889c6-14e8-4ae3-81c1-b9fef6bc77d8",
   "metadata": {},
   "outputs": [],
   "source": [
    "# remove p1 label \n",
    "for i in range( len(list_of_acc_numbers_QM)): \n",
    "    if list_of_acc_numbers_QM[i].endswith('p1'): \n",
    "        list_of_acc_numbers_QM[i] = list_of_acc_numbers_QM[i][:-3]"
   ]
  },
  {
   "cell_type": "code",
   "execution_count": 12,
   "id": "c9e92d35-f425-468b-a8d1-4edc2ee80ea8",
   "metadata": {},
   "outputs": [
    {
     "name": "stdout",
     "output_type": "stream",
     "text": [
      "The number of genes sampled are 110\n"
     ]
    }
   ],
   "source": [
    "print(f'The number of genes sampled are {len(list_of_acc_numbers_QM)}')"
   ]
  },
  {
   "cell_type": "code",
   "execution_count": 13,
   "id": "7faa63c7-f043-4f22-b9d8-fcde48097953",
   "metadata": {},
   "outputs": [],
   "source": [
    "list_of_biopython_objects1 = []\n",
    "not_in_genome1 = []\n",
    "list_of_names1 = []\n",
    "\n",
    "\n",
    "for acc in list_of_acc_numbers_QM: \n",
    "    for protein in proteins: \n",
    "        if acc == protein.id: \n",
    "            # save \n",
    "            found_protein = protein.translate()\n",
    "            found_protein.id = protein.id\n",
    "            found_protein.name = protein.name \n",
    "            found_protein.description = protein.description\n",
    "\n",
    "            \n",
    "            list_of_biopython_objects1.append(found_protein)\n",
    "            list_of_names1.append(protein.id)\n",
    "            \n",
    "            \n",
    "# The ones that we didnt see in the genome             \n",
    "for acc in list_of_acc_numbers_QM: \n",
    "    if acc not in list_of_names1:\n",
    "        not_in_genome1.append(acc)\n"
   ]
  },
  {
   "cell_type": "code",
   "execution_count": 14,
   "id": "1a17b1a6-421c-473e-a935-ebcb66c33b29",
   "metadata": {},
   "outputs": [],
   "source": [
    "from teemi.design.fetch_sequences import retrieve_sequences_from_PDB"
   ]
  },
  {
   "cell_type": "code",
   "execution_count": 15,
   "id": "9b7e19cc-8a66-4fc9-bff8-60818ac59751",
   "metadata": {},
   "outputs": [],
   "source": [
    "from_pdb1 = retrieve_sequences_from_PDB(not_in_genome1) "
   ]
  },
  {
   "cell_type": "code",
   "execution_count": 16,
   "id": "067cce25-2988-4a8c-823f-a18f4c4d5465",
   "metadata": {},
   "outputs": [
    {
     "name": "stdout",
     "output_type": "stream",
     "text": [
      "The number of proteins found in the genome is : 79. The remaining number is : 31\n"
     ]
    }
   ],
   "source": [
    "print(f'The number of proteins found in the genome is : {len(list_of_biopython_objects1)}. The remaining number is : {len(not_in_genome1)}')"
   ]
  },
  {
   "cell_type": "code",
   "execution_count": 17,
   "id": "9cd320d8-a19a-489f-b13d-fe98571a5713",
   "metadata": {},
   "outputs": [
    {
     "data": {
      "text/plain": [
       "[SeqRecord(seq=Seq('MKFFNAKGSLLSSGIYLIALTPFVNAKCSLPSSYSWSSTDALATPKSGWTALKD...LKQ'), id='tr|A0A100I6G0|A0A100I6G0_ASPNG', name='tr|A0A100I6G0|A0A100I6G0_ASPNG', description='tr|A0A100I6G0|A0A100I6G0_ASPNG Alpha-L-arabinofuranosidase OS=Aspergillus niger OX=5061 GN=ABL_01224 PE=3 SV=1', dbxrefs=[]),\n",
       " SeqRecord(seq=Seq('MAAPAQKFKVADISLAAFGRREIELAEIEMPGLMSIRRRYGPDQPLKGARIAGC...YRY'), id='tr|A0A124BX74|A0A124BX74_ASPNG', name='tr|A0A124BX74|A0A124BX74_ASPNG', description='tr|A0A124BX74|A0A124BX74_ASPNG Adenosylhomocysteinase OS=Aspergillus niger OX=5061 GN=ABL_04200 PE=3 SV=1', dbxrefs=[]),\n",
       " SeqRecord(seq=Seq('MQVKFLATLLPLLLHLPAAVDGLQGKNARISASLKRHAGRDVPQTALNSTNVYP...HLS'), id='tr|A0A100I1U6|A0A100I1U6_ASPNG', name='tr|A0A100I1U6|A0A100I1U6_ASPNG', description='tr|A0A100I1U6|A0A100I1U6_ASPNG alpha,alpha-trehalase OS=Aspergillus niger OX=5061 GN=ABL_00029 PE=4 SV=1', dbxrefs=[]),\n",
       " SeqRecord(seq=Seq('MSVSFDTTDVAPAPVPVVQDGPCLGSKSRMPEFSLAGKVVLVSGAARGLGLTQA...AAW'), id='tr|A0A117DXA3|A0A117DXA3_ASPNG', name='tr|A0A117DXA3|A0A117DXA3_ASPNG', description='tr|A0A117DXA3|A0A117DXA3_ASPNG Short chain dehydrogenase OS=Aspergillus niger OX=5061 GN=ABL_02277 PE=3 SV=1', dbxrefs=[]),\n",
       " SeqRecord(seq=Seq('MAPWILGEKFNTVYPHKGSIKALWETKWKFACEKSVYPFHDGAIEDFRPIFQKL...LKN'), id='tr|A0A100IK28|A0A100IK28_ASPNG', name='tr|A0A100IK28|A0A100IK28_ASPNG', description='tr|A0A100IK28|A0A100IK28_ASPNG Pigment biosynthesis protein Ayg1 OS=Aspergillus niger OX=5061 GN=ABL_05349 PE=4 SV=1', dbxrefs=[]),\n",
       " SeqRecord(seq=Seq('MHVRSYLSAVLYGLPALTQVAAAKSTGDPFQLYTISAENITAKLIPYGARLTSL...GTV'), id='tr|A0A124BVP3|A0A124BVP3_ASPNG', name='tr|A0A124BVP3|A0A124BVP3_ASPNG', description='tr|A0A124BVP3|A0A124BVP3_ASPNG Aldose 1-epimerase OS=Aspergillus niger OX=5061 GN=ABL_01832 PE=4 SV=1', dbxrefs=[]),\n",
       " SeqRecord(seq=Seq('MMKLYHVSLALFAGLGLVAGQGMDSLPPCALNRSQRDCATGSIPKTCKAIDVNC...LLL'), id='tr|A0A117E1S1|A0A117E1S1_ASPNG', name='tr|A0A117E1S1|A0A117E1S1_ASPNG', description='tr|A0A117E1S1|A0A117E1S1_ASPNG CFEM domain protein OS=Aspergillus niger OX=5061 GN=ABL_07158 PE=3 SV=1', dbxrefs=[]),\n",
       " SeqRecord(seq=Seq('MWRIITALAAGYLIDSVQAAASQEYTWKNVVTGGGGGFTPGIVFNPSAKGVAYA...LEG'), id='tr|A0A100I349|A0A100I349_ASPNG', name='tr|A0A100I349|A0A100I349_ASPNG', description='tr|A0A100I349|A0A100I349_ASPNG Xyloglucanase OS=Aspergillus niger OX=5061 GN=ABL_00052 PE=4 SV=1', dbxrefs=[]),\n",
       " SeqRecord(seq=Seq('MLDKQTESLPLAEERPHLRQPPHQYRRSILHFFTSAGLLLLSIYALFPRLSLFS...WDP'), id='tr|A0A100IT94|A0A100IT94_ASPNG', name='tr|A0A100IT94|A0A100IT94_ASPNG', description='tr|A0A100IT94|A0A100IT94_ASPNG Xaa-pro dipeptidase OS=Aspergillus niger OX=5061 GN=ABL_09581 PE=4 SV=1', dbxrefs=[]),\n",
       " SeqRecord(seq=Seq('MTPQTIIIGTGLAGLTTTSTLLTHHIPVLLLDRAPKPGGNSIKASSGINAAPTR...TCS'), id='tr|A0A100IPV4|A0A100IPV4_ASPNG', name='tr|A0A100IPV4|A0A100IPV4_ASPNG', description='tr|A0A100IPV4|A0A100IPV4_ASPNG Fumarate reductase OS=Aspergillus niger OX=5061 GN=ABL_07826 PE=3 SV=1', dbxrefs=[]),\n",
       " SeqRecord(seq=Seq('MTIPEEVDIIVCGGGSTGCVIAGRLANLDHNLQVLLIEAGEDNLNNPWVYRPGI...SRL'), id='tr|A0A100INF1|A0A100INF1_ASPNG', name='tr|A0A100INF1|A0A100INF1_ASPNG', description='tr|A0A100INF1|A0A100INF1_ASPNG Glucose-methanol-choline (Gmc) oxidoreductase OS=Aspergillus niger OX=5061 GN=ABL_07089 PE=3 SV=1', dbxrefs=[]),\n",
       " SeqRecord(seq=Seq('MVQSSVLGFPRMGKLRDLKKATEAYWGDKISRDELLAEGKRLRLEHWKLQKDAG...HGN'), id='tr|A0A117DYT5|A0A117DYT5_ASPNG', name='tr|A0A117DYT5|A0A117DYT5_ASPNG', description='tr|A0A117DYT5|A0A117DYT5_ASPNG 5-methyltetrahydropteroyltriglutamate--homocysteine S-methyltransferase OS=Aspergillus niger OX=5061 GN=ABL_02132 PE=3 SV=1', dbxrefs=[]),\n",
       " SeqRecord(seq=Seq('MSDITHPTIKDGWFSEQSDMWPGQAMNLKVNQILHHEKSKYQDVLVFESSDYGT...LDA'), id='tr|A0A100IIJ3|A0A100IIJ3_ASPNG', name='tr|A0A100IIJ3|A0A100IIJ3_ASPNG', description='tr|A0A100IIJ3|A0A100IIJ3_ASPNG Spermidine synthase OS=Aspergillus niger OX=5061 GN=ABL_04515 PE=3 SV=1', dbxrefs=[]),\n",
       " SeqRecord(seq=Seq('MKFSATTLAGASLLLGRAIAADLPAIEAKSNKFFYSNNGTQFFIRGVAYQQDYT...GEA'), id='tr|A0A100INU2|A0A100INU2_ASPNG', name='tr|A0A100INU2|A0A100INU2_ASPNG', description='tr|A0A100INU2|A0A100INU2_ASPNG 1,3-beta-glucanosyltransferase OS=Aspergillus niger OX=5061 GN=ABL_07290 PE=3 SV=1', dbxrefs=[]),\n",
       " SeqRecord(seq=Seq('MKTFSLSLALLAAASMVSADVSVSDCAQMCLSNMNNKASELGCSSGDLSCLCSK...FLL'), id='tr|A0A100IPX8|A0A100IPX8_ASPNG', name='tr|A0A100IPX8|A0A100IPX8_ASPNG', description='tr|A0A100IPX8|A0A100IPX8_ASPNG CFEM domain-containing protein OS=Aspergillus niger OX=5061 GN=ABL_07828 PE=3 SV=1', dbxrefs=[]),\n",
       " SeqRecord(seq=Seq('MGYQHATRDMVAYLRIASPIILLLIFVASFIASSIVTARNANKNANAVHTGPGG...ESH'), id='tr|A0A124BWF4|A0A124BWF4_ASPNG', name='tr|A0A124BWF4|A0A124BWF4_ASPNG', description='tr|A0A124BWF4|A0A124BWF4_ASPNG Alkaline phosphatase OS=Aspergillus niger OX=5061 GN=ABL_02941 PE=3 SV=1', dbxrefs=[]),\n",
       " SeqRecord(seq=Seq('MLTKNLLLCFAAAKAVLAVPHDSVVERSDALHKLSERSTPSSTGENNGFYYSFW...TVQ'), id='tr|F5CI28|F5CI28_ASPNG', name='tr|F5CI28|F5CI28_ASPNG', description='tr|F5CI28|F5CI28_ASPNG Endo-1,4-beta-xylanase OS=Aspergillus niger OX=5061 GN=xynB PE=2 SV=1', dbxrefs=[]),\n",
       " SeqRecord(seq=Seq('MKNLLLLLASFTGSLVQAQTGVTHPISEECGPSVVCVNHYANVLPYHFFRNVST...VLK'), id='tr|A0A100IHG4|A0A100IHG4_ASPNG', name='tr|A0A100IHG4|A0A100IHG4_ASPNG', description='tr|A0A100IHG4|A0A100IHG4_ASPNG Lactonohydrolase OS=Aspergillus niger OX=5061 GN=ABL_04072 PE=4 SV=1', dbxrefs=[]),\n",
       " SeqRecord(seq=Seq('MKLPLFAAAAAGLANAASLPVERAEAEVASVAADLIVRALPNAPDGYTPSNVTC...FML'), id='tr|A0A100IR60|A0A100IR60_ASPNG', name='tr|A0A100IR60|A0A100IR60_ASPNG', description='tr|A0A100IR60|A0A100IR60_ASPNG Lysophospholipase OS=Aspergillus niger OX=5061 GN=ABL_08505 PE=3 SV=1', dbxrefs=[]),\n",
       " SeqRecord(seq=Seq('MRPLQPYLLHILPLLPLTHSTNTNTTDILTHINPLIGTTNGGNVFAGATLPYGM...MEV'), id='tr|A0A117E3B9|A0A117E3B9_ASPNG', name='tr|A0A117E3B9|A0A117E3B9_ASPNG', description='tr|A0A117E3B9|A0A117E3B9_ASPNG Secreted glycosidase OS=Aspergillus niger OX=5061 GN=ABL_09526 PE=4 SV=1', dbxrefs=[]),\n",
       " SeqRecord(seq=Seq('MFPTYTQLFAAACAFATTANAVTPIEVKGKDFVNSKTGDRFQILGVDYQPGGSS...FML'), id='tr|A0A100IIK3|A0A100IIK3_ASPNG', name='tr|A0A100IIK3|A0A100IIK3_ASPNG', description='tr|A0A100IIK3|A0A100IIK3_ASPNG 1,3-beta-glucanosyltransferase OS=Aspergillus niger OX=5061 GN=ABL_04572 PE=3 SV=1', dbxrefs=[]),\n",
       " SeqRecord(seq=Seq('MSKFLLWTVSAAALARAATLEQVCTVAHAKAAVPASGLVQGVVTNPSSVTAVPV...PIY'), id='tr|A0A100IN24|A0A100IN24_ASPNG', name='tr|A0A100IN24|A0A100IN24_ASPNG', description='tr|A0A100IN24|A0A100IN24_ASPNG Carboxylic ester hydrolase OS=Aspergillus niger OX=5061 GN=ABL_06870 PE=3 SV=1', dbxrefs=[]),\n",
       " SeqRecord(seq=Seq('MAPKSLFYSLFSTISVALASSIPQTDYDVIVVGGGPAGLSVLSSLGRMRRRTLM...RRS'), id='tr|A0A117E1C5|A0A117E1C5_ASPNG', name='tr|A0A117E1C5|A0A117E1C5_ASPNG', description='tr|A0A117E1C5|A0A117E1C5_ASPNG Sulphydryl oxidase Sox OS=Aspergillus niger OX=5061 GN=ABL_06509 PE=4 SV=1', dbxrefs=[]),\n",
       " SeqRecord(seq=Seq('MSNLPHEPEFEQAYKELASTLENSTLFQKNPEYRKALAVVSVPERVIQFRVVWE...DWW'), id='tr|A0A100I9R5|A0A100I9R5_ASPNG', name='tr|A0A100I9R5|A0A100I9R5_ASPNG', description='tr|A0A100I9R5|A0A100I9R5_ASPNG Glutamate dehydrogenase OS=Aspergillus niger OX=5061 GN=ABL_02070 PE=3 SV=1', dbxrefs=[]),\n",
       " SeqRecord(seq=Seq('MAFIKYALPALAAAQVAMAASCGSTDSTITISSQSDLDSYATCTTLKGDVEISE...YAL'), id='tr|A0A117DX26|A0A117DX26_ASPNG', name='tr|A0A117DX26|A0A117DX26_ASPNG', description='tr|A0A117DX26|A0A117DX26_ASPNG GPI-anchored cell wall organization protein Ecm33 OS=Aspergillus niger OX=5061 GN=ABL_02084 PE=4 SV=1', dbxrefs=[]),\n",
       " SeqRecord(seq=Seq('MASYPKKKCGVLGATGSVGQRFILLLADHPFLELHAVGASERSAGKQYKDAVRW...GYI'), id='tr|A0A100INW1|A0A100INW1_ASPNG', name='tr|A0A100INW1|A0A100INW1_ASPNG', description='tr|A0A100INW1|A0A100INW1_ASPNG Aspartate-semialdehyde dehydrogenase OS=Aspergillus niger OX=5061 GN=ABL_07317 PE=4 SV=1', dbxrefs=[]),\n",
       " SeqRecord(seq=Seq('MPLRAKVTNPAFGATASMSTAPIPKELPGDEPDDVLFHSHYGVRLIELNRPKKL...WVN'), id='tr|A0A100IKW0|A0A100IKW0_ASPNG', name='tr|A0A100IKW0|A0A100IKW0_ASPNG', description='tr|A0A100IKW0|A0A100IKW0_ASPNG Mitochondrial 3-hydroxyisobutyryl-CoA hydrolase OS=Aspergillus niger OX=5061 GN=ABL_05287 PE=4 SV=1', dbxrefs=[]),\n",
       " SeqRecord(seq=Seq('MYFSKTAAALAALLPLATAQTYTDCDPLNKTCPADTALSSTTFTTDFTSGSFGG...ALL'), id='tr|A0A100I7W0|A0A100I7W0_ASPNG', name='tr|A0A100I7W0|A0A100I7W0_ASPNG', description='tr|A0A100I7W0|A0A100I7W0_ASPNG Glycosidase OS=Aspergillus niger OX=5061 GN=ABL_01595 PE=3 SV=1', dbxrefs=[]),\n",
       " SeqRecord(seq=Seq('MASSAEPQTAPFGTWDSPITAATLTSKGISFAGIAATADGIIYVNEGRPAEEGR...KGE'), id='tr|A0A100IAD1|A0A100IAD1_ASPNG', name='tr|A0A100IAD1|A0A100IAD1_ASPNG', description='tr|A0A100IAD1|A0A100IAD1_ASPNG Dipeptidyl-peptidase V OS=Aspergillus niger OX=5061 GN=ABL_02226 PE=3 SV=1', dbxrefs=[]),\n",
       " SeqRecord(seq=Seq('MGAPTFKDSEKSANEVTSPPVYVDEDPEALKGEIHHGPNTDTQRGLSSRQLQLL...NDA'), id='tr|A0A124BXH6|A0A124BXH6_ASPNG', name='tr|A0A124BXH6|A0A124BXH6_ASPNG', description='tr|A0A124BXH6|A0A124BXH6_ASPNG L-glutamate gamma-semialdehyde dehydrogenase OS=Aspergillus niger OX=5061 GN=ABL_05084 PE=3 SV=1', dbxrefs=[]),\n",
       " SeqRecord(seq=Seq('MYGTLAYLSFFLTCSLARSVGDVHQHAARTTTQYAQKQPPLDTPWTEDVGTNPW...STN'), id='tr|A0A124BV73|A0A124BV73_ASPNG', name='tr|A0A124BV73|A0A124BV73_ASPNG', description='tr|A0A124BV73|A0A124BV73_ASPNG beta-mannosidase OS=Aspergillus niger OX=5061 GN=ABL_01111 PE=3 SV=1', dbxrefs=[])]"
      ]
     },
     "execution_count": 17,
     "metadata": {},
     "output_type": "execute_result"
    }
   ],
   "source": [
    "from_pdb1 = [seq[0] for seq in from_pdb1]\n",
    "from_pdb1"
   ]
  },
  {
   "cell_type": "code",
   "execution_count": 18,
   "id": "e6e23d23-d33a-40cd-b0d9-b1e2f048c609",
   "metadata": {},
   "outputs": [],
   "source": [
    "all_QM_proteins = list_of_biopython_objects1 + from_pdb1"
   ]
  },
  {
   "cell_type": "code",
   "execution_count": 38,
   "id": "75d798d6-fe27-40b1-b98b-fa781453104a",
   "metadata": {},
   "outputs": [
    {
     "data": {
      "text/plain": [
       "110"
      ]
     },
     "execution_count": 38,
     "metadata": {},
     "output_type": "execute_result"
    }
   ],
   "source": [
    "len(all_QM_proteins)"
   ]
  },
  {
   "cell_type": "markdown",
   "id": "51f8663f-f631-472f-b265-18de5b2064f7",
   "metadata": {
    "tags": []
   },
   "source": [
    "### for the bglA"
   ]
  },
  {
   "cell_type": "code",
   "execution_count": 19,
   "id": "0ab32755-3ae2-4203-9b37-a561c5bdf293",
   "metadata": {},
   "outputs": [],
   "source": [
    "for i in range( len(list_of_acc_numbers_bglA)): \n",
    "    if list_of_acc_numbers_bglA[i].endswith('p1'): \n",
    "        list_of_acc_numbers_bglA[i] = list_of_acc_numbers_bglA[i][:-3]"
   ]
  },
  {
   "cell_type": "code",
   "execution_count": 20,
   "id": "a9300424-1890-43a3-931c-1cf4402a0990",
   "metadata": {},
   "outputs": [],
   "source": [
    "list_of_biopython_objects2 = []\n",
    "not_in_genome2 = []\n",
    "list_of_names2 = []\n",
    "\n",
    "\n",
    "for acc in list_of_acc_numbers_bglA: \n",
    "    for protein in proteins: \n",
    "        if acc == protein.id: \n",
    "            # save \n",
    "            found_protein = protein.translate()\n",
    "            found_protein.id = protein.id\n",
    "            found_protein.name = protein.name \n",
    "            found_protein.description = protein.description\n",
    "\n",
    "            \n",
    "            list_of_biopython_objects2.append(found_protein)\n",
    "            list_of_names2.append(protein.id)\n",
    "            \n",
    "            \n",
    "# The ones that we didnt see in the genome             \n",
    "for acc in list_of_acc_numbers_bglA: \n",
    "    if acc not in list_of_names2:\n",
    "        not_in_genome2.append(acc)\n"
   ]
  },
  {
   "cell_type": "code",
   "execution_count": 21,
   "id": "725cc5a3-ee9f-455e-a850-8c9679416d18",
   "metadata": {},
   "outputs": [],
   "source": [
    "from_pdb2 = retrieve_sequences_from_PDB(not_in_genome2) "
   ]
  },
  {
   "cell_type": "code",
   "execution_count": 22,
   "id": "b86f3ed0-e3d0-4f72-b2da-a3672fa673ca",
   "metadata": {},
   "outputs": [
    {
     "name": "stdout",
     "output_type": "stream",
     "text": [
      "The number of proteins found in the genome is : 13. The remaining number is : 5\n"
     ]
    }
   ],
   "source": [
    "print(f'The number of proteins found in the genome is : {len(list_of_biopython_objects2)}. The remaining number is : {len(not_in_genome2)}')"
   ]
  },
  {
   "cell_type": "code",
   "execution_count": 23,
   "id": "72114e99-f5ef-4eca-8157-37c5d3cde6ec",
   "metadata": {},
   "outputs": [],
   "source": [
    "from_pdb2 = [seq[0] for seq in from_pdb2]\n"
   ]
  },
  {
   "cell_type": "code",
   "execution_count": 32,
   "id": "a23df5d1-192c-4eb7-87c4-c6863ec4075e",
   "metadata": {},
   "outputs": [],
   "source": [
    "all_blaA_proteins = list_of_biopython_objects2 + from_pdb2"
   ]
  },
  {
   "cell_type": "code",
   "execution_count": 37,
   "id": "66acaccc-35fd-446e-aed4-1e3da326d7b6",
   "metadata": {},
   "outputs": [
    {
     "data": {
      "text/plain": [
       "18"
      ]
     },
     "execution_count": 37,
     "metadata": {},
     "output_type": "execute_result"
    }
   ],
   "source": [
    "len(all_blaA_proteins)"
   ]
  },
  {
   "cell_type": "code",
   "execution_count": 30,
   "id": "e21eb3ec-9fec-41b7-9d77-9018f07619a5",
   "metadata": {},
   "outputs": [],
   "source": [
    "#with open('../data/cross_ref_proteins/all_blaA_proteins.fasta', 'w') as outfile:\n",
    "#\n",
    "#    for i in range(0, len(all_blaA_proteins)):\n",
    "#        print(all_blaA_proteins[i].format(\"fasta\"))"
   ]
  },
  {
   "cell_type": "code",
   "execution_count": 34,
   "id": "54378102-5513-47ff-82a0-78b3d8e23eab",
   "metadata": {},
   "outputs": [],
   "source": [
    "\n",
    "with open('../data/cross_ref_proteins/all_blaA_proteins.fasta', 'w') as outfile:\n",
    "    for i in range(0, len(all_blaA_proteins)):\n",
    "        print(all_blaA_proteins[i].format(\"fasta\"), file = outfile)"
   ]
  },
  {
   "cell_type": "code",
   "execution_count": 35,
   "id": "67b809e8-55cf-441c-9a1d-2a9f474b3c8f",
   "metadata": {},
   "outputs": [],
   "source": [
    "\n",
    "with open('../data/cross_ref_proteins/all_QM_proteins.fasta', 'w') as outfile:\n",
    "    for i in range(0, len(all_QM_proteins)):\n",
    "        print(all_QM_proteins[i].format(\"fasta\"), file = outfile)"
   ]
  },
  {
   "cell_type": "code",
   "execution_count": null,
   "id": "f0e8cc6a-80c1-4a96-b8cf-ab1a368e2e08",
   "metadata": {},
   "outputs": [],
   "source": []
  }
 ],
 "metadata": {
  "kernelspec": {
   "display_name": "Python 3 (ipykernel)",
   "language": "python",
   "name": "python3"
  },
  "language_info": {
   "codemirror_mode": {
    "name": "ipython",
    "version": 3
   },
   "file_extension": ".py",
   "mimetype": "text/x-python",
   "name": "python",
   "nbconvert_exporter": "python",
   "pygments_lexer": "ipython3",
   "version": "3.9.7"
  }
 },
 "nbformat": 4,
 "nbformat_minor": 5
}
