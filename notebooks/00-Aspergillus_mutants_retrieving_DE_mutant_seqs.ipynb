{
 "cells": [
  {
   "cell_type": "code",
   "execution_count": 20,
   "id": "2604a417-48b0-43ae-a530-0a778c5a02de",
   "metadata": {},
   "outputs": [],
   "source": [
    "import pandas as pd\n",
    "from teemi.design.fetch_sequences import read_fasta_files"
   ]
  },
  {
   "cell_type": "markdown",
   "id": "31d57d1e",
   "metadata": {},
   "source": [
    "# 0. Aspergillus mutants "
   ]
  },
  {
   "cell_type": "markdown",
   "id": "2f7f108b",
   "metadata": {},
   "source": [
    "First we import the aspergillus niger genome."
   ]
  },
  {
   "cell_type": "code",
   "execution_count": 21,
   "id": "7f1cf73f-9d27-4649-a658-7851e9d5043e",
   "metadata": {},
   "outputs": [],
   "source": [
    "path_to_file = '../data/genome_files/FungiDB-61_AnigerATCC1015_AnnotatedCDSs.fasta'"
   ]
  },
  {
   "cell_type": "code",
   "execution_count": 22,
   "id": "7344d872-c9b2-47ae-9457-501fdbaf22f3",
   "metadata": {},
   "outputs": [],
   "source": [
    "proteins = read_fasta_files(path_to_file)"
   ]
  },
  {
   "cell_type": "markdown",
   "id": "1da1060e-c091-4a34-be2f-1d97b69f81de",
   "metadata": {},
   "source": [
    "We can take a quick look at the proteins."
   ]
  },
  {
   "cell_type": "code",
   "execution_count": 23,
   "id": "441daf52-2c69-4df5-9cb6-ca4de63545ce",
   "metadata": {},
   "outputs": [
    {
     "data": {
      "text/plain": [
       "[SeqRecord(seq=Seq('ATGGGTGACTTGGGTCCATATCTCGAATACGATGGTGAGGACTATATATGTTCT...TGA'), id='ASPNIDRAFT2_1000234-t41_1', name='ASPNIDRAFT2_1000234-t41_1', description='ASPNIDRAFT2_1000234-t41_1 | organism=Aspergillus_niger_ATCC_1015 | product=hypothetical protein | location=ACJE01000001.1:254822-255232(-) | length=411 | sequence_SO=supercontig | SO=protein_coding_gene', dbxrefs=[]),\n",
       " SeqRecord(seq=Seq('ATGTCGGCGACAATGTCCTCATCGCCCTCCGCCCGCTCTTCGACGCTAACTCCG...TAG'), id='ASPNIDRAFT2_1000395-t41_1', name='ASPNIDRAFT2_1000395-t41_1', description='ASPNIDRAFT2_1000395-t41_1 | organism=Aspergillus_niger_ATCC_1015 | product=hypothetical protein | location=ACJE01000001.1:545592-546884(+) | length=1293 | sequence_SO=supercontig | SO=protein_coding_gene', dbxrefs=[]),\n",
       " SeqRecord(seq=Seq('ATGGCGGGCACCATGGCCGACGACGAACTCTTCACAAGGGCCATCTCTGGGTAT...TGA'), id='ASPNIDRAFT2_1000674-t41_1', name='ASPNIDRAFT2_1000674-t41_1', description='ASPNIDRAFT2_1000674-t41_1 | organism=Aspergillus_niger_ATCC_1015 | product=hypothetical protein | location=ACJE01000001.1:808777-810906(-) | length=2130 | sequence_SO=supercontig | SO=protein_coding_gene', dbxrefs=[]),\n",
       " SeqRecord(seq=Seq('ATGTCCCCGCCAGCTATCATTGCTCCCTCCATCCTGAGTGCCGACTTCGGCACC...TAA'), id='ASPNIDRAFT2_1000708-t41_1', name='ASPNIDRAFT2_1000708-t41_1', description='ASPNIDRAFT2_1000708-t41_1 | organism=Aspergillus_niger_ATCC_1015 | product=hypothetical protein|Ribulose-phosphate 3-epimerase | location=ACJE01000001.1:822328-823339(-) | length=1012 | sequence_SO=supercontig | SO=protein_coding_gene', dbxrefs=[]),\n",
       " SeqRecord(seq=Seq('ATGGCATACATTGGCGACGCAGCGGTCATCTTCTTTGTCATTCTCGGCTGTGTA...TGA'), id='ASPNIDRAFT2_1000793-t41_1', name='ASPNIDRAFT2_1000793-t41_1', description='ASPNIDRAFT2_1000793-t41_1 | organism=Aspergillus_niger_ATCC_1015 | product=hypothetical protein | location=ACJE01000001.1:898733-898969(+) | length=237 | sequence_SO=supercontig | SO=protein_coding_gene', dbxrefs=[]),\n",
       " SeqRecord(seq=Seq('ATGTATGCCTCTCAACAGCCTGCTACCTACGCCTACCCACCTGGCGTGACGCTG...TGA'), id='ASPNIDRAFT2_1001006-t41_1', name='ASPNIDRAFT2_1001006-t41_1', description='ASPNIDRAFT2_1001006-t41_1 | organism=Aspergillus_niger_ATCC_1015 | product=Pal1-domain containing protein | location=ACJE01000001.1:1064356-1066246(+) | length=1891 | sequence_SO=supercontig | SO=protein_coding_gene', dbxrefs=[]),\n",
       " SeqRecord(seq=Seq('ATGGCCAACACCGAGTCGGGCGACTCAATCCTCAATGCCGGACAGGCACTGAGC...TGA'), id='ASPNIDRAFT2_1001019-t41_1', name='ASPNIDRAFT2_1001019-t41_1', description='ASPNIDRAFT2_1001019-t41_1 | organism=Aspergillus_niger_ATCC_1015 | product=expressed protein | location=ACJE01000001.1:1071739-1073630(+) | length=1892 | sequence_SO=supercontig | SO=protein_coding_gene', dbxrefs=[]),\n",
       " SeqRecord(seq=Seq('ATGGACACTGGCGGTCTTGCTCAAATGACCTACAACTCCTCTTTCAATAATGGC...TAA'), id='ASPNIDRAFT2_1001071-t41_1', name='ASPNIDRAFT2_1001071-t41_1', description='ASPNIDRAFT2_1001071-t41_1 | organism=Aspergillus_niger_ATCC_1015 | product=hypothetical protein | location=ACJE01000001.1:1102891-1104621(-) | length=1731 | sequence_SO=supercontig | SO=protein_coding_gene', dbxrefs=[]),\n",
       " SeqRecord(seq=Seq('ATGACACAACAAAGAAAGACCATTGCCGTGGTGAACGCTACGGGTCGCCAGGCG...TGA'), id='ASPNIDRAFT2_1001118-t41_1', name='ASPNIDRAFT2_1001118-t41_1', description='ASPNIDRAFT2_1001118-t41_1 | organism=Aspergillus_niger_ATCC_1015 | product=NAD(P)-binding protein | location=ACJE01000001.1:1132605-1133724(-) | length=1120 | sequence_SO=supercontig | SO=protein_coding_gene', dbxrefs=[]),\n",
       " SeqRecord(seq=Seq('ATGTTTTCCAAGTCCATTCTTGCGGCCGCTGCTCTCCTGGGCATTTCGGCTGTT...TAA'), id='ASPNIDRAFT2_1001171-t41_1', name='ASPNIDRAFT2_1001171-t41_1', description='ASPNIDRAFT2_1001171-t41_1 | organism=Aspergillus_niger_ATCC_1015 | product=Lytic polysaccharide monooxygenase | location=ACJE01000001.1:1191296-1192525(+) | length=1230 | sequence_SO=supercontig | SO=protein_coding_gene', dbxrefs=[])]"
      ]
     },
     "execution_count": 23,
     "metadata": {},
     "output_type": "execute_result"
    }
   ],
   "source": [
    "proteins[:10]"
   ]
  },
  {
   "cell_type": "markdown",
   "id": "45f95038",
   "metadata": {},
   "source": [
    "# 1. Importing the mutants strains\n",
    "\n",
    "Now lets import the mutants strains"
   ]
  },
  {
   "cell_type": "code",
   "execution_count": 24,
   "id": "e3fb59d3-0eec-44c4-9376-d9c29a9c68cd",
   "metadata": {},
   "outputs": [],
   "source": [
    "import pandas as pd"
   ]
  },
  {
   "cell_type": "code",
   "execution_count": 25,
   "id": "3710ccf8-19b8-4394-8fe9-227de4d3a6a7",
   "metadata": {},
   "outputs": [],
   "source": [
    "xls = pd.ExcelFile('../data/mutant_strains_on_sugarcane_bagasse/FungiDB_proteins_mutant strain sugarcane bagasse_Table Fer.xlsx')\n",
    "df1 = pd.read_excel(xls, 'QMprtT>WTprtT')\n",
    "df2 = pd.read_excel(xls, 'bglA>WTprtT')"
   ]
  },
  {
   "cell_type": "markdown",
   "id": "f4d67637",
   "metadata": {},
   "source": [
    "The following is the QM mutant:"
   ]
  },
  {
   "cell_type": "code",
   "execution_count": 26,
   "id": "ed357128",
   "metadata": {},
   "outputs": [
    {
     "data": {
      "text/html": [
       "<div>\n",
       "<style scoped>\n",
       "    .dataframe tbody tr th:only-of-type {\n",
       "        vertical-align: middle;\n",
       "    }\n",
       "\n",
       "    .dataframe tbody tr th {\n",
       "        vertical-align: top;\n",
       "    }\n",
       "\n",
       "    .dataframe thead th {\n",
       "        text-align: right;\n",
       "    }\n",
       "</style>\n",
       "<table border=\"1\" class=\"dataframe\">\n",
       "  <thead>\n",
       "    <tr style=\"text-align: right;\">\n",
       "      <th></th>\n",
       "      <th>QMprtT/WTprtT</th>\n",
       "      <th>Unnamed: 1</th>\n",
       "      <th>Unnamed: 2</th>\n",
       "      <th>Unnamed: 3</th>\n",
       "      <th>Unnamed: 4</th>\n",
       "      <th>Unnamed: 5</th>\n",
       "      <th>Unnamed: 6</th>\n",
       "      <th>Unnamed: 7</th>\n",
       "      <th>Unnamed: 8</th>\n",
       "      <th>Unnamed: 9</th>\n",
       "    </tr>\n",
       "  </thead>\n",
       "  <tbody>\n",
       "    <tr>\n",
       "      <th>0</th>\n",
       "      <td>Accession</td>\n",
       "      <td>Description</td>\n",
       "      <td>MW [kDa]</td>\n",
       "      <td>Pfam IDs</td>\n",
       "      <td>Gene ID</td>\n",
       "      <td>Gene Symbol</td>\n",
       "      <td>FC QMprtt/WTprtT</td>\n",
       "      <td>FC Log2</td>\n",
       "      <td>P.Value</td>\n",
       "      <td>Log 10 P.Value (p/ normalizar e ficar positivo)</td>\n",
       "    </tr>\n",
       "    <tr>\n",
       "      <th>1</th>\n",
       "      <td>ASPNIDRAFT2_1162209-t41_1-p1</td>\n",
       "      <td>transcript=ASPNIDRAFT2_1162209-t41_1 | gene=AS...</td>\n",
       "      <td>102.8</td>\n",
       "      <td>Pf03639, Pf17652</td>\n",
       "      <td>ASPNIDRAFT2_1161570-t41_1-p1; G3XPD3; O74705</td>\n",
       "      <td>eglA</td>\n",
       "      <td>0.015413</td>\n",
       "      <td>6.019727</td>\n",
       "      <td>0.042122</td>\n",
       "      <td>1.375491</td>\n",
       "    </tr>\n",
       "    <tr>\n",
       "      <th>2</th>\n",
       "      <td>ASPNIDRAFT2_1107559-t41_1-p1</td>\n",
       "      <td>transcript=ASPNIDRAFT2_1107559-t41_1 | gene=AS...</td>\n",
       "      <td>48.4</td>\n",
       "      <td>Pf03198</td>\n",
       "      <td>A0A254UGW5; A0A370PS97; ASPNIDRAFT2_1164625-t4...</td>\n",
       "      <td>cbhA</td>\n",
       "      <td>0.033533</td>\n",
       "      <td>4.898262</td>\n",
       "      <td>0.004844</td>\n",
       "      <td>2.314809</td>\n",
       "    </tr>\n",
       "    <tr>\n",
       "      <th>3</th>\n",
       "      <td>ASPNIDRAFT2_182100-t41_1-p1</td>\n",
       "      <td>transcript=ASPNIDRAFT2_182100-t41_1 | gene=ASP...</td>\n",
       "      <td>35.2</td>\n",
       "      <td>Pf04616</td>\n",
       "      <td>A0A370PMG0; A0A3F3R667; ASPNIDRAFT2_1117716-t4...</td>\n",
       "      <td>cbhB</td>\n",
       "      <td>0.034722</td>\n",
       "      <td>4.848026</td>\n",
       "      <td>0.000809</td>\n",
       "      <td>3.092135</td>\n",
       "    </tr>\n",
       "    <tr>\n",
       "      <th>4</th>\n",
       "      <td>A0A100I6G0</td>\n",
       "      <td>Alpha-L-arabinofuranosidase OS=Aspergillus nig...</td>\n",
       "      <td>36</td>\n",
       "      <td>Pf03664</td>\n",
       "      <td>A0A3F3Q848; A0A3F3RYM6; ASPNIDRAFT2_1147525-t4...</td>\n",
       "      <td>bglA</td>\n",
       "      <td>0.035884</td>\n",
       "      <td>4.800519</td>\n",
       "      <td>0.000059</td>\n",
       "      <td>4.227304</td>\n",
       "    </tr>\n",
       "    <tr>\n",
       "      <th>...</th>\n",
       "      <td>...</td>\n",
       "      <td>...</td>\n",
       "      <td>...</td>\n",
       "      <td>...</td>\n",
       "      <td>...</td>\n",
       "      <td>...</td>\n",
       "      <td>...</td>\n",
       "      <td>...</td>\n",
       "      <td>...</td>\n",
       "      <td>...</td>\n",
       "    </tr>\n",
       "    <tr>\n",
       "      <th>106</th>\n",
       "      <td>ASPNIDRAFT2_1147022-t41_1-p1</td>\n",
       "      <td>transcript=ASPNIDRAFT2_1147022-t41_1 | gene=AS...</td>\n",
       "      <td>69.1</td>\n",
       "      <td>Pf00128, Pf00686, Pf09260</td>\n",
       "      <td>A0A124BX74; A0A317UZV5; A0A318ZIC9; A0A319ALR0...</td>\n",
       "      <td>NaN</td>\n",
       "      <td>9.61506</td>\n",
       "      <td>-3.265296</td>\n",
       "      <td>0.000184</td>\n",
       "      <td>3.735099</td>\n",
       "    </tr>\n",
       "    <tr>\n",
       "      <th>107</th>\n",
       "      <td>ASPNIDRAFT2_1129152-t41_1-p1</td>\n",
       "      <td>transcript=ASPNIDRAFT2_1129152-t41_1 | gene=AS...</td>\n",
       "      <td>64.3</td>\n",
       "      <td>Pf04616, Pf17851</td>\n",
       "      <td>A0A319AAQ5; A0A370PMJ5; A0A3F3RY59; A0A401KSM5...</td>\n",
       "      <td>NaN</td>\n",
       "      <td>10.286103</td>\n",
       "      <td>-3.362625</td>\n",
       "      <td>0.002314</td>\n",
       "      <td>2.635597</td>\n",
       "    </tr>\n",
       "    <tr>\n",
       "      <th>108</th>\n",
       "      <td>ASPNIDRAFT2_1088919-t41_1-p1</td>\n",
       "      <td>transcript=ASPNIDRAFT2_1088919-t41_1 | gene=AS...</td>\n",
       "      <td>43.6</td>\n",
       "      <td>Pf00704</td>\n",
       "      <td>A0A117DXA3</td>\n",
       "      <td>NaN</td>\n",
       "      <td>13.677829</td>\n",
       "      <td>-3.773767</td>\n",
       "      <td>0.000253</td>\n",
       "      <td>3.596397</td>\n",
       "    </tr>\n",
       "    <tr>\n",
       "      <th>109</th>\n",
       "      <td>ASPNIDRAFT2_1161570-t41_1-p1</td>\n",
       "      <td>transcript=ASPNIDRAFT2_1161570-t41_1 | gene=AS...</td>\n",
       "      <td>25.8</td>\n",
       "      <td>Pf01670</td>\n",
       "      <td>A0A100INF1</td>\n",
       "      <td>NaN</td>\n",
       "      <td>13.736575</td>\n",
       "      <td>-3.77995</td>\n",
       "      <td>0.003287</td>\n",
       "      <td>2.483176</td>\n",
       "    </tr>\n",
       "    <tr>\n",
       "      <th>110</th>\n",
       "      <td>ASPNIDRAFT2_1158719-t41_1-p1</td>\n",
       "      <td>transcript=ASPNIDRAFT2_1158719-t41_1 | gene=AS...</td>\n",
       "      <td>92.2</td>\n",
       "      <td>Pf00933, Pf01915, Pf07691, Pf14310</td>\n",
       "      <td>A0A254TS39; A0A319AUI7; ASPNIDRAFT2_1144686-t4...</td>\n",
       "      <td>NaN</td>\n",
       "      <td>30.292059</td>\n",
       "      <td>-4.920868</td>\n",
       "      <td>0.000888</td>\n",
       "      <td>3.05154</td>\n",
       "    </tr>\n",
       "  </tbody>\n",
       "</table>\n",
       "<p>111 rows × 10 columns</p>\n",
       "</div>"
      ],
      "text/plain": [
       "                    QMprtT/WTprtT  \\\n",
       "0                       Accession   \n",
       "1    ASPNIDRAFT2_1162209-t41_1-p1   \n",
       "2    ASPNIDRAFT2_1107559-t41_1-p1   \n",
       "3     ASPNIDRAFT2_182100-t41_1-p1   \n",
       "4                      A0A100I6G0   \n",
       "..                            ...   \n",
       "106  ASPNIDRAFT2_1147022-t41_1-p1   \n",
       "107  ASPNIDRAFT2_1129152-t41_1-p1   \n",
       "108  ASPNIDRAFT2_1088919-t41_1-p1   \n",
       "109  ASPNIDRAFT2_1161570-t41_1-p1   \n",
       "110  ASPNIDRAFT2_1158719-t41_1-p1   \n",
       "\n",
       "                                            Unnamed: 1 Unnamed: 2  \\\n",
       "0                                          Description   MW [kDa]   \n",
       "1    transcript=ASPNIDRAFT2_1162209-t41_1 | gene=AS...      102.8   \n",
       "2    transcript=ASPNIDRAFT2_1107559-t41_1 | gene=AS...       48.4   \n",
       "3    transcript=ASPNIDRAFT2_182100-t41_1 | gene=ASP...       35.2   \n",
       "4    Alpha-L-arabinofuranosidase OS=Aspergillus nig...         36   \n",
       "..                                                 ...        ...   \n",
       "106  transcript=ASPNIDRAFT2_1147022-t41_1 | gene=AS...       69.1   \n",
       "107  transcript=ASPNIDRAFT2_1129152-t41_1 | gene=AS...       64.3   \n",
       "108  transcript=ASPNIDRAFT2_1088919-t41_1 | gene=AS...       43.6   \n",
       "109  transcript=ASPNIDRAFT2_1161570-t41_1 | gene=AS...       25.8   \n",
       "110  transcript=ASPNIDRAFT2_1158719-t41_1 | gene=AS...       92.2   \n",
       "\n",
       "                             Unnamed: 3  \\\n",
       "0                              Pfam IDs   \n",
       "1                      Pf03639, Pf17652   \n",
       "2                               Pf03198   \n",
       "3                               Pf04616   \n",
       "4                               Pf03664   \n",
       "..                                  ...   \n",
       "106           Pf00128, Pf00686, Pf09260   \n",
       "107                    Pf04616, Pf17851   \n",
       "108                             Pf00704   \n",
       "109                             Pf01670   \n",
       "110  Pf00933, Pf01915, Pf07691, Pf14310   \n",
       "\n",
       "                                            Unnamed: 4   Unnamed: 5  \\\n",
       "0                                              Gene ID  Gene Symbol   \n",
       "1         ASPNIDRAFT2_1161570-t41_1-p1; G3XPD3; O74705         eglA   \n",
       "2    A0A254UGW5; A0A370PS97; ASPNIDRAFT2_1164625-t4...         cbhA   \n",
       "3    A0A370PMG0; A0A3F3R667; ASPNIDRAFT2_1117716-t4...         cbhB   \n",
       "4    A0A3F3Q848; A0A3F3RYM6; ASPNIDRAFT2_1147525-t4...         bglA   \n",
       "..                                                 ...          ...   \n",
       "106  A0A124BX74; A0A317UZV5; A0A318ZIC9; A0A319ALR0...          NaN   \n",
       "107  A0A319AAQ5; A0A370PMJ5; A0A3F3RY59; A0A401KSM5...          NaN   \n",
       "108                                         A0A117DXA3          NaN   \n",
       "109                                         A0A100INF1          NaN   \n",
       "110  A0A254TS39; A0A319AUI7; ASPNIDRAFT2_1144686-t4...          NaN   \n",
       "\n",
       "           Unnamed: 6 Unnamed: 7 Unnamed: 8  \\\n",
       "0    FC QMprtt/WTprtT    FC Log2    P.Value   \n",
       "1            0.015413   6.019727   0.042122   \n",
       "2            0.033533   4.898262   0.004844   \n",
       "3            0.034722   4.848026   0.000809   \n",
       "4            0.035884   4.800519   0.000059   \n",
       "..                ...        ...        ...   \n",
       "106           9.61506  -3.265296   0.000184   \n",
       "107         10.286103  -3.362625   0.002314   \n",
       "108         13.677829  -3.773767   0.000253   \n",
       "109         13.736575   -3.77995   0.003287   \n",
       "110         30.292059  -4.920868   0.000888   \n",
       "\n",
       "                                          Unnamed: 9  \n",
       "0    Log 10 P.Value (p/ normalizar e ficar positivo)  \n",
       "1                                           1.375491  \n",
       "2                                           2.314809  \n",
       "3                                           3.092135  \n",
       "4                                           4.227304  \n",
       "..                                               ...  \n",
       "106                                         3.735099  \n",
       "107                                         2.635597  \n",
       "108                                         3.596397  \n",
       "109                                         2.483176  \n",
       "110                                          3.05154  \n",
       "\n",
       "[111 rows x 10 columns]"
      ]
     },
     "execution_count": 26,
     "metadata": {},
     "output_type": "execute_result"
    }
   ],
   "source": [
    "df1"
   ]
  },
  {
   "cell_type": "markdown",
   "id": "3e375a6a",
   "metadata": {},
   "source": [
    "And the next is the bglA mutant"
   ]
  },
  {
   "cell_type": "code",
   "execution_count": 27,
   "id": "430e03ae",
   "metadata": {},
   "outputs": [
    {
     "data": {
      "text/html": [
       "<div>\n",
       "<style scoped>\n",
       "    .dataframe tbody tr th:only-of-type {\n",
       "        vertical-align: middle;\n",
       "    }\n",
       "\n",
       "    .dataframe tbody tr th {\n",
       "        vertical-align: top;\n",
       "    }\n",
       "\n",
       "    .dataframe thead th {\n",
       "        text-align: right;\n",
       "    }\n",
       "</style>\n",
       "<table border=\"1\" class=\"dataframe\">\n",
       "  <thead>\n",
       "    <tr style=\"text-align: right;\">\n",
       "      <th></th>\n",
       "      <th>Unnamed: 0</th>\n",
       "      <th>bglA/WTprtT</th>\n",
       "      <th>Unnamed: 2</th>\n",
       "      <th>Unnamed: 3</th>\n",
       "      <th>Unnamed: 4</th>\n",
       "      <th>Unnamed: 5</th>\n",
       "      <th>Unnamed: 6</th>\n",
       "      <th>Unnamed: 7</th>\n",
       "      <th>Unnamed: 8</th>\n",
       "      <th>Unnamed: 9</th>\n",
       "    </tr>\n",
       "  </thead>\n",
       "  <tbody>\n",
       "    <tr>\n",
       "      <th>0</th>\n",
       "      <td>Accession</td>\n",
       "      <td>Description</td>\n",
       "      <td>MW [kDa]</td>\n",
       "      <td>Pfam IDs</td>\n",
       "      <td>Gene ID</td>\n",
       "      <td>Gene Symbol</td>\n",
       "      <td>FC bglA/WTprtT</td>\n",
       "      <td>FC Log 2</td>\n",
       "      <td>P.Value</td>\n",
       "      <td>Log 10 P.Value (p/ normalizar e ficar positivo)</td>\n",
       "    </tr>\n",
       "    <tr>\n",
       "      <th>1</th>\n",
       "      <td>ASPNIDRAFT2_1147525-t41_1-p1</td>\n",
       "      <td>transcript=ASPNIDRAFT2_1147525-t41_1 | gene=AS...</td>\n",
       "      <td>93.2</td>\n",
       "      <td>Pf00933, Pf01915, Pf14310</td>\n",
       "      <td>A0A3F3Q848; A0A3F3RYM6; ASPNIDRAFT2_1147525-t4...</td>\n",
       "      <td>bglA</td>\n",
       "      <td>0.004248</td>\n",
       "      <td>7.879107</td>\n",
       "      <td>0.000033</td>\n",
       "      <td>4.477344</td>\n",
       "    </tr>\n",
       "    <tr>\n",
       "      <th>2</th>\n",
       "      <td>A0A124BXG2</td>\n",
       "      <td>Proline iminopeptidase OS=Aspergillus niger OX...</td>\n",
       "      <td>50.6</td>\n",
       "      <td>Pf00561</td>\n",
       "      <td>A0A124BXG2</td>\n",
       "      <td>NaN</td>\n",
       "      <td>0.38105</td>\n",
       "      <td>1.391947</td>\n",
       "      <td>0.011019</td>\n",
       "      <td>1.957844</td>\n",
       "    </tr>\n",
       "    <tr>\n",
       "      <th>3</th>\n",
       "      <td>A0A117E1I5</td>\n",
       "      <td>L-ascorbate oxidase OS=Aspergillus niger OX=50...</td>\n",
       "      <td>68.3</td>\n",
       "      <td>Pf00394, Pf07731, Pf07732</td>\n",
       "      <td>A0A117E1I5; A0A8H3T346</td>\n",
       "      <td>NaN</td>\n",
       "      <td>0.608548</td>\n",
       "      <td>0.716558</td>\n",
       "      <td>0.026034</td>\n",
       "      <td>1.58446</td>\n",
       "    </tr>\n",
       "    <tr>\n",
       "      <th>4</th>\n",
       "      <td>ASPNIDRAFT2_182100-t41_1-p1</td>\n",
       "      <td>transcript=ASPNIDRAFT2_182100-t41_1 | gene=ASP...</td>\n",
       "      <td>35.2</td>\n",
       "      <td>Pf04616</td>\n",
       "      <td>ASPNIDRAFT2_182100-t41_1-p1; G3XY38</td>\n",
       "      <td>NaN</td>\n",
       "      <td>0.613767</td>\n",
       "      <td>0.704237</td>\n",
       "      <td>0.00589</td>\n",
       "      <td>2.229896</td>\n",
       "    </tr>\n",
       "    <tr>\n",
       "      <th>5</th>\n",
       "      <td>ASPNIDRAFT2_1154180-t41_1-p1</td>\n",
       "      <td>transcript=ASPNIDRAFT2_1154180-t41_1 | gene=AS...</td>\n",
       "      <td>64</td>\n",
       "      <td>Pf00232</td>\n",
       "      <td>A0A254UES9; A0A319A9K7; A2QVN9; ang:ANI_1_1704...</td>\n",
       "      <td>NaN</td>\n",
       "      <td>0.696055</td>\n",
       "      <td>0.522728</td>\n",
       "      <td>0.039932</td>\n",
       "      <td>1.398674</td>\n",
       "    </tr>\n",
       "    <tr>\n",
       "      <th>6</th>\n",
       "      <td>A0A117E2B9</td>\n",
       "      <td>ABC multidrug transporter Mdr1 OS=Aspergillus ...</td>\n",
       "      <td>147.5</td>\n",
       "      <td>Pf00005, Pf00664</td>\n",
       "      <td>A0A117E2B9; A0A1L9N4W3; A0A8H3Y2K7</td>\n",
       "      <td>NaN</td>\n",
       "      <td>0</td>\n",
       "      <td>0</td>\n",
       "      <td>0.001812</td>\n",
       "      <td>2.741919</td>\n",
       "    </tr>\n",
       "    <tr>\n",
       "      <th>7</th>\n",
       "      <td>A0A100IN24</td>\n",
       "      <td>Carboxylic ester hydrolase OS=Aspergillus nige...</td>\n",
       "      <td>62.9</td>\n",
       "      <td>Pf07519</td>\n",
       "      <td>A0A100IN24; A0A8H3T584</td>\n",
       "      <td>NaN</td>\n",
       "      <td>1.419654</td>\n",
       "      <td>-0.50554</td>\n",
       "      <td>0.023131</td>\n",
       "      <td>1.635802</td>\n",
       "    </tr>\n",
       "    <tr>\n",
       "      <th>8</th>\n",
       "      <td>ASPNIDRAFT2_1159267-t41_1-p1</td>\n",
       "      <td>transcript=ASPNIDRAFT2_1159267-t41_1 | gene=AS...</td>\n",
       "      <td>35.8</td>\n",
       "      <td>Pf03664</td>\n",
       "      <td>A0A254U9U2; A0A319AIC0; A0A370C2G3; A2QFV9; an...</td>\n",
       "      <td>axhA</td>\n",
       "      <td>1.50742</td>\n",
       "      <td>-0.592081</td>\n",
       "      <td>0.033599</td>\n",
       "      <td>1.473669</td>\n",
       "    </tr>\n",
       "    <tr>\n",
       "      <th>9</th>\n",
       "      <td>A0A100INU2</td>\n",
       "      <td>1,3-beta-glucanosyltransferase OS=Aspergillus ...</td>\n",
       "      <td>114.5</td>\n",
       "      <td>Pf03198, Pf07690, Pf07983</td>\n",
       "      <td>A0A100INU2</td>\n",
       "      <td>NaN</td>\n",
       "      <td>1.547592</td>\n",
       "      <td>-0.630025</td>\n",
       "      <td>0.022288</td>\n",
       "      <td>1.651922</td>\n",
       "    </tr>\n",
       "    <tr>\n",
       "      <th>10</th>\n",
       "      <td>ASPNIDRAFT2_1178295-t41_1-p1</td>\n",
       "      <td>transcript=ASPNIDRAFT2_1178295-t41_1 | gene=AS...</td>\n",
       "      <td>32.8</td>\n",
       "      <td>Pf04616</td>\n",
       "      <td>A0A254UEV5; ASPNIDRAFT2_1178295-t41_1-p1</td>\n",
       "      <td>NaN</td>\n",
       "      <td>1.575563</td>\n",
       "      <td>-0.655868</td>\n",
       "      <td>0.041066</td>\n",
       "      <td>1.386515</td>\n",
       "    </tr>\n",
       "    <tr>\n",
       "      <th>11</th>\n",
       "      <td>ASPNIDRAFT2_54860-t41_1-p1</td>\n",
       "      <td>transcript=ASPNIDRAFT2_54860-t41_1 | gene=ASPN...</td>\n",
       "      <td>43.5</td>\n",
       "      <td>Pf06516</td>\n",
       "      <td>A0A254U4P8; A0A318ZV28; A0A370BKR4; A0A370PDC4...</td>\n",
       "      <td>NaN</td>\n",
       "      <td>1.659177</td>\n",
       "      <td>-0.730468</td>\n",
       "      <td>0.004326</td>\n",
       "      <td>2.363903</td>\n",
       "    </tr>\n",
       "    <tr>\n",
       "      <th>12</th>\n",
       "      <td>ASPNIDRAFT2_1160135-t41_1-p1</td>\n",
       "      <td>transcript=ASPNIDRAFT2_1160135-t41_1 | gene=AS...</td>\n",
       "      <td>104.1</td>\n",
       "      <td>NaN</td>\n",
       "      <td>ASPNIDRAFT2_1160135-t41_1-p1</td>\n",
       "      <td>NaN</td>\n",
       "      <td>1.756284</td>\n",
       "      <td>-0.812526</td>\n",
       "      <td>0.014111</td>\n",
       "      <td>1.850447</td>\n",
       "    </tr>\n",
       "    <tr>\n",
       "      <th>13</th>\n",
       "      <td>ASPNIDRAFT2_1187269-t41_1-p1</td>\n",
       "      <td>transcript=ASPNIDRAFT2_1187269-t41_1 | gene=AS...</td>\n",
       "      <td>58.9</td>\n",
       "      <td>Pf06824</td>\n",
       "      <td>A0A254TVB4; A0A319A8C5; ASPNIDRAFT2_1187269-t4...</td>\n",
       "      <td>NaN</td>\n",
       "      <td>1.801046</td>\n",
       "      <td>-0.848835</td>\n",
       "      <td>0.031761</td>\n",
       "      <td>1.49811</td>\n",
       "    </tr>\n",
       "    <tr>\n",
       "      <th>14</th>\n",
       "      <td>ASPNIDRAFT2_1183516-t41_1-p1</td>\n",
       "      <td>transcript=ASPNIDRAFT2_1183516-t41_1 | gene=AS...</td>\n",
       "      <td>52.5</td>\n",
       "      <td>Pf05270, Pf09206</td>\n",
       "      <td>A0A254UCU1; ASPNIDRAFT2_1183516-t41_1-p1; G3XX...</td>\n",
       "      <td>abfB</td>\n",
       "      <td>1.877009</td>\n",
       "      <td>-0.908435</td>\n",
       "      <td>0.010732</td>\n",
       "      <td>1.969319</td>\n",
       "    </tr>\n",
       "    <tr>\n",
       "      <th>15</th>\n",
       "      <td>ASPNIDRAFT2_1162209-t41_1-p1</td>\n",
       "      <td>transcript=ASPNIDRAFT2_1162209-t41_1 | gene=AS...</td>\n",
       "      <td>102.8</td>\n",
       "      <td>Pf03639, Pf17652</td>\n",
       "      <td>A0A254TYE5; ASPNIDRAFT2_1162209-t41_1-p1</td>\n",
       "      <td>NaN</td>\n",
       "      <td>1.919445</td>\n",
       "      <td>-0.940689</td>\n",
       "      <td>0.009568</td>\n",
       "      <td>2.019156</td>\n",
       "    </tr>\n",
       "    <tr>\n",
       "      <th>16</th>\n",
       "      <td>ASPNIDRAFT2_1162768-t41_1-p1</td>\n",
       "      <td>transcript=ASPNIDRAFT2_1162768-t41_1 | gene=AS...</td>\n",
       "      <td>109.6</td>\n",
       "      <td>Pf01301, Pf10435, Pf13363, Pf13364</td>\n",
       "      <td>A0A254TWC0; A0A319ADP6; A0A370BMT6; A2QAN3; an...</td>\n",
       "      <td>lacA</td>\n",
       "      <td>1.927621</td>\n",
       "      <td>-0.946822</td>\n",
       "      <td>0.007696</td>\n",
       "      <td>2.113737</td>\n",
       "    </tr>\n",
       "    <tr>\n",
       "      <th>17</th>\n",
       "      <td>ASPNIDRAFT2_1099883-t41_1-p1</td>\n",
       "      <td>transcript=ASPNIDRAFT2_1099883-t41_1 | gene=AS...</td>\n",
       "      <td>87.2</td>\n",
       "      <td>Pf00933, Pf01915, Pf14310</td>\n",
       "      <td>ASPNIDRAFT2_1099883-t41_1-p1; G3XNW1</td>\n",
       "      <td>NaN</td>\n",
       "      <td>2.50666</td>\n",
       "      <td>-1.325766</td>\n",
       "      <td>0.00009</td>\n",
       "      <td>4.046977</td>\n",
       "    </tr>\n",
       "    <tr>\n",
       "      <th>18</th>\n",
       "      <td>ASPNIDRAFT2_1141724-t41_1-p1</td>\n",
       "      <td>transcript=ASPNIDRAFT2_1141724-t41_1 | gene=AS...</td>\n",
       "      <td>46.9</td>\n",
       "      <td>Pf07470</td>\n",
       "      <td>A0A254U2Z1; A0A319AEV4; A0A370CH51; A0A401KIF5...</td>\n",
       "      <td>NaN</td>\n",
       "      <td>2.732525</td>\n",
       "      <td>-1.450235</td>\n",
       "      <td>0.000184</td>\n",
       "      <td>3.734666</td>\n",
       "    </tr>\n",
       "  </tbody>\n",
       "</table>\n",
       "</div>"
      ],
      "text/plain": [
       "                      Unnamed: 0  \\\n",
       "0                      Accession   \n",
       "1   ASPNIDRAFT2_1147525-t41_1-p1   \n",
       "2                     A0A124BXG2   \n",
       "3                     A0A117E1I5   \n",
       "4    ASPNIDRAFT2_182100-t41_1-p1   \n",
       "5   ASPNIDRAFT2_1154180-t41_1-p1   \n",
       "6                     A0A117E2B9   \n",
       "7                     A0A100IN24   \n",
       "8   ASPNIDRAFT2_1159267-t41_1-p1   \n",
       "9                     A0A100INU2   \n",
       "10  ASPNIDRAFT2_1178295-t41_1-p1   \n",
       "11    ASPNIDRAFT2_54860-t41_1-p1   \n",
       "12  ASPNIDRAFT2_1160135-t41_1-p1   \n",
       "13  ASPNIDRAFT2_1187269-t41_1-p1   \n",
       "14  ASPNIDRAFT2_1183516-t41_1-p1   \n",
       "15  ASPNIDRAFT2_1162209-t41_1-p1   \n",
       "16  ASPNIDRAFT2_1162768-t41_1-p1   \n",
       "17  ASPNIDRAFT2_1099883-t41_1-p1   \n",
       "18  ASPNIDRAFT2_1141724-t41_1-p1   \n",
       "\n",
       "                                          bglA/WTprtT Unnamed: 2  \\\n",
       "0                                         Description   MW [kDa]   \n",
       "1   transcript=ASPNIDRAFT2_1147525-t41_1 | gene=AS...       93.2   \n",
       "2   Proline iminopeptidase OS=Aspergillus niger OX...       50.6   \n",
       "3   L-ascorbate oxidase OS=Aspergillus niger OX=50...       68.3   \n",
       "4   transcript=ASPNIDRAFT2_182100-t41_1 | gene=ASP...       35.2   \n",
       "5   transcript=ASPNIDRAFT2_1154180-t41_1 | gene=AS...         64   \n",
       "6   ABC multidrug transporter Mdr1 OS=Aspergillus ...      147.5   \n",
       "7   Carboxylic ester hydrolase OS=Aspergillus nige...       62.9   \n",
       "8   transcript=ASPNIDRAFT2_1159267-t41_1 | gene=AS...       35.8   \n",
       "9   1,3-beta-glucanosyltransferase OS=Aspergillus ...      114.5   \n",
       "10  transcript=ASPNIDRAFT2_1178295-t41_1 | gene=AS...       32.8   \n",
       "11  transcript=ASPNIDRAFT2_54860-t41_1 | gene=ASPN...       43.5   \n",
       "12  transcript=ASPNIDRAFT2_1160135-t41_1 | gene=AS...      104.1   \n",
       "13  transcript=ASPNIDRAFT2_1187269-t41_1 | gene=AS...       58.9   \n",
       "14  transcript=ASPNIDRAFT2_1183516-t41_1 | gene=AS...       52.5   \n",
       "15  transcript=ASPNIDRAFT2_1162209-t41_1 | gene=AS...      102.8   \n",
       "16  transcript=ASPNIDRAFT2_1162768-t41_1 | gene=AS...      109.6   \n",
       "17  transcript=ASPNIDRAFT2_1099883-t41_1 | gene=AS...       87.2   \n",
       "18  transcript=ASPNIDRAFT2_1141724-t41_1 | gene=AS...       46.9   \n",
       "\n",
       "                            Unnamed: 3  \\\n",
       "0                             Pfam IDs   \n",
       "1            Pf00933, Pf01915, Pf14310   \n",
       "2                              Pf00561   \n",
       "3            Pf00394, Pf07731, Pf07732   \n",
       "4                              Pf04616   \n",
       "5                              Pf00232   \n",
       "6                     Pf00005, Pf00664   \n",
       "7                              Pf07519   \n",
       "8                              Pf03664   \n",
       "9            Pf03198, Pf07690, Pf07983   \n",
       "10                             Pf04616   \n",
       "11                             Pf06516   \n",
       "12                                 NaN   \n",
       "13                             Pf06824   \n",
       "14                    Pf05270, Pf09206   \n",
       "15                    Pf03639, Pf17652   \n",
       "16  Pf01301, Pf10435, Pf13363, Pf13364   \n",
       "17           Pf00933, Pf01915, Pf14310   \n",
       "18                             Pf07470   \n",
       "\n",
       "                                           Unnamed: 4   Unnamed: 5  \\\n",
       "0                                             Gene ID  Gene Symbol   \n",
       "1   A0A3F3Q848; A0A3F3RYM6; ASPNIDRAFT2_1147525-t4...         bglA   \n",
       "2                                          A0A124BXG2          NaN   \n",
       "3                              A0A117E1I5; A0A8H3T346          NaN   \n",
       "4                 ASPNIDRAFT2_182100-t41_1-p1; G3XY38          NaN   \n",
       "5   A0A254UES9; A0A319A9K7; A2QVN9; ang:ANI_1_1704...          NaN   \n",
       "6                  A0A117E2B9; A0A1L9N4W3; A0A8H3Y2K7          NaN   \n",
       "7                              A0A100IN24; A0A8H3T584          NaN   \n",
       "8   A0A254U9U2; A0A319AIC0; A0A370C2G3; A2QFV9; an...         axhA   \n",
       "9                                          A0A100INU2          NaN   \n",
       "10           A0A254UEV5; ASPNIDRAFT2_1178295-t41_1-p1          NaN   \n",
       "11  A0A254U4P8; A0A318ZV28; A0A370BKR4; A0A370PDC4...          NaN   \n",
       "12                       ASPNIDRAFT2_1160135-t41_1-p1          NaN   \n",
       "13  A0A254TVB4; A0A319A8C5; ASPNIDRAFT2_1187269-t4...          NaN   \n",
       "14  A0A254UCU1; ASPNIDRAFT2_1183516-t41_1-p1; G3XX...         abfB   \n",
       "15           A0A254TYE5; ASPNIDRAFT2_1162209-t41_1-p1          NaN   \n",
       "16  A0A254TWC0; A0A319ADP6; A0A370BMT6; A2QAN3; an...         lacA   \n",
       "17               ASPNIDRAFT2_1099883-t41_1-p1; G3XNW1          NaN   \n",
       "18  A0A254U2Z1; A0A319AEV4; A0A370CH51; A0A401KIF5...          NaN   \n",
       "\n",
       "        Unnamed: 6 Unnamed: 7 Unnamed: 8  \\\n",
       "0   FC bglA/WTprtT   FC Log 2    P.Value   \n",
       "1         0.004248   7.879107   0.000033   \n",
       "2          0.38105   1.391947   0.011019   \n",
       "3         0.608548   0.716558   0.026034   \n",
       "4         0.613767   0.704237    0.00589   \n",
       "5         0.696055   0.522728   0.039932   \n",
       "6                0          0   0.001812   \n",
       "7         1.419654   -0.50554   0.023131   \n",
       "8          1.50742  -0.592081   0.033599   \n",
       "9         1.547592  -0.630025   0.022288   \n",
       "10        1.575563  -0.655868   0.041066   \n",
       "11        1.659177  -0.730468   0.004326   \n",
       "12        1.756284  -0.812526   0.014111   \n",
       "13        1.801046  -0.848835   0.031761   \n",
       "14        1.877009  -0.908435   0.010732   \n",
       "15        1.919445  -0.940689   0.009568   \n",
       "16        1.927621  -0.946822   0.007696   \n",
       "17         2.50666  -1.325766    0.00009   \n",
       "18        2.732525  -1.450235   0.000184   \n",
       "\n",
       "                                         Unnamed: 9  \n",
       "0   Log 10 P.Value (p/ normalizar e ficar positivo)  \n",
       "1                                          4.477344  \n",
       "2                                          1.957844  \n",
       "3                                           1.58446  \n",
       "4                                          2.229896  \n",
       "5                                          1.398674  \n",
       "6                                          2.741919  \n",
       "7                                          1.635802  \n",
       "8                                          1.473669  \n",
       "9                                          1.651922  \n",
       "10                                         1.386515  \n",
       "11                                         2.363903  \n",
       "12                                         1.850447  \n",
       "13                                          1.49811  \n",
       "14                                         1.969319  \n",
       "15                                         2.019156  \n",
       "16                                         2.113737  \n",
       "17                                         4.046977  \n",
       "18                                         3.734666  "
      ]
     },
     "execution_count": 27,
     "metadata": {},
     "output_type": "execute_result"
    }
   ],
   "source": [
    "df2"
   ]
  },
  {
   "cell_type": "markdown",
   "id": "0e52df3b",
   "metadata": {},
   "source": [
    "Lets retriece the ACC numbers"
   ]
  },
  {
   "cell_type": "code",
   "execution_count": 28,
   "id": "37a435e1-4aa0-4fd7-a2df-7bc5ef8996b5",
   "metadata": {},
   "outputs": [
    {
     "name": "stdout",
     "output_type": "stream",
     "text": [
      "We have 18 genes from the bglA mutant. See the names below\n",
      "['ASPNIDRAFT2_1147525-t41_1-p1', 'A0A124BXG2', 'A0A117E1I5', 'ASPNIDRAFT2_182100-t41_1-p1', 'ASPNIDRAFT2_1154180-t41_1-p1', 'A0A117E2B9', 'A0A100IN24', 'ASPNIDRAFT2_1159267-t41_1-p1', 'A0A100INU2', 'ASPNIDRAFT2_1178295-t41_1-p1', 'ASPNIDRAFT2_54860-t41_1-p1', 'ASPNIDRAFT2_1160135-t41_1-p1', 'ASPNIDRAFT2_1187269-t41_1-p1', 'ASPNIDRAFT2_1183516-t41_1-p1', 'ASPNIDRAFT2_1162209-t41_1-p1', 'ASPNIDRAFT2_1162768-t41_1-p1', 'ASPNIDRAFT2_1099883-t41_1-p1', 'ASPNIDRAFT2_1141724-t41_1-p1']\n"
     ]
    }
   ],
   "source": [
    "list_of_acc_numbers_bglA = list(df2['Unnamed: 0'])[1:]\n",
    "print(f'We have {len(list_of_acc_numbers_bglA)} genes from the bglA mutant. See the names below')\n",
    "print(list_of_acc_numbers_bglA)"
   ]
  },
  {
   "cell_type": "code",
   "execution_count": 29,
   "id": "71781f10-5014-40d0-873b-f654af0588e3",
   "metadata": {},
   "outputs": [
    {
     "name": "stdout",
     "output_type": "stream",
     "text": [
      "We have 110 genes for the QM. See acc numbers below.\n",
      "['ASPNIDRAFT2_1162209-t41_1-p1', 'ASPNIDRAFT2_1107559-t41_1-p1', 'ASPNIDRAFT2_182100-t41_1-p1', 'A0A100I6G0', 'ASPNIDRAFT2_1147525-t41_1-p1', 'ASPNIDRAFT2_1161545-t41_1-p1', 'A0A124BX74', 'A0A100I1U6', 'ASPNIDRAFT2_1110178-t41_1-p1', 'A0A117DXA3', 'ASPNIDRAFT2_1178295-t41_1-p1', 'ASPNIDRAFT2_1143951-t41_1-p1', 'ASPNIDRAFT2_1161751-t41_1-p1', 'ASPNIDRAFT2_1116389-t41_1-p1', 'ASPNIDRAFT2_1165908-t41_1-p1', 'ASPNIDRAFT2_1117716-t41_1-p1', 'ASPNIDRAFT2_1144686-t41_1-p1', 'ASPNIDRAFT2_1145619-t41_1-p1', 'A0A100IK28', 'ASPNIDRAFT2_1146214-t41_1-p1', 'ASPNIDRAFT2_1144977-t41_1-p1', 'ASPNIDRAFT2_1130315-t41_1-p1', 'ASPNIDRAFT2_1166799-t41_1-p1', 'A0A124BVP3', 'ASPNIDRAFT2_1159267-t41_1-p1', 'A0A117E1S1', 'ASPNIDRAFT2_175486-t41_1-p1', 'ASPNIDRAFT2_1125363-t41_1-p1', 'ASPNIDRAFT2_1118013-t41_1-p1', 'ASPNIDRAFT2_1179433-t41_1-p1', 'ASPNIDRAFT2_1147004-t41_1-p1', 'A0A100I349', 'ASPNIDRAFT2_54860-t41_1-p1', 'ASPNIDRAFT2_1146675-t41_1-p1', 'A0A100IT94', 'ASPNIDRAFT2_1156695-t41_1-p1', 'A0A100IPV4', 'ASPNIDRAFT2_1110657-t41_1-p1', 'A0A100INF1', 'A0A117DYT5', 'ASPNIDRAFT2_1223842-t41_1-p1', 'A0A100IIJ3', 'A0A100INU2', 'ASPNIDRAFT2_1164625-t41_1-p1', 'ASPNIDRAFT2_1150208-t41_1-p1', 'ASPNIDRAFT2_1116766-t41_1-p1', 'A0A100IPX8', 'ASPNIDRAFT2_1143275-t41_1-p1', 'ASPNIDRAFT2_1187280-t41_1-p1', 'ASPNIDRAFT2_1146032-t41_1-p1', 'ASPNIDRAFT2_1183964-t41_1-p1', 'A0A124BWF4', 'ASPNIDRAFT2_1182629-t41_1-p1', 'ASPNIDRAFT2_1162768-t41_1-p1', 'ASPNIDRAFT2_1142077-t41_1-p1', 'ASPNIDRAFT2_1168995-t41_1-p1', 'ASPNIDRAFT2_1187269-t41_1-p1', 'F5CI28', 'ASPNIDRAFT2_1106945-t41_1-p1', 'ASPNIDRAFT2_1183516-t41_1-p1', 'A0A100IHG4', 'ASPNIDRAFT2_1085285-t41_1-p1', 'ASPNIDRAFT2_1158713-t41_1-p1', 'A0A100IR60', 'ASPNIDRAFT2_1156809-t41_1-p1', 'ASPNIDRAFT2_1129086-t41_1-p1', 'ASPNIDRAFT2_1098926-t41_1-p1', 'ASPNIDRAFT2_1082604-t41_1-p1', 'ASPNIDRAFT2_1167448-t41_1-p1', 'ASPNIDRAFT2_1154180-t41_1-p1', 'ASPNIDRAFT2_1132679-t41_1-p1', 'A0A117E3B9', 'ASPNIDRAFT2_1152313-t41_1-p1', 'ASPNIDRAFT2_1179270-t41_1-p1', 'ASPNIDRAFT2_1187426-t41_1-p1', 'ASPNIDRAFT2_1179759-t41_1-p1', 'ASPNIDRAFT2_1160135-t41_1-p1', 'ASPNIDRAFT2_1164521-t41_1-p1', 'A0A100IIK3', 'A0A100IN24', 'A0A117E1C5', 'ASPNIDRAFT2_1164595-t41_1-p1', 'A0A100I9R5', 'A0A117DX26', 'A0A100INW1', 'ASPNIDRAFT2_1176802-t41_1-p1', 'A0A100IKW0', 'ASPNIDRAFT2_1085850-t41_1-p1', 'ASPNIDRAFT2_1163354-t41_1-p1', 'ASPNIDRAFT2_1166644-t41_1-p1', 'ASPNIDRAFT2_1099883-t41_1-p1', 'ASPNIDRAFT2_1117636-t41_1-p1', 'A0A100I7W0', 'ASPNIDRAFT2_1168200-t41_1-p1', 'ASPNIDRAFT2_1183095-t41_1-p1', 'ASPNIDRAFT2_1165424-t41_1-p1', 'ASPNIDRAFT2_213559-t41_1-p1', 'ASPNIDRAFT2_1152501-t41_1-p1', 'ASPNIDRAFT2_1204436-t41_1-p1', 'A0A100IAD1', 'ASPNIDRAFT2_1180590-t41_1-p1', 'A0A124BXH6', 'ASPNIDRAFT2_1187703-t41_1-p1', 'A0A124BV73', 'ASPNIDRAFT2_1159253-t41_1-p1', 'ASPNIDRAFT2_1147022-t41_1-p1', 'ASPNIDRAFT2_1129152-t41_1-p1', 'ASPNIDRAFT2_1088919-t41_1-p1', 'ASPNIDRAFT2_1161570-t41_1-p1', 'ASPNIDRAFT2_1158719-t41_1-p1']\n"
     ]
    }
   ],
   "source": [
    "list_of_acc_numbers_QM = list(df1['QMprtT/WTprtT'])[1:]\n",
    "print(f'We have {len(list_of_acc_numbers_QM)} genes for the QM. See acc numbers below.')\n",
    "print(list_of_acc_numbers_QM)"
   ]
  },
  {
   "cell_type": "markdown",
   "id": "06daff6e-8255-4bf4-83b1-347b72ce0635",
   "metadata": {},
   "source": [
    "The names from the genome do not match with the ACC numbers from our dfs. We can fix them easily by removing the ending of the names: "
   ]
  },
  {
   "cell_type": "markdown",
   "id": "1de1911c-76e4-488b-a4e6-4f9e78c1c71d",
   "metadata": {},
   "source": [
    "### Updating the names for the QM"
   ]
  },
  {
   "cell_type": "code",
   "execution_count": 30,
   "id": "082889c6-14e8-4ae3-81c1-b9fef6bc77d8",
   "metadata": {},
   "outputs": [],
   "source": [
    "# remove p1 label \n",
    "for i in range( len(list_of_acc_numbers_QM)): \n",
    "    if list_of_acc_numbers_QM[i].endswith('p1'): \n",
    "        list_of_acc_numbers_QM[i] = list_of_acc_numbers_QM[i][:-3]"
   ]
  },
  {
   "cell_type": "code",
   "execution_count": 31,
   "id": "c9e92d35-f425-468b-a8d1-4edc2ee80ea8",
   "metadata": {},
   "outputs": [
    {
     "name": "stdout",
     "output_type": "stream",
     "text": [
      "The number of genes sampled are 110\n"
     ]
    }
   ],
   "source": [
    "print(f'The number of genes sampled are {len(list_of_acc_numbers_QM)}')"
   ]
  },
  {
   "cell_type": "markdown",
   "id": "f8073b01",
   "metadata": {},
   "source": [
    "Lets got through the genome and see if we can get the sequences and translate them into protein:"
   ]
  },
  {
   "cell_type": "code",
   "execution_count": 32,
   "id": "7faa63c7-f043-4f22-b9d8-fcde48097953",
   "metadata": {},
   "outputs": [],
   "source": [
    "list_of_biopython_objects1 = []\n",
    "not_in_genome1 = []\n",
    "list_of_names1 = []\n",
    "\n",
    "\n",
    "for acc in list_of_acc_numbers_QM: \n",
    "    for protein in proteins: \n",
    "        if acc == protein.id: \n",
    "            # save \n",
    "            found_protein = protein.translate()\n",
    "            found_protein.id = protein.id\n",
    "            found_protein.name = protein.name \n",
    "            found_protein.description = protein.description\n",
    "\n",
    "            \n",
    "            list_of_biopython_objects1.append(found_protein)\n",
    "            list_of_names1.append(protein.id)\n",
    "            \n",
    "            \n",
    "# The ones that we didnt see in the genome             \n",
    "for acc in list_of_acc_numbers_QM: \n",
    "    if acc not in list_of_names1:\n",
    "        not_in_genome1.append(acc)\n"
   ]
  },
  {
   "cell_type": "markdown",
   "id": "97aca6d6",
   "metadata": {},
   "source": [
    "Now, not all genes were in the genome bc they are annotated differently. We can fetch them from pdb by using the python package teemi like shown below. "
   ]
  },
  {
   "cell_type": "code",
   "execution_count": 33,
   "id": "1a17b1a6-421c-473e-a935-ebcb66c33b29",
   "metadata": {},
   "outputs": [],
   "source": [
    "from teemi.design.fetch_sequences import retrieve_sequences_from_PDB"
   ]
  },
  {
   "cell_type": "code",
   "execution_count": 34,
   "id": "9b7e19cc-8a66-4fc9-bff8-60818ac59751",
   "metadata": {},
   "outputs": [],
   "source": [
    "from_pdb1 = retrieve_sequences_from_PDB(not_in_genome1) "
   ]
  },
  {
   "cell_type": "code",
   "execution_count": null,
   "id": "067cce25-2988-4a8c-823f-a18f4c4d5465",
   "metadata": {},
   "outputs": [
    {
     "name": "stdout",
     "output_type": "stream",
     "text": [
      "The number of proteins found in the genome is : 79. The remaining number is : 31\n"
     ]
    }
   ],
   "source": [
    "print(f'The number of proteins found in the genome is : {len(list_of_biopython_objects1)}. The remaining number is : {len(not_in_genome1)}')"
   ]
  },
  {
   "cell_type": "code",
   "execution_count": null,
   "id": "9cd320d8-a19a-489f-b13d-fe98571a5713",
   "metadata": {},
   "outputs": [
    {
     "data": {
      "text/plain": [
       "[SeqRecord(seq=Seq('MKFFNAKGSLLSSGIYLIALTPFVNAKCSLPSSYSWSSTDALATPKSGWTALKD...LKQ'), id='tr|A0A100I6G0|A0A100I6G0_ASPNG', name='tr|A0A100I6G0|A0A100I6G0_ASPNG', description='tr|A0A100I6G0|A0A100I6G0_ASPNG Alpha-L-arabinofuranosidase OS=Aspergillus niger OX=5061 GN=ABL_01224 PE=3 SV=1', dbxrefs=[]),\n",
       " SeqRecord(seq=Seq('MAAPAQKFKVADISLAAFGRREIELAEIEMPGLMSIRRRYGPDQPLKGARIAGC...YRY'), id='tr|A0A124BX74|A0A124BX74_ASPNG', name='tr|A0A124BX74|A0A124BX74_ASPNG', description='tr|A0A124BX74|A0A124BX74_ASPNG Adenosylhomocysteinase OS=Aspergillus niger OX=5061 GN=ABL_04200 PE=3 SV=1', dbxrefs=[]),\n",
       " SeqRecord(seq=Seq('MQVKFLATLLPLLLHLPAAVDGLQGKNARISASLKRHAGRDVPQTALNSTNVYP...HLS'), id='tr|A0A100I1U6|A0A100I1U6_ASPNG', name='tr|A0A100I1U6|A0A100I1U6_ASPNG', description='tr|A0A100I1U6|A0A100I1U6_ASPNG alpha,alpha-trehalase OS=Aspergillus niger OX=5061 GN=ABL_00029 PE=4 SV=1', dbxrefs=[]),\n",
       " SeqRecord(seq=Seq('MSVSFDTTDVAPAPVPVVQDGPCLGSKSRMPEFSLAGKVVLVSGAARGLGLTQA...AAW'), id='tr|A0A117DXA3|A0A117DXA3_ASPNG', name='tr|A0A117DXA3|A0A117DXA3_ASPNG', description='tr|A0A117DXA3|A0A117DXA3_ASPNG Short chain dehydrogenase OS=Aspergillus niger OX=5061 GN=ABL_02277 PE=3 SV=1', dbxrefs=[]),\n",
       " SeqRecord(seq=Seq('MAPWILGEKFNTVYPHKGSIKALWETKWKFACEKSVYPFHDGAIEDFRPIFQKL...LKN'), id='tr|A0A100IK28|A0A100IK28_ASPNG', name='tr|A0A100IK28|A0A100IK28_ASPNG', description='tr|A0A100IK28|A0A100IK28_ASPNG Pigment biosynthesis protein Ayg1 OS=Aspergillus niger OX=5061 GN=ABL_05349 PE=4 SV=1', dbxrefs=[]),\n",
       " SeqRecord(seq=Seq('MHVRSYLSAVLYGLPALTQVAAAKSTGDPFQLYTISAENITAKLIPYGARLTSL...GTV'), id='tr|A0A124BVP3|A0A124BVP3_ASPNG', name='tr|A0A124BVP3|A0A124BVP3_ASPNG', description='tr|A0A124BVP3|A0A124BVP3_ASPNG Aldose 1-epimerase OS=Aspergillus niger OX=5061 GN=ABL_01832 PE=4 SV=1', dbxrefs=[]),\n",
       " SeqRecord(seq=Seq('MMKLYHVSLALFAGLGLVAGQGMDSLPPCALNRSQRDCATGSIPKTCKAIDVNC...LLL'), id='tr|A0A117E1S1|A0A117E1S1_ASPNG', name='tr|A0A117E1S1|A0A117E1S1_ASPNG', description='tr|A0A117E1S1|A0A117E1S1_ASPNG CFEM domain protein OS=Aspergillus niger OX=5061 GN=ABL_07158 PE=3 SV=1', dbxrefs=[]),\n",
       " SeqRecord(seq=Seq('MWRIITALAAGYLIDSVQAAASQEYTWKNVVTGGGGGFTPGIVFNPSAKGVAYA...LEG'), id='tr|A0A100I349|A0A100I349_ASPNG', name='tr|A0A100I349|A0A100I349_ASPNG', description='tr|A0A100I349|A0A100I349_ASPNG Xyloglucanase OS=Aspergillus niger OX=5061 GN=ABL_00052 PE=4 SV=1', dbxrefs=[]),\n",
       " SeqRecord(seq=Seq('MLDKQTESLPLAEERPHLRQPPHQYRRSILHFFTSAGLLLLSIYALFPRLSLFS...WDP'), id='tr|A0A100IT94|A0A100IT94_ASPNG', name='tr|A0A100IT94|A0A100IT94_ASPNG', description='tr|A0A100IT94|A0A100IT94_ASPNG Xaa-pro dipeptidase OS=Aspergillus niger OX=5061 GN=ABL_09581 PE=4 SV=1', dbxrefs=[]),\n",
       " SeqRecord(seq=Seq('MTPQTIIIGTGLAGLTTTSTLLTHHIPVLLLDRAPKPGGNSIKASSGINAAPTR...TCS'), id='tr|A0A100IPV4|A0A100IPV4_ASPNG', name='tr|A0A100IPV4|A0A100IPV4_ASPNG', description='tr|A0A100IPV4|A0A100IPV4_ASPNG Fumarate reductase OS=Aspergillus niger OX=5061 GN=ABL_07826 PE=3 SV=1', dbxrefs=[]),\n",
       " SeqRecord(seq=Seq('MTIPEEVDIIVCGGGSTGCVIAGRLANLDHNLQVLLIEAGEDNLNNPWVYRPGI...SRL'), id='tr|A0A100INF1|A0A100INF1_ASPNG', name='tr|A0A100INF1|A0A100INF1_ASPNG', description='tr|A0A100INF1|A0A100INF1_ASPNG Glucose-methanol-choline (Gmc) oxidoreductase OS=Aspergillus niger OX=5061 GN=ABL_07089 PE=3 SV=1', dbxrefs=[]),\n",
       " SeqRecord(seq=Seq('MVQSSVLGFPRMGKLRDLKKATEAYWGDKISRDELLAEGKRLRLEHWKLQKDAG...HGN'), id='tr|A0A117DYT5|A0A117DYT5_ASPNG', name='tr|A0A117DYT5|A0A117DYT5_ASPNG', description='tr|A0A117DYT5|A0A117DYT5_ASPNG 5-methyltetrahydropteroyltriglutamate--homocysteine S-methyltransferase OS=Aspergillus niger OX=5061 GN=ABL_02132 PE=3 SV=1', dbxrefs=[]),\n",
       " SeqRecord(seq=Seq('MSDITHPTIKDGWFSEQSDMWPGQAMNLKVNQILHHEKSKYQDVLVFESSDYGT...LDA'), id='tr|A0A100IIJ3|A0A100IIJ3_ASPNG', name='tr|A0A100IIJ3|A0A100IIJ3_ASPNG', description='tr|A0A100IIJ3|A0A100IIJ3_ASPNG Spermidine synthase OS=Aspergillus niger OX=5061 GN=ABL_04515 PE=3 SV=1', dbxrefs=[]),\n",
       " SeqRecord(seq=Seq('MKFSATTLAGASLLLGRAIAADLPAIEAKSNKFFYSNNGTQFFIRGVAYQQDYT...GEA'), id='tr|A0A100INU2|A0A100INU2_ASPNG', name='tr|A0A100INU2|A0A100INU2_ASPNG', description='tr|A0A100INU2|A0A100INU2_ASPNG 1,3-beta-glucanosyltransferase OS=Aspergillus niger OX=5061 GN=ABL_07290 PE=3 SV=1', dbxrefs=[]),\n",
       " SeqRecord(seq=Seq('MKTFSLSLALLAAASMVSADVSVSDCAQMCLSNMNNKASELGCSSGDLSCLCSK...FLL'), id='tr|A0A100IPX8|A0A100IPX8_ASPNG', name='tr|A0A100IPX8|A0A100IPX8_ASPNG', description='tr|A0A100IPX8|A0A100IPX8_ASPNG CFEM domain-containing protein OS=Aspergillus niger OX=5061 GN=ABL_07828 PE=3 SV=1', dbxrefs=[]),\n",
       " SeqRecord(seq=Seq('MGYQHATRDMVAYLRIASPIILLLIFVASFIASSIVTARNANKNANAVHTGPGG...ESH'), id='tr|A0A124BWF4|A0A124BWF4_ASPNG', name='tr|A0A124BWF4|A0A124BWF4_ASPNG', description='tr|A0A124BWF4|A0A124BWF4_ASPNG Alkaline phosphatase OS=Aspergillus niger OX=5061 GN=ABL_02941 PE=3 SV=1', dbxrefs=[]),\n",
       " SeqRecord(seq=Seq('MLTKNLLLCFAAAKAVLAVPHDSVVERSDALHKLSERSTPSSTGENNGFYYSFW...TVQ'), id='tr|F5CI28|F5CI28_ASPNG', name='tr|F5CI28|F5CI28_ASPNG', description='tr|F5CI28|F5CI28_ASPNG Endo-1,4-beta-xylanase OS=Aspergillus niger OX=5061 GN=xynB PE=2 SV=1', dbxrefs=[]),\n",
       " SeqRecord(seq=Seq('MKNLLLLLASFTGSLVQAQTGVTHPISEECGPSVVCVNHYANVLPYHFFRNVST...VLK'), id='tr|A0A100IHG4|A0A100IHG4_ASPNG', name='tr|A0A100IHG4|A0A100IHG4_ASPNG', description='tr|A0A100IHG4|A0A100IHG4_ASPNG Lactonohydrolase OS=Aspergillus niger OX=5061 GN=ABL_04072 PE=4 SV=1', dbxrefs=[]),\n",
       " SeqRecord(seq=Seq('MKLPLFAAAAAGLANAASLPVERAEAEVASVAADLIVRALPNAPDGYTPSNVTC...FML'), id='tr|A0A100IR60|A0A100IR60_ASPNG', name='tr|A0A100IR60|A0A100IR60_ASPNG', description='tr|A0A100IR60|A0A100IR60_ASPNG Lysophospholipase OS=Aspergillus niger OX=5061 GN=ABL_08505 PE=3 SV=1', dbxrefs=[]),\n",
       " SeqRecord(seq=Seq('MRPLQPYLLHILPLLPLTHSTNTNTTDILTHINPLIGTTNGGNVFAGATLPYGM...MEV'), id='tr|A0A117E3B9|A0A117E3B9_ASPNG', name='tr|A0A117E3B9|A0A117E3B9_ASPNG', description='tr|A0A117E3B9|A0A117E3B9_ASPNG Secreted glycosidase OS=Aspergillus niger OX=5061 GN=ABL_09526 PE=4 SV=1', dbxrefs=[]),\n",
       " SeqRecord(seq=Seq('MFPTYTQLFAAACAFATTANAVTPIEVKGKDFVNSKTGDRFQILGVDYQPGGSS...FML'), id='tr|A0A100IIK3|A0A100IIK3_ASPNG', name='tr|A0A100IIK3|A0A100IIK3_ASPNG', description='tr|A0A100IIK3|A0A100IIK3_ASPNG 1,3-beta-glucanosyltransferase OS=Aspergillus niger OX=5061 GN=ABL_04572 PE=3 SV=1', dbxrefs=[]),\n",
       " SeqRecord(seq=Seq('MSKFLLWTVSAAALARAATLEQVCTVAHAKAAVPASGLVQGVVTNPSSVTAVPV...PIY'), id='tr|A0A100IN24|A0A100IN24_ASPNG', name='tr|A0A100IN24|A0A100IN24_ASPNG', description='tr|A0A100IN24|A0A100IN24_ASPNG Carboxylic ester hydrolase OS=Aspergillus niger OX=5061 GN=ABL_06870 PE=3 SV=1', dbxrefs=[]),\n",
       " SeqRecord(seq=Seq('MAPKSLFYSLFSTISVALASSIPQTDYDVIVVGGGPAGLSVLSSLGRMRRRTLM...RRS'), id='tr|A0A117E1C5|A0A117E1C5_ASPNG', name='tr|A0A117E1C5|A0A117E1C5_ASPNG', description='tr|A0A117E1C5|A0A117E1C5_ASPNG Sulphydryl oxidase Sox OS=Aspergillus niger OX=5061 GN=ABL_06509 PE=4 SV=1', dbxrefs=[]),\n",
       " SeqRecord(seq=Seq('MSNLPHEPEFEQAYKELASTLENSTLFQKNPEYRKALAVVSVPERVIQFRVVWE...DWW'), id='tr|A0A100I9R5|A0A100I9R5_ASPNG', name='tr|A0A100I9R5|A0A100I9R5_ASPNG', description='tr|A0A100I9R5|A0A100I9R5_ASPNG Glutamate dehydrogenase OS=Aspergillus niger OX=5061 GN=ABL_02070 PE=3 SV=1', dbxrefs=[]),\n",
       " SeqRecord(seq=Seq('MAFIKYALPALAAAQVAMAASCGSTDSTITISSQSDLDSYATCTTLKGDVEISE...YAL'), id='tr|A0A117DX26|A0A117DX26_ASPNG', name='tr|A0A117DX26|A0A117DX26_ASPNG', description='tr|A0A117DX26|A0A117DX26_ASPNG GPI-anchored cell wall organization protein Ecm33 OS=Aspergillus niger OX=5061 GN=ABL_02084 PE=4 SV=1', dbxrefs=[]),\n",
       " SeqRecord(seq=Seq('MASYPKKKCGVLGATGSVGQRFILLLADHPFLELHAVGASERSAGKQYKDAVRW...GYI'), id='tr|A0A100INW1|A0A100INW1_ASPNG', name='tr|A0A100INW1|A0A100INW1_ASPNG', description='tr|A0A100INW1|A0A100INW1_ASPNG Aspartate-semialdehyde dehydrogenase OS=Aspergillus niger OX=5061 GN=ABL_07317 PE=4 SV=1', dbxrefs=[]),\n",
       " SeqRecord(seq=Seq('MPLRAKVTNPAFGATASMSTAPIPKELPGDEPDDVLFHSHYGVRLIELNRPKKL...WVN'), id='tr|A0A100IKW0|A0A100IKW0_ASPNG', name='tr|A0A100IKW0|A0A100IKW0_ASPNG', description='tr|A0A100IKW0|A0A100IKW0_ASPNG Mitochondrial 3-hydroxyisobutyryl-CoA hydrolase OS=Aspergillus niger OX=5061 GN=ABL_05287 PE=4 SV=1', dbxrefs=[]),\n",
       " SeqRecord(seq=Seq('MYFSKTAAALAALLPLATAQTYTDCDPLNKTCPADTALSSTTFTTDFTSGSFGG...ALL'), id='tr|A0A100I7W0|A0A100I7W0_ASPNG', name='tr|A0A100I7W0|A0A100I7W0_ASPNG', description='tr|A0A100I7W0|A0A100I7W0_ASPNG Glycosidase OS=Aspergillus niger OX=5061 GN=ABL_01595 PE=3 SV=1', dbxrefs=[]),\n",
       " SeqRecord(seq=Seq('MASSAEPQTAPFGTWDSPITAATLTSKGISFAGIAATADGIIYVNEGRPAEEGR...KGE'), id='tr|A0A100IAD1|A0A100IAD1_ASPNG', name='tr|A0A100IAD1|A0A100IAD1_ASPNG', description='tr|A0A100IAD1|A0A100IAD1_ASPNG Dipeptidyl-peptidase V OS=Aspergillus niger OX=5061 GN=ABL_02226 PE=3 SV=1', dbxrefs=[]),\n",
       " SeqRecord(seq=Seq('MGAPTFKDSEKSANEVTSPPVYVDEDPEALKGEIHHGPNTDTQRGLSSRQLQLL...NDA'), id='tr|A0A124BXH6|A0A124BXH6_ASPNG', name='tr|A0A124BXH6|A0A124BXH6_ASPNG', description='tr|A0A124BXH6|A0A124BXH6_ASPNG L-glutamate gamma-semialdehyde dehydrogenase OS=Aspergillus niger OX=5061 GN=ABL_05084 PE=3 SV=1', dbxrefs=[]),\n",
       " SeqRecord(seq=Seq('MYGTLAYLSFFLTCSLARSVGDVHQHAARTTTQYAQKQPPLDTPWTEDVGTNPW...STN'), id='tr|A0A124BV73|A0A124BV73_ASPNG', name='tr|A0A124BV73|A0A124BV73_ASPNG', description='tr|A0A124BV73|A0A124BV73_ASPNG beta-mannosidase OS=Aspergillus niger OX=5061 GN=ABL_01111 PE=3 SV=1', dbxrefs=[])]"
      ]
     },
     "execution_count": 17,
     "metadata": {},
     "output_type": "execute_result"
    }
   ],
   "source": [
    "from_pdb1 = [seq[0] for seq in from_pdb1]\n",
    "from_pdb1"
   ]
  },
  {
   "cell_type": "code",
   "execution_count": null,
   "id": "e6e23d23-d33a-40cd-b0d9-b1e2f048c609",
   "metadata": {},
   "outputs": [],
   "source": [
    "all_QM_proteins = list_of_biopython_objects1 + from_pdb1"
   ]
  },
  {
   "cell_type": "code",
   "execution_count": null,
   "id": "75d798d6-fe27-40b1-b98b-fa781453104a",
   "metadata": {},
   "outputs": [
    {
     "data": {
      "text/plain": [
       "110"
      ]
     },
     "execution_count": 38,
     "metadata": {},
     "output_type": "execute_result"
    }
   ],
   "source": [
    "len(all_QM_proteins)"
   ]
  },
  {
   "cell_type": "markdown",
   "id": "ac282ae4",
   "metadata": {},
   "source": [
    "We got all the protein sequences for the QM mutant. Now we do the same for the bglA mutant"
   ]
  },
  {
   "cell_type": "markdown",
   "id": "51f8663f-f631-472f-b265-18de5b2064f7",
   "metadata": {
    "tags": []
   },
   "source": [
    "###  Updating the names for the bglA"
   ]
  },
  {
   "cell_type": "code",
   "execution_count": null,
   "id": "0ab32755-3ae2-4203-9b37-a561c5bdf293",
   "metadata": {},
   "outputs": [],
   "source": [
    "for i in range( len(list_of_acc_numbers_bglA)): \n",
    "    if list_of_acc_numbers_bglA[i].endswith('p1'): \n",
    "        list_of_acc_numbers_bglA[i] = list_of_acc_numbers_bglA[i][:-3]"
   ]
  },
  {
   "cell_type": "markdown",
   "id": "025e65f4",
   "metadata": {},
   "source": [
    "Retrieving the sequences."
   ]
  },
  {
   "cell_type": "code",
   "execution_count": null,
   "id": "a9300424-1890-43a3-931c-1cf4402a0990",
   "metadata": {},
   "outputs": [],
   "source": [
    "list_of_biopython_objects2 = []\n",
    "not_in_genome2 = []\n",
    "list_of_names2 = []\n",
    "\n",
    "\n",
    "for acc in list_of_acc_numbers_bglA: \n",
    "    for protein in proteins: \n",
    "        if acc == protein.id: \n",
    "            # save \n",
    "            found_protein = protein.translate()\n",
    "            found_protein.id = protein.id\n",
    "            found_protein.name = protein.name \n",
    "            found_protein.description = protein.description\n",
    "\n",
    "            \n",
    "            list_of_biopython_objects2.append(found_protein)\n",
    "            list_of_names2.append(protein.id)\n",
    "            \n",
    "            \n",
    "# The ones that we didnt see in the genome             \n",
    "for acc in list_of_acc_numbers_bglA: \n",
    "    if acc not in list_of_names2:\n",
    "        not_in_genome2.append(acc)\n"
   ]
  },
  {
   "cell_type": "markdown",
   "id": "018eaf7f",
   "metadata": {},
   "source": [
    "and the sequences from PDB."
   ]
  },
  {
   "cell_type": "code",
   "execution_count": null,
   "id": "725cc5a3-ee9f-455e-a850-8c9679416d18",
   "metadata": {},
   "outputs": [],
   "source": [
    "from_pdb2 = retrieve_sequences_from_PDB(not_in_genome2) "
   ]
  },
  {
   "cell_type": "code",
   "execution_count": null,
   "id": "b86f3ed0-e3d0-4f72-b2da-a3672fa673ca",
   "metadata": {},
   "outputs": [
    {
     "name": "stdout",
     "output_type": "stream",
     "text": [
      "The number of proteins found in the genome is : 13. The remaining number is : 5\n"
     ]
    }
   ],
   "source": [
    "print(f'The number of proteins found in the genome is : {len(list_of_biopython_objects2)}. The remaining number is : {len(not_in_genome2)}')"
   ]
  },
  {
   "cell_type": "code",
   "execution_count": null,
   "id": "72114e99-f5ef-4eca-8157-37c5d3cde6ec",
   "metadata": {},
   "outputs": [],
   "source": [
    "from_pdb2 = [seq[0] for seq in from_pdb2]\n"
   ]
  },
  {
   "cell_type": "code",
   "execution_count": null,
   "id": "a23df5d1-192c-4eb7-87c4-c6863ec4075e",
   "metadata": {},
   "outputs": [],
   "source": [
    "all_blaA_proteins = list_of_biopython_objects2 + from_pdb2"
   ]
  },
  {
   "cell_type": "code",
   "execution_count": null,
   "id": "66acaccc-35fd-446e-aed4-1e3da326d7b6",
   "metadata": {},
   "outputs": [
    {
     "data": {
      "text/plain": [
       "18"
      ]
     },
     "execution_count": 37,
     "metadata": {},
     "output_type": "execute_result"
    }
   ],
   "source": [
    "len(all_blaA_proteins)"
   ]
  },
  {
   "cell_type": "markdown",
   "id": "5740b094",
   "metadata": {},
   "source": [
    "Now we have all our sequences and we want to make them into fasta files. We can do it like shown next."
   ]
  },
  {
   "cell_type": "markdown",
   "id": "109001e4",
   "metadata": {},
   "source": [
    "## Making fasta files with our sequences:"
   ]
  },
  {
   "cell_type": "code",
   "execution_count": null,
   "id": "54378102-5513-47ff-82a0-78b3d8e23eab",
   "metadata": {},
   "outputs": [],
   "source": [
    "with open('../data/cross_ref_proteins/all_blaA_proteins.fasta', 'w') as outfile:\n",
    "    for i in range(0, len(all_blaA_proteins)):\n",
    "        print(all_blaA_proteins[i].format(\"fasta\"), file = outfile)"
   ]
  },
  {
   "cell_type": "code",
   "execution_count": null,
   "id": "67b809e8-55cf-441c-9a1d-2a9f474b3c8f",
   "metadata": {},
   "outputs": [],
   "source": [
    "with open('../data/cross_ref_proteins/all_QM_proteins.fasta', 'w') as outfile:\n",
    "    for i in range(0, len(all_QM_proteins)):\n",
    "        print(all_QM_proteins[i].format(\"fasta\"), file = outfile)"
   ]
  }
 ],
 "metadata": {
  "kernelspec": {
   "display_name": "Python 3 (ipykernel)",
   "language": "python",
   "name": "python3"
  },
  "language_info": {
   "codemirror_mode": {
    "name": "ipython",
    "version": 3
   },
   "file_extension": ".py",
   "mimetype": "text/x-python",
   "name": "python",
   "nbconvert_exporter": "python",
   "pygments_lexer": "ipython3",
   "version": "3.8.13"
  }
 },
 "nbformat": 4,
 "nbformat_minor": 5
}
