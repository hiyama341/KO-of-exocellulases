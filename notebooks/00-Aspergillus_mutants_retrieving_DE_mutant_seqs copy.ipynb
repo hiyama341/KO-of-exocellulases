{
 "cells": [
  {
   "cell_type": "code",
   "execution_count": 58,
   "id": "2604a417-48b0-43ae-a530-0a778c5a02de",
   "metadata": {},
   "outputs": [],
   "source": [
    "import pandas as pd\n",
    "from teemi.design.fetch_sequences import read_fasta_files"
   ]
  },
  {
   "attachments": {},
   "cell_type": "markdown",
   "id": "31d57d1e",
   "metadata": {},
   "source": [
    "# 0. Aspergillus mutants "
   ]
  },
  {
   "attachments": {},
   "cell_type": "markdown",
   "id": "2f7f108b",
   "metadata": {},
   "source": [
    "First we import the aspergillus niger genome."
   ]
  },
  {
   "cell_type": "code",
   "execution_count": 59,
   "id": "7f1cf73f-9d27-4649-a658-7851e9d5043e",
   "metadata": {},
   "outputs": [],
   "source": [
    "path_to_file = '../data/genome_files/FungiDB-61_AnigerATCC1015_AnnotatedCDSs.fasta'"
   ]
  },
  {
   "cell_type": "code",
   "execution_count": 60,
   "id": "7344d872-c9b2-47ae-9457-501fdbaf22f3",
   "metadata": {},
   "outputs": [],
   "source": [
    "proteins = read_fasta_files(path_to_file)"
   ]
  },
  {
   "attachments": {},
   "cell_type": "markdown",
   "id": "1da1060e-c091-4a34-be2f-1d97b69f81de",
   "metadata": {},
   "source": [
    "We can take a quick look at the proteins."
   ]
  },
  {
   "cell_type": "code",
   "execution_count": 61,
   "id": "441daf52-2c69-4df5-9cb6-ca4de63545ce",
   "metadata": {},
   "outputs": [
    {
     "data": {
      "text/plain": [
       "[SeqRecord(seq=Seq('ATGGGTGACTTGGGTCCATATCTCGAATACGATGGTGAGGACTATATATGTTCT...TGA'), id='ASPNIDRAFT2_1000234-t41_1', name='ASPNIDRAFT2_1000234-t41_1', description='ASPNIDRAFT2_1000234-t41_1 | organism=Aspergillus_niger_ATCC_1015 | product=hypothetical protein | location=ACJE01000001.1:254822-255232(-) | length=411 | sequence_SO=supercontig | SO=protein_coding_gene', dbxrefs=[]),\n",
       " SeqRecord(seq=Seq('ATGTCGGCGACAATGTCCTCATCGCCCTCCGCCCGCTCTTCGACGCTAACTCCG...TAG'), id='ASPNIDRAFT2_1000395-t41_1', name='ASPNIDRAFT2_1000395-t41_1', description='ASPNIDRAFT2_1000395-t41_1 | organism=Aspergillus_niger_ATCC_1015 | product=hypothetical protein | location=ACJE01000001.1:545592-546884(+) | length=1293 | sequence_SO=supercontig | SO=protein_coding_gene', dbxrefs=[]),\n",
       " SeqRecord(seq=Seq('ATGGCGGGCACCATGGCCGACGACGAACTCTTCACAAGGGCCATCTCTGGGTAT...TGA'), id='ASPNIDRAFT2_1000674-t41_1', name='ASPNIDRAFT2_1000674-t41_1', description='ASPNIDRAFT2_1000674-t41_1 | organism=Aspergillus_niger_ATCC_1015 | product=hypothetical protein | location=ACJE01000001.1:808777-810906(-) | length=2130 | sequence_SO=supercontig | SO=protein_coding_gene', dbxrefs=[]),\n",
       " SeqRecord(seq=Seq('ATGTCCCCGCCAGCTATCATTGCTCCCTCCATCCTGAGTGCCGACTTCGGCACC...TAA'), id='ASPNIDRAFT2_1000708-t41_1', name='ASPNIDRAFT2_1000708-t41_1', description='ASPNIDRAFT2_1000708-t41_1 | organism=Aspergillus_niger_ATCC_1015 | product=hypothetical protein|Ribulose-phosphate 3-epimerase | location=ACJE01000001.1:822328-823339(-) | length=1012 | sequence_SO=supercontig | SO=protein_coding_gene', dbxrefs=[]),\n",
       " SeqRecord(seq=Seq('ATGGCATACATTGGCGACGCAGCGGTCATCTTCTTTGTCATTCTCGGCTGTGTA...TGA'), id='ASPNIDRAFT2_1000793-t41_1', name='ASPNIDRAFT2_1000793-t41_1', description='ASPNIDRAFT2_1000793-t41_1 | organism=Aspergillus_niger_ATCC_1015 | product=hypothetical protein | location=ACJE01000001.1:898733-898969(+) | length=237 | sequence_SO=supercontig | SO=protein_coding_gene', dbxrefs=[]),\n",
       " SeqRecord(seq=Seq('ATGTATGCCTCTCAACAGCCTGCTACCTACGCCTACCCACCTGGCGTGACGCTG...TGA'), id='ASPNIDRAFT2_1001006-t41_1', name='ASPNIDRAFT2_1001006-t41_1', description='ASPNIDRAFT2_1001006-t41_1 | organism=Aspergillus_niger_ATCC_1015 | product=Pal1-domain containing protein | location=ACJE01000001.1:1064356-1066246(+) | length=1891 | sequence_SO=supercontig | SO=protein_coding_gene', dbxrefs=[]),\n",
       " SeqRecord(seq=Seq('ATGGCCAACACCGAGTCGGGCGACTCAATCCTCAATGCCGGACAGGCACTGAGC...TGA'), id='ASPNIDRAFT2_1001019-t41_1', name='ASPNIDRAFT2_1001019-t41_1', description='ASPNIDRAFT2_1001019-t41_1 | organism=Aspergillus_niger_ATCC_1015 | product=expressed protein | location=ACJE01000001.1:1071739-1073630(+) | length=1892 | sequence_SO=supercontig | SO=protein_coding_gene', dbxrefs=[]),\n",
       " SeqRecord(seq=Seq('ATGGACACTGGCGGTCTTGCTCAAATGACCTACAACTCCTCTTTCAATAATGGC...TAA'), id='ASPNIDRAFT2_1001071-t41_1', name='ASPNIDRAFT2_1001071-t41_1', description='ASPNIDRAFT2_1001071-t41_1 | organism=Aspergillus_niger_ATCC_1015 | product=hypothetical protein | location=ACJE01000001.1:1102891-1104621(-) | length=1731 | sequence_SO=supercontig | SO=protein_coding_gene', dbxrefs=[]),\n",
       " SeqRecord(seq=Seq('ATGACACAACAAAGAAAGACCATTGCCGTGGTGAACGCTACGGGTCGCCAGGCG...TGA'), id='ASPNIDRAFT2_1001118-t41_1', name='ASPNIDRAFT2_1001118-t41_1', description='ASPNIDRAFT2_1001118-t41_1 | organism=Aspergillus_niger_ATCC_1015 | product=NAD(P)-binding protein | location=ACJE01000001.1:1132605-1133724(-) | length=1120 | sequence_SO=supercontig | SO=protein_coding_gene', dbxrefs=[]),\n",
       " SeqRecord(seq=Seq('ATGTTTTCCAAGTCCATTCTTGCGGCCGCTGCTCTCCTGGGCATTTCGGCTGTT...TAA'), id='ASPNIDRAFT2_1001171-t41_1', name='ASPNIDRAFT2_1001171-t41_1', description='ASPNIDRAFT2_1001171-t41_1 | organism=Aspergillus_niger_ATCC_1015 | product=Lytic polysaccharide monooxygenase | location=ACJE01000001.1:1191296-1192525(+) | length=1230 | sequence_SO=supercontig | SO=protein_coding_gene', dbxrefs=[])]"
      ]
     },
     "execution_count": 61,
     "metadata": {},
     "output_type": "execute_result"
    }
   ],
   "source": [
    "proteins[:10]"
   ]
  },
  {
   "attachments": {},
   "cell_type": "markdown",
   "id": "45f95038",
   "metadata": {},
   "source": [
    "# 1. Importing the mutants strains\n",
    "\n",
    "Now lets import the mutants strains"
   ]
  },
  {
   "cell_type": "code",
   "execution_count": 62,
   "id": "e3fb59d3-0eec-44c4-9376-d9c29a9c68cd",
   "metadata": {},
   "outputs": [],
   "source": [
    "import pandas as pd"
   ]
  },
  {
   "cell_type": "code",
   "execution_count": 63,
   "id": "3710ccf8-19b8-4394-8fe9-227de4d3a6a7",
   "metadata": {},
   "outputs": [],
   "source": [
    "xls = pd.ExcelFile('../data/mutant_strains_on_sugarcane_bagasse/KO_of_exocellulases.xlsx')\n",
    "df1 = pd.read_excel(xls, 'QM')\n",
    "df2 = pd.read_excel(xls, 'BglA')"
   ]
  },
  {
   "attachments": {},
   "cell_type": "markdown",
   "id": "f4d67637",
   "metadata": {},
   "source": [
    "The following is the QM mutant:"
   ]
  },
  {
   "cell_type": "code",
   "execution_count": 64,
   "id": "ed357128",
   "metadata": {},
   "outputs": [
    {
     "data": {
      "text/html": [
       "<div>\n",
       "<style scoped>\n",
       "    .dataframe tbody tr th:only-of-type {\n",
       "        vertical-align: middle;\n",
       "    }\n",
       "\n",
       "    .dataframe tbody tr th {\n",
       "        vertical-align: top;\n",
       "    }\n",
       "\n",
       "    .dataframe thead th {\n",
       "        text-align: right;\n",
       "    }\n",
       "</style>\n",
       "<table border=\"1\" class=\"dataframe\">\n",
       "  <thead>\n",
       "    <tr style=\"text-align: right;\">\n",
       "      <th></th>\n",
       "      <th>Accession</th>\n",
       "    </tr>\n",
       "  </thead>\n",
       "  <tbody>\n",
       "    <tr>\n",
       "      <th>0</th>\n",
       "      <td>ASPNIDRAFT2_1147525</td>\n",
       "    </tr>\n",
       "    <tr>\n",
       "      <th>1</th>\n",
       "      <td>ASPNIDRAFT2_1156695</td>\n",
       "    </tr>\n",
       "    <tr>\n",
       "      <th>2</th>\n",
       "      <td>ASPNIDRAFT2_1176802</td>\n",
       "    </tr>\n",
       "    <tr>\n",
       "      <th>3</th>\n",
       "      <td>ASPNIDRAFT2_1117716</td>\n",
       "    </tr>\n",
       "    <tr>\n",
       "      <th>4</th>\n",
       "      <td>ASPNIDRAFT2_1161751</td>\n",
       "    </tr>\n",
       "    <tr>\n",
       "      <th>5</th>\n",
       "      <td>ASPNIDRAFT2_1159267</td>\n",
       "    </tr>\n",
       "    <tr>\n",
       "      <th>6</th>\n",
       "      <td>ASPNIDRAFT2_1180590</td>\n",
       "    </tr>\n",
       "    <tr>\n",
       "      <th>7</th>\n",
       "      <td>A0A100I6G0</td>\n",
       "    </tr>\n",
       "    <tr>\n",
       "      <th>8</th>\n",
       "      <td>ASPNIDRAFT2_1164595</td>\n",
       "    </tr>\n",
       "    <tr>\n",
       "      <th>9</th>\n",
       "      <td>ASPNIDRAFT2_1161570</td>\n",
       "    </tr>\n",
       "    <tr>\n",
       "      <th>10</th>\n",
       "      <td>ASPNIDRAFT2_1164625</td>\n",
       "    </tr>\n",
       "    <tr>\n",
       "      <th>11</th>\n",
       "      <td>F5CI28</td>\n",
       "    </tr>\n",
       "    <tr>\n",
       "      <th>12</th>\n",
       "      <td>ASPNIDRAFT2_1116389</td>\n",
       "    </tr>\n",
       "    <tr>\n",
       "      <th>13</th>\n",
       "      <td>ASPNIDRAFT2_1085285</td>\n",
       "    </tr>\n",
       "    <tr>\n",
       "      <th>14</th>\n",
       "      <td>ASPNIDRAFT2_1146032</td>\n",
       "    </tr>\n",
       "    <tr>\n",
       "      <th>15</th>\n",
       "      <td>ASPNIDRAFT2_1142077</td>\n",
       "    </tr>\n",
       "    <tr>\n",
       "      <th>16</th>\n",
       "      <td>ASPNIDRAFT2_1117636</td>\n",
       "    </tr>\n",
       "    <tr>\n",
       "      <th>17</th>\n",
       "      <td>ASPNIDRAFT2_54860</td>\n",
       "    </tr>\n",
       "    <tr>\n",
       "      <th>18</th>\n",
       "      <td>ASPNIDRAFT2_1099883</td>\n",
       "    </tr>\n",
       "    <tr>\n",
       "      <th>19</th>\n",
       "      <td>ASPNIDRAFT2_1168995</td>\n",
       "    </tr>\n",
       "    <tr>\n",
       "      <th>20</th>\n",
       "      <td>A0A117DYT5</td>\n",
       "    </tr>\n",
       "    <tr>\n",
       "      <th>21</th>\n",
       "      <td>ASPNIDRAFT2_1110178</td>\n",
       "    </tr>\n",
       "    <tr>\n",
       "      <th>22</th>\n",
       "      <td>ASPNIDRAFT2_1178295</td>\n",
       "    </tr>\n",
       "    <tr>\n",
       "      <th>23</th>\n",
       "      <td>A0A100IK28</td>\n",
       "    </tr>\n",
       "    <tr>\n",
       "      <th>24</th>\n",
       "      <td>ASPNIDRAFT2_1179433</td>\n",
       "    </tr>\n",
       "    <tr>\n",
       "      <th>25</th>\n",
       "      <td>A0A117DXA3</td>\n",
       "    </tr>\n",
       "    <tr>\n",
       "      <th>26</th>\n",
       "      <td>ASPNIDRAFT2_1161545</td>\n",
       "    </tr>\n",
       "    <tr>\n",
       "      <th>27</th>\n",
       "      <td>A0A124BX74</td>\n",
       "    </tr>\n",
       "    <tr>\n",
       "      <th>28</th>\n",
       "      <td>ASPNIDRAFT2_1145619</td>\n",
       "    </tr>\n",
       "    <tr>\n",
       "      <th>29</th>\n",
       "      <td>A0A100IHG4</td>\n",
       "    </tr>\n",
       "    <tr>\n",
       "      <th>30</th>\n",
       "      <td>A0A100IIJ3</td>\n",
       "    </tr>\n",
       "    <tr>\n",
       "      <th>31</th>\n",
       "      <td>ASPNIDRAFT2_213559</td>\n",
       "    </tr>\n",
       "    <tr>\n",
       "      <th>32</th>\n",
       "      <td>A0A100INF1</td>\n",
       "    </tr>\n",
       "    <tr>\n",
       "      <th>33</th>\n",
       "      <td>ASPNIDRAFT2_1147004</td>\n",
       "    </tr>\n",
       "    <tr>\n",
       "      <th>34</th>\n",
       "      <td>ASPNIDRAFT2_1187280</td>\n",
       "    </tr>\n",
       "    <tr>\n",
       "      <th>35</th>\n",
       "      <td>ASPNIDRAFT2_1144686</td>\n",
       "    </tr>\n",
       "    <tr>\n",
       "      <th>36</th>\n",
       "      <td>ASPNIDRAFT2_175486</td>\n",
       "    </tr>\n",
       "    <tr>\n",
       "      <th>37</th>\n",
       "      <td>A0A100IT94</td>\n",
       "    </tr>\n",
       "    <tr>\n",
       "      <th>38</th>\n",
       "      <td>A0A100IN24</td>\n",
       "    </tr>\n",
       "  </tbody>\n",
       "</table>\n",
       "</div>"
      ],
      "text/plain": [
       "              Accession\n",
       "0   ASPNIDRAFT2_1147525\n",
       "1   ASPNIDRAFT2_1156695\n",
       "2   ASPNIDRAFT2_1176802\n",
       "3   ASPNIDRAFT2_1117716\n",
       "4   ASPNIDRAFT2_1161751\n",
       "5   ASPNIDRAFT2_1159267\n",
       "6   ASPNIDRAFT2_1180590\n",
       "7            A0A100I6G0\n",
       "8   ASPNIDRAFT2_1164595\n",
       "9   ASPNIDRAFT2_1161570\n",
       "10  ASPNIDRAFT2_1164625\n",
       "11               F5CI28\n",
       "12  ASPNIDRAFT2_1116389\n",
       "13  ASPNIDRAFT2_1085285\n",
       "14  ASPNIDRAFT2_1146032\n",
       "15  ASPNIDRAFT2_1142077\n",
       "16  ASPNIDRAFT2_1117636\n",
       "17    ASPNIDRAFT2_54860\n",
       "18  ASPNIDRAFT2_1099883\n",
       "19  ASPNIDRAFT2_1168995\n",
       "20           A0A117DYT5\n",
       "21  ASPNIDRAFT2_1110178\n",
       "22  ASPNIDRAFT2_1178295\n",
       "23           A0A100IK28\n",
       "24  ASPNIDRAFT2_1179433\n",
       "25           A0A117DXA3\n",
       "26  ASPNIDRAFT2_1161545\n",
       "27           A0A124BX74\n",
       "28  ASPNIDRAFT2_1145619\n",
       "29           A0A100IHG4\n",
       "30           A0A100IIJ3\n",
       "31   ASPNIDRAFT2_213559\n",
       "32           A0A100INF1\n",
       "33  ASPNIDRAFT2_1147004\n",
       "34  ASPNIDRAFT2_1187280\n",
       "35  ASPNIDRAFT2_1144686\n",
       "36   ASPNIDRAFT2_175486\n",
       "37           A0A100IT94\n",
       "38           A0A100IN24"
      ]
     },
     "execution_count": 64,
     "metadata": {},
     "output_type": "execute_result"
    }
   ],
   "source": [
    "df1"
   ]
  },
  {
   "attachments": {},
   "cell_type": "markdown",
   "id": "3e375a6a",
   "metadata": {},
   "source": [
    "And the next is the bglA mutant"
   ]
  },
  {
   "cell_type": "code",
   "execution_count": 65,
   "id": "430e03ae",
   "metadata": {},
   "outputs": [
    {
     "data": {
      "text/html": [
       "<div>\n",
       "<style scoped>\n",
       "    .dataframe tbody tr th:only-of-type {\n",
       "        vertical-align: middle;\n",
       "    }\n",
       "\n",
       "    .dataframe tbody tr th {\n",
       "        vertical-align: top;\n",
       "    }\n",
       "\n",
       "    .dataframe thead th {\n",
       "        text-align: right;\n",
       "    }\n",
       "</style>\n",
       "<table border=\"1\" class=\"dataframe\">\n",
       "  <thead>\n",
       "    <tr style=\"text-align: right;\">\n",
       "      <th></th>\n",
       "      <th>Accession</th>\n",
       "    </tr>\n",
       "  </thead>\n",
       "  <tbody>\n",
       "    <tr>\n",
       "      <th>0</th>\n",
       "      <td>ASPNIDRAFT2_1147525</td>\n",
       "    </tr>\n",
       "  </tbody>\n",
       "</table>\n",
       "</div>"
      ],
      "text/plain": [
       "             Accession\n",
       "0  ASPNIDRAFT2_1147525"
      ]
     },
     "execution_count": 65,
     "metadata": {},
     "output_type": "execute_result"
    }
   ],
   "source": [
    "df2"
   ]
  },
  {
   "attachments": {},
   "cell_type": "markdown",
   "id": "0e52df3b",
   "metadata": {},
   "source": [
    "Lets retriece the ACC numbers"
   ]
  },
  {
   "cell_type": "code",
   "execution_count": 66,
   "id": "37a435e1-4aa0-4fd7-a2df-7bc5ef8996b5",
   "metadata": {},
   "outputs": [
    {
     "name": "stdout",
     "output_type": "stream",
     "text": [
      "We have 1 genes from the bglA mutant. See the names below\n",
      "['ASPNIDRAFT2_1147525']\n"
     ]
    }
   ],
   "source": [
    "list_of_acc_numbers_bglA = list(df2['Accession'])[:]\n",
    "print(f'We have {len(list_of_acc_numbers_bglA)} genes from the bglA mutant. See the names below')\n",
    "print(list_of_acc_numbers_bglA)"
   ]
  },
  {
   "cell_type": "code",
   "execution_count": 67,
   "id": "71781f10-5014-40d0-873b-f654af0588e3",
   "metadata": {},
   "outputs": [
    {
     "name": "stdout",
     "output_type": "stream",
     "text": [
      "We have 39 genes for the QM. See acc numbers below.\n",
      "['ASPNIDRAFT2_1147525', 'ASPNIDRAFT2_1156695', 'ASPNIDRAFT2_1176802', 'ASPNIDRAFT2_1117716', 'ASPNIDRAFT2_1161751', 'ASPNIDRAFT2_1159267', 'ASPNIDRAFT2_1180590', 'A0A100I6G0', 'ASPNIDRAFT2_1164595', 'ASPNIDRAFT2_1161570', 'ASPNIDRAFT2_1164625', 'F5CI28', 'ASPNIDRAFT2_1116389', 'ASPNIDRAFT2_1085285', 'ASPNIDRAFT2_1146032', 'ASPNIDRAFT2_1142077', 'ASPNIDRAFT2_1117636', 'ASPNIDRAFT2_54860', 'ASPNIDRAFT2_1099883', 'ASPNIDRAFT2_1168995', 'A0A117DYT5', 'ASPNIDRAFT2_1110178', 'ASPNIDRAFT2_1178295', 'A0A100IK28', 'ASPNIDRAFT2_1179433', 'A0A117DXA3', 'ASPNIDRAFT2_1161545', 'A0A124BX74', 'ASPNIDRAFT2_1145619', 'A0A100IHG4', 'A0A100IIJ3', 'ASPNIDRAFT2_213559', 'A0A100INF1', 'ASPNIDRAFT2_1147004', 'ASPNIDRAFT2_1187280', 'ASPNIDRAFT2_1144686', 'ASPNIDRAFT2_175486', 'A0A100IT94', 'A0A100IN24']\n"
     ]
    }
   ],
   "source": [
    "list_of_acc_numbers_QM = list(df1['Accession'])[:]\n",
    "print(f'We have {len(list_of_acc_numbers_QM)} genes for the QM. See acc numbers below.')\n",
    "print(list_of_acc_numbers_QM)"
   ]
  },
  {
   "attachments": {},
   "cell_type": "markdown",
   "id": "06daff6e-8255-4bf4-83b1-347b72ce0635",
   "metadata": {},
   "source": [
    "The names from the genome do not match with the ACC numbers from our dfs. We can fix them easily by removing the ending of the names: "
   ]
  },
  {
   "attachments": {},
   "cell_type": "markdown",
   "id": "1de1911c-76e4-488b-a4e6-4f9e78c1c71d",
   "metadata": {},
   "source": [
    "### Updating the names for the QM"
   ]
  },
  {
   "cell_type": "code",
   "execution_count": 68,
   "id": "082889c6-14e8-4ae3-81c1-b9fef6bc77d8",
   "metadata": {},
   "outputs": [],
   "source": [
    "# remove p1 label \n",
    "for i in range( len(list_of_acc_numbers_QM)): \n",
    "    if list_of_acc_numbers_QM[i].startswith('ASPNIDRAFT2'): \n",
    "        list_of_acc_numbers_QM[i] = list_of_acc_numbers_QM[i]+'-t41_1'"
   ]
  },
  {
   "cell_type": "code",
   "execution_count": 69,
   "id": "c9e92d35-f425-468b-a8d1-4edc2ee80ea8",
   "metadata": {},
   "outputs": [
    {
     "name": "stdout",
     "output_type": "stream",
     "text": [
      "The number of genes sampled are 39\n"
     ]
    }
   ],
   "source": [
    "print(f'The number of genes sampled are {len(list_of_acc_numbers_QM)}')"
   ]
  },
  {
   "attachments": {},
   "cell_type": "markdown",
   "id": "f8073b01",
   "metadata": {},
   "source": [
    "Lets got through the genome and see if we can get the sequences and translate them into protein:"
   ]
  },
  {
   "cell_type": "code",
   "execution_count": 70,
   "id": "7faa63c7-f043-4f22-b9d8-fcde48097953",
   "metadata": {},
   "outputs": [],
   "source": [
    "list_of_biopython_objects1 = []\n",
    "not_in_genome1 = []\n",
    "list_of_names1 = []\n",
    "\n",
    "\n",
    "for acc in list_of_acc_numbers_QM: \n",
    "    for protein in proteins: \n",
    "        if acc == protein.id: \n",
    "            # save \n",
    "            found_protein = protein.translate()\n",
    "            found_protein.id = protein.id\n",
    "            found_protein.name = protein.name \n",
    "            found_protein.description = protein.description\n",
    "\n",
    "            \n",
    "            list_of_biopython_objects1.append(found_protein)\n",
    "            list_of_names1.append(protein.id)\n",
    "            \n",
    "            \n",
    "# The ones that we didnt see in the genome             \n",
    "for acc in list_of_acc_numbers_QM: \n",
    "    if acc not in list_of_names1:\n",
    "        not_in_genome1.append(acc)\n"
   ]
  },
  {
   "attachments": {},
   "cell_type": "markdown",
   "id": "97aca6d6",
   "metadata": {},
   "source": [
    "Now, not all genes were in the genome bc they are annotated differently. We can fetch them from pdb by using the python package teemi like shown below. "
   ]
  },
  {
   "cell_type": "code",
   "execution_count": 71,
   "id": "1a17b1a6-421c-473e-a935-ebcb66c33b29",
   "metadata": {},
   "outputs": [],
   "source": [
    "from teemi.design.fetch_sequences import retrieve_sequences_from_PDB"
   ]
  },
  {
   "cell_type": "code",
   "execution_count": 72,
   "id": "9b7e19cc-8a66-4fc9-bff8-60818ac59751",
   "metadata": {},
   "outputs": [],
   "source": [
    "from_pdb1 = retrieve_sequences_from_PDB(not_in_genome1) "
   ]
  },
  {
   "cell_type": "code",
   "execution_count": 73,
   "id": "067cce25-2988-4a8c-823f-a18f4c4d5465",
   "metadata": {},
   "outputs": [
    {
     "name": "stdout",
     "output_type": "stream",
     "text": [
      "The number of proteins found in the genome is : 28. The remaining number is : 11\n"
     ]
    }
   ],
   "source": [
    "print(f'The number of proteins found in the genome is : {len(list_of_biopython_objects1)}. The remaining number is : {len(not_in_genome1)}')"
   ]
  },
  {
   "cell_type": "code",
   "execution_count": 74,
   "id": "9cd320d8-a19a-489f-b13d-fe98571a5713",
   "metadata": {},
   "outputs": [
    {
     "data": {
      "text/plain": [
       "[SeqRecord(seq=Seq('MKFFNAKGSLLSSGIYLIALTPFVNAKCSLPSSYSWSSTDALATPKSGWTALKD...LKQ'), id='tr|A0A100I6G0|A0A100I6G0_ASPNG', name='tr|A0A100I6G0|A0A100I6G0_ASPNG', description='tr|A0A100I6G0|A0A100I6G0_ASPNG Alpha-L-arabinofuranosidase OS=Aspergillus niger OX=5061 GN=ABL_01224 PE=3 SV=1', dbxrefs=[]),\n",
       " SeqRecord(seq=Seq('MLTKNLLLCFAAAKAVLAVPHDSVVERSDALHKLSERSTPSSTGENNGFYYSFW...TVQ'), id='tr|F5CI28|F5CI28_ASPNG', name='tr|F5CI28|F5CI28_ASPNG', description='tr|F5CI28|F5CI28_ASPNG Endo-1,4-beta-xylanase OS=Aspergillus niger OX=5061 GN=xynB PE=2 SV=1', dbxrefs=[]),\n",
       " SeqRecord(seq=Seq('MVQSSVLGFPRMGKLRDLKKATEAYWGDKISRDELLAEGKRLRLEHWKLQKDAG...HGN'), id='tr|A0A117DYT5|A0A117DYT5_ASPNG', name='tr|A0A117DYT5|A0A117DYT5_ASPNG', description='tr|A0A117DYT5|A0A117DYT5_ASPNG 5-methyltetrahydropteroyltriglutamate--homocysteine S-methyltransferase OS=Aspergillus niger OX=5061 GN=ABL_02132 PE=3 SV=1', dbxrefs=[]),\n",
       " SeqRecord(seq=Seq('MAPWILGEKFNTVYPHKGSIKALWETKWKFACEKSVYPFHDGAIEDFRPIFQKL...LKN'), id='tr|A0A100IK28|A0A100IK28_ASPNG', name='tr|A0A100IK28|A0A100IK28_ASPNG', description='tr|A0A100IK28|A0A100IK28_ASPNG Pigment biosynthesis protein Ayg1 OS=Aspergillus niger OX=5061 GN=ABL_05349 PE=4 SV=1', dbxrefs=[]),\n",
       " SeqRecord(seq=Seq('MSVSFDTTDVAPAPVPVVQDGPCLGSKSRMPEFSLAGKVVLVSGAARGLGLTQA...AAW'), id='tr|A0A117DXA3|A0A117DXA3_ASPNG', name='tr|A0A117DXA3|A0A117DXA3_ASPNG', description='tr|A0A117DXA3|A0A117DXA3_ASPNG Short chain dehydrogenase OS=Aspergillus niger OX=5061 GN=ABL_02277 PE=3 SV=1', dbxrefs=[]),\n",
       " SeqRecord(seq=Seq('MAAPAQKFKVADISLAAFGRREIELAEIEMPGLMSIRRRYGPDQPLKGARIAGC...YRY'), id='tr|A0A124BX74|A0A124BX74_ASPNG', name='tr|A0A124BX74|A0A124BX74_ASPNG', description='tr|A0A124BX74|A0A124BX74_ASPNG Adenosylhomocysteinase OS=Aspergillus niger OX=5061 GN=ABL_04200 PE=3 SV=1', dbxrefs=[]),\n",
       " SeqRecord(seq=Seq('MKNLLLLLASFTGSLVQAQTGVTHPISEECGPSVVCVNHYANVLPYHFFRNVST...VLK'), id='tr|A0A100IHG4|A0A100IHG4_ASPNG', name='tr|A0A100IHG4|A0A100IHG4_ASPNG', description='tr|A0A100IHG4|A0A100IHG4_ASPNG Lactonohydrolase OS=Aspergillus niger OX=5061 GN=ABL_04072 PE=4 SV=1', dbxrefs=[]),\n",
       " SeqRecord(seq=Seq('MSDITHPTIKDGWFSEQSDMWPGQAMNLKVNQILHHEKSKYQDVLVFESSDYGT...LDA'), id='tr|A0A100IIJ3|A0A100IIJ3_ASPNG', name='tr|A0A100IIJ3|A0A100IIJ3_ASPNG', description='tr|A0A100IIJ3|A0A100IIJ3_ASPNG Spermidine synthase OS=Aspergillus niger OX=5061 GN=ABL_04515 PE=3 SV=1', dbxrefs=[]),\n",
       " SeqRecord(seq=Seq('MTIPEEVDIIVCGGGSTGCVIAGRLANLDHNLQVLLIEAGEDNLNNPWVYRPGI...SRL'), id='tr|A0A100INF1|A0A100INF1_ASPNG', name='tr|A0A100INF1|A0A100INF1_ASPNG', description='tr|A0A100INF1|A0A100INF1_ASPNG Glucose-methanol-choline (Gmc) oxidoreductase OS=Aspergillus niger OX=5061 GN=ABL_07089 PE=3 SV=1', dbxrefs=[]),\n",
       " SeqRecord(seq=Seq('MLDKQTESLPLAEERPHLRQPPHQYRRSILHFFTSAGLLLLSIYALFPRLSLFS...WDP'), id='tr|A0A100IT94|A0A100IT94_ASPNG', name='tr|A0A100IT94|A0A100IT94_ASPNG', description='tr|A0A100IT94|A0A100IT94_ASPNG Xaa-pro dipeptidase OS=Aspergillus niger OX=5061 GN=ABL_09581 PE=4 SV=1', dbxrefs=[]),\n",
       " SeqRecord(seq=Seq('MSKFLLWTVSAAALARAATLEQVCTVAHAKAAVPASGLVQGVVTNPSSVTAVPV...PIY'), id='tr|A0A100IN24|A0A100IN24_ASPNG', name='tr|A0A100IN24|A0A100IN24_ASPNG', description='tr|A0A100IN24|A0A100IN24_ASPNG Carboxylic ester hydrolase OS=Aspergillus niger OX=5061 GN=ABL_06870 PE=3 SV=1', dbxrefs=[])]"
      ]
     },
     "execution_count": 74,
     "metadata": {},
     "output_type": "execute_result"
    }
   ],
   "source": [
    "from_pdb1 = [seq[0] for seq in from_pdb1]\n",
    "from_pdb1"
   ]
  },
  {
   "cell_type": "code",
   "execution_count": 75,
   "id": "e6e23d23-d33a-40cd-b0d9-b1e2f048c609",
   "metadata": {},
   "outputs": [],
   "source": [
    "all_QM_proteins = list_of_biopython_objects1 + from_pdb1"
   ]
  },
  {
   "cell_type": "code",
   "execution_count": 76,
   "id": "75d798d6-fe27-40b1-b98b-fa781453104a",
   "metadata": {},
   "outputs": [
    {
     "data": {
      "text/plain": [
       "39"
      ]
     },
     "execution_count": 76,
     "metadata": {},
     "output_type": "execute_result"
    }
   ],
   "source": [
    "len(all_QM_proteins)\n"
   ]
  },
  {
   "attachments": {},
   "cell_type": "markdown",
   "id": "ac282ae4",
   "metadata": {},
   "source": [
    "We got all the protein sequences for the QM mutant. Now we do the same for the bglA mutant"
   ]
  },
  {
   "attachments": {},
   "cell_type": "markdown",
   "id": "51f8663f-f631-472f-b265-18de5b2064f7",
   "metadata": {
    "tags": []
   },
   "source": [
    "###  Updating the names for the bglA"
   ]
  },
  {
   "cell_type": "code",
   "execution_count": 77,
   "id": "0ab32755-3ae2-4203-9b37-a561c5bdf293",
   "metadata": {},
   "outputs": [],
   "source": [
    "for i in range( len(list_of_acc_numbers_bglA)): \n",
    "    if list_of_acc_numbers_bglA[i].startswith('ASPNIDRAFT2'): \n",
    "        list_of_acc_numbers_bglA[i] = list_of_acc_numbers_bglA[i]+'-t41_1'"
   ]
  },
  {
   "attachments": {},
   "cell_type": "markdown",
   "id": "025e65f4",
   "metadata": {},
   "source": [
    "Retrieving the sequences."
   ]
  },
  {
   "cell_type": "code",
   "execution_count": 78,
   "id": "a9300424-1890-43a3-931c-1cf4402a0990",
   "metadata": {},
   "outputs": [],
   "source": [
    "list_of_biopython_objects2 = []\n",
    "not_in_genome2 = []\n",
    "list_of_names2 = []\n",
    "\n",
    "\n",
    "for acc in list_of_acc_numbers_bglA: \n",
    "    for protein in proteins: \n",
    "        if acc == protein.id: \n",
    "            # save \n",
    "            found_protein = protein.translate()\n",
    "            found_protein.id = protein.id\n",
    "            found_protein.name = protein.name \n",
    "            found_protein.description = protein.description\n",
    "\n",
    "            \n",
    "            list_of_biopython_objects2.append(found_protein)\n",
    "            list_of_names2.append(protein.id)\n",
    "            \n",
    "            \n",
    "# The ones that we didnt see in the genome             \n",
    "for acc in list_of_acc_numbers_bglA: \n",
    "    if acc not in list_of_names2:\n",
    "        not_in_genome2.append(acc)\n"
   ]
  },
  {
   "attachments": {},
   "cell_type": "markdown",
   "id": "018eaf7f",
   "metadata": {},
   "source": [
    "and the sequences from PDB."
   ]
  },
  {
   "cell_type": "code",
   "execution_count": 79,
   "id": "725cc5a3-ee9f-455e-a850-8c9679416d18",
   "metadata": {},
   "outputs": [],
   "source": [
    "from_pdb2 = retrieve_sequences_from_PDB(not_in_genome2) "
   ]
  },
  {
   "cell_type": "code",
   "execution_count": 80,
   "id": "b86f3ed0-e3d0-4f72-b2da-a3672fa673ca",
   "metadata": {},
   "outputs": [
    {
     "name": "stdout",
     "output_type": "stream",
     "text": [
      "The number of proteins found in the genome is : 1. The remaining number is : 0\n"
     ]
    }
   ],
   "source": [
    "print(f'The number of proteins found in the genome is : {len(list_of_biopython_objects2)}. The remaining number is : {len(not_in_genome2)}')"
   ]
  },
  {
   "cell_type": "code",
   "execution_count": 81,
   "id": "72114e99-f5ef-4eca-8157-37c5d3cde6ec",
   "metadata": {},
   "outputs": [],
   "source": [
    "from_pdb2 = [seq[0] for seq in from_pdb2]\n"
   ]
  },
  {
   "cell_type": "code",
   "execution_count": 82,
   "id": "a23df5d1-192c-4eb7-87c4-c6863ec4075e",
   "metadata": {},
   "outputs": [],
   "source": [
    "all_blaA_proteins = list_of_biopython_objects2 + from_pdb2"
   ]
  },
  {
   "cell_type": "code",
   "execution_count": 83,
   "id": "66acaccc-35fd-446e-aed4-1e3da326d7b6",
   "metadata": {},
   "outputs": [
    {
     "data": {
      "text/plain": [
       "1"
      ]
     },
     "execution_count": 83,
     "metadata": {},
     "output_type": "execute_result"
    }
   ],
   "source": [
    "len(all_blaA_proteins)"
   ]
  },
  {
   "attachments": {},
   "cell_type": "markdown",
   "id": "d70320b2",
   "metadata": {},
   "source": [
    "## NOW FETCHING ALL THE PROTEINS\n"
   ]
  },
  {
   "cell_type": "code",
   "execution_count": 84,
   "id": "2d343a98",
   "metadata": {},
   "outputs": [],
   "source": [
    "xls = pd.ExcelFile('../data/mutant_strains_on_sugarcane_bagasse/KO_of_exocellulases.xlsx')\n",
    "df3 = pd.read_excel(xls, 'Total')\n"
   ]
  },
  {
   "attachments": {},
   "cell_type": "markdown",
   "id": "ff20e947",
   "metadata": {},
   "source": [
    "The following is the all mutant:"
   ]
  },
  {
   "cell_type": "code",
   "execution_count": 85,
   "id": "a51f05f7",
   "metadata": {},
   "outputs": [
    {
     "data": {
      "text/html": [
       "<div>\n",
       "<style scoped>\n",
       "    .dataframe tbody tr th:only-of-type {\n",
       "        vertical-align: middle;\n",
       "    }\n",
       "\n",
       "    .dataframe tbody tr th {\n",
       "        vertical-align: top;\n",
       "    }\n",
       "\n",
       "    .dataframe thead th {\n",
       "        text-align: right;\n",
       "    }\n",
       "</style>\n",
       "<table border=\"1\" class=\"dataframe\">\n",
       "  <thead>\n",
       "    <tr style=\"text-align: right;\">\n",
       "      <th></th>\n",
       "      <th>Accession</th>\n",
       "    </tr>\n",
       "  </thead>\n",
       "  <tbody>\n",
       "    <tr>\n",
       "      <th>0</th>\n",
       "      <td>ASPNIDRAFT2_1147525</td>\n",
       "    </tr>\n",
       "    <tr>\n",
       "      <th>1</th>\n",
       "      <td>ASPNIDRAFT2_1166799</td>\n",
       "    </tr>\n",
       "    <tr>\n",
       "      <th>2</th>\n",
       "      <td>ASPNIDRAFT2_1156695</td>\n",
       "    </tr>\n",
       "    <tr>\n",
       "      <th>3</th>\n",
       "      <td>ASPNIDRAFT2_1179270</td>\n",
       "    </tr>\n",
       "    <tr>\n",
       "      <th>4</th>\n",
       "      <td>ASPNIDRAFT2_1132679</td>\n",
       "    </tr>\n",
       "    <tr>\n",
       "      <th>...</th>\n",
       "      <td>...</td>\n",
       "    </tr>\n",
       "    <tr>\n",
       "      <th>182</th>\n",
       "      <td>ASPNIDRAFT2_1147356</td>\n",
       "    </tr>\n",
       "    <tr>\n",
       "      <th>183</th>\n",
       "      <td>A0A117E1S1</td>\n",
       "    </tr>\n",
       "    <tr>\n",
       "      <th>184</th>\n",
       "      <td>A0A100IQ98</td>\n",
       "    </tr>\n",
       "    <tr>\n",
       "      <th>185</th>\n",
       "      <td>A0A117E2B9</td>\n",
       "    </tr>\n",
       "    <tr>\n",
       "      <th>186</th>\n",
       "      <td>ASPNIDRAFT2_1129086</td>\n",
       "    </tr>\n",
       "  </tbody>\n",
       "</table>\n",
       "<p>187 rows × 1 columns</p>\n",
       "</div>"
      ],
      "text/plain": [
       "               Accession\n",
       "0    ASPNIDRAFT2_1147525\n",
       "1    ASPNIDRAFT2_1166799\n",
       "2    ASPNIDRAFT2_1156695\n",
       "3    ASPNIDRAFT2_1179270\n",
       "4    ASPNIDRAFT2_1132679\n",
       "..                   ...\n",
       "182  ASPNIDRAFT2_1147356\n",
       "183           A0A117E1S1\n",
       "184           A0A100IQ98\n",
       "185           A0A117E2B9\n",
       "186  ASPNIDRAFT2_1129086\n",
       "\n",
       "[187 rows x 1 columns]"
      ]
     },
     "execution_count": 85,
     "metadata": {},
     "output_type": "execute_result"
    }
   ],
   "source": [
    "df3"
   ]
  },
  {
   "attachments": {},
   "cell_type": "markdown",
   "id": "ac85d38f",
   "metadata": {},
   "source": [
    "Lets retriece the ACC numbers"
   ]
  },
  {
   "cell_type": "code",
   "execution_count": 86,
   "id": "f4ba4bcb",
   "metadata": {},
   "outputs": [
    {
     "name": "stdout",
     "output_type": "stream",
     "text": [
      "We have 187 genes from the all. See the names below\n",
      "['ASPNIDRAFT2_1147525', 'ASPNIDRAFT2_1166799', 'ASPNIDRAFT2_1156695', 'ASPNIDRAFT2_1179270', 'ASPNIDRAFT2_1132679', 'ASPNIDRAFT2_1107559', 'ASPNIDRAFT2_1176802', 'ASPNIDRAFT2_1117716', 'ASPNIDRAFT2_1116766', 'ASPNIDRAFT2_1088919', 'ASPNIDRAFT2_1204436', 'ASPNIDRAFT2_1161751', 'ASPNIDRAFT2_1159267', 'ASPNIDRAFT2_1126962', 'ASPNIDRAFT2_1146032', 'ASPNIDRAFT2_1182746', 'ASPNIDRAFT2_1183964', 'ASPNIDRAFT2_1160649', 'ASPNIDRAFT2_1158713', 'ASPNIDRAFT2_1146214', 'ASPNIDRAFT2_1146704', 'ASPNIDRAFT2_1013899', 'A0A100IHS6', 'ASPNIDRAFT2_1180590', 'ASPNIDRAFT2_182100', 'A0A100I6G0', 'ASPNIDRAFT2_1142077', 'ASPNIDRAFT2_1141341', 'ASPNIDRAFT2_1143951', 'ASPNIDRAFT2_1164595', 'ASPNIDRAFT2_1129152', 'ASPNIDRAFT2_1117636', 'ASPNIDRAFT2_1122775', 'A0A117DX26', 'ASPNIDRAFT2_1147022', 'A0A124BYG9', 'ASPNIDRAFT2_1161570', 'A0A100I9R5', 'ASPNIDRAFT2_1118013', 'ASPNIDRAFT2_1165424', 'ASPNIDRAFT2_1162768', 'ASPNIDRAFT2_1085850', 'ASPNIDRAFT2_1110657', 'ASPNIDRAFT2_1219333', 'ASPNIDRAFT2_1082604', 'ASPNIDRAFT2_1164625', 'ASPNIDRAFT2_54860', 'ASPNIDRAFT2_1106945', 'ASPNIDRAFT2_1099157', 'A0A124BVP3', 'ASPNIDRAFT2_1102814', 'ASPNIDRAFT2_1187703', 'ASPNIDRAFT2_1227363', 'ASPNIDRAFT2_1152313', 'ASPNIDRAFT2_1154180', 'A0A117E4Y1', 'F5CI28', 'ASPNIDRAFT2_1158402', 'ASPNIDRAFT2_1152501', 'ASPNIDRAFT2_1099883', 'ASPNIDRAFT2_1125363', 'ASPNIDRAFT2_1162209', 'ASPNIDRAFT2_1130315', 'ASPNIDRAFT2_1159253', 'ASPNIDRAFT2_1168995', 'ASPNIDRAFT2_1182629', 'A0A100ILW0', 'ASPNIDRAFT2_1165908', 'ASPNIDRAFT2_1144977', 'ASPNIDRAFT2_1145000', 'A0A100IMG5', 'A0A117DYT5', 'ASPNIDRAFT2_1110178', 'A0A117E1C5', 'A0A117DZ97', 'ASPNIDRAFT2_1143275', 'ASPNIDRAFT2_1187269', 'ASPNIDRAFT2_1116389', 'ASPNIDRAFT2_1180704', 'ASPNIDRAFT2_1148421', 'ASPNIDRAFT2_1223842', 'A0A100IAD1', 'ASPNIDRAFT2_1144628', 'ASPNIDRAFT2_1146675', 'A0A100I1U6', 'A0A100INN3', 'ASPNIDRAFT2_1178295', 'ASPNIDRAFT2_1162736', 'A0A100IK28', 'ASPNIDRAFT2_1187426', 'ASPNIDRAFT2_1183516', 'ASPNIDRAFT2_1158698', 'A0A100INU2', 'ASPNIDRAFT2_1164521', 'ASPNIDRAFT2_1179433', 'ASPNIDRAFT2_1156809', 'ASPNIDRAFT2_1167448', 'A0A117DXA3', 'A0A100IML6', 'A0A100IR60', 'ASPNIDRAFT2_1161545', 'ASPNIDRAFT2_1150208', 'A0A100I4C5', 'A0A124BX74', 'ASPNIDRAFT2_1145619', 'A0A100IS75', 'A0A100IHG4', 'ASPNIDRAFT2_1207585', 'A0A124BWF4', 'A0A100IPV4', 'ASPNIDRAFT2_1158719', 'A0A124BV73', 'A0A100IKQ4', 'A0A100IIJ3', 'ASPNIDRAFT2_213559', 'A0A124BXH6', 'A0A100IMW6', 'A0A100IID9', 'ASPNIDRAFT2_207134', 'ASPNIDRAFT2_52459', 'A0A100INF1', 'ASPNIDRAFT2_1141724', 'ASPNIDRAFT2_1141700', 'ASPNIDRAFT2_1183095', 'ASPNIDRAFT2_1155990', 'A0A117E3B9', 'A0A100I349', 'ASPNIDRAFT2_1160135', 'ASPNIDRAFT2_1147004', 'A0A100INW8', 'A0A124BWL8', 'ASPNIDRAFT2_1147357', 'A0A117E1I5', 'A0A117DWA5', 'A0A100I376', 'ASPNIDRAFT2_1187280', 'A0A100IRL5', 'ASPNIDRAFT2_1166644', 'A0A100IKW0', 'ASPNIDRAFT2_1098926', 'A0A100I6D1', 'A0A124BVF8', 'ASPNIDRAFT2_1160969', 'A0A100I7W0', 'ASPNIDRAFT2_1085285', 'ASPNIDRAFT2_1144686', 'A0A117E016', 'ASPNIDRAFT2_1163354', 'ASPNIDRAFT2_1125663', 'A0A100INW1', 'ASPNIDRAFT2_175486', 'A0A117E3D0', 'A0A100IHZ6', 'A0A117DXK4', 'A0A117E2A5', 'ASPNIDRAFT2_1168200', 'A0A117E3C1', 'A0A100ISN1', 'ASPNIDRAFT2_1126209', 'A0A100IPX8', 'ASPNIDRAFT2_1030027', 'A0A100IT94', 'A0A100IN38', 'A0A100I1Y9', 'A0A100ILS5', 'ASPNIDRAFT2_1109086', 'A0A100IQ31', 'A0A117E187', 'ASPNIDRAFT2_1144101', 'ASPNIDRAFT2_1006858', 'ASPNIDRAFT2_1179759', 'A0A100IIK3', 'A0A124BXG2', 'A0A100IJW8', 'ASPNIDRAFT2_1148181', 'A0A100I3F9', 'ASPNIDRAFT2_1142544', 'ASPNIDRAFT2_1114396', 'A0A100IN24', 'ASPNIDRAFT2_1161175', 'ASPNIDRAFT2_212833', 'ASPNIDRAFT2_1150265', 'ASPNIDRAFT2_1147356', 'A0A117E1S1', 'A0A100IQ98', 'A0A117E2B9', 'ASPNIDRAFT2_1129086']\n"
     ]
    }
   ],
   "source": [
    "list_of_acc_numbers = list(df3['Accession'])[:]\n",
    "print(f'We have {len(list_of_acc_numbers)} genes from the all. See the names below')\n",
    "print(list_of_acc_numbers)"
   ]
  },
  {
   "attachments": {},
   "cell_type": "markdown",
   "id": "cda1d9ec",
   "metadata": {},
   "source": [
    "The names from the genome do not match with the ACC numbers from our dfs. We can fix them easily by removing the ending of the names: "
   ]
  },
  {
   "attachments": {},
   "cell_type": "markdown",
   "id": "67e8adc4",
   "metadata": {},
   "source": [
    "### Updating the names for the QM"
   ]
  },
  {
   "cell_type": "code",
   "execution_count": 87,
   "id": "d77ce7a7",
   "metadata": {},
   "outputs": [],
   "source": [
    "# remove p1 label \n",
    "for i in range( len(list_of_acc_numbers)): \n",
    "    if list_of_acc_numbers[i].startswith('ASPNIDRAFT2'): \n",
    "        list_of_acc_numbers[i] = list_of_acc_numbers[i]+'-t41_1'"
   ]
  },
  {
   "cell_type": "code",
   "execution_count": 88,
   "id": "c0c0285f",
   "metadata": {},
   "outputs": [
    {
     "name": "stdout",
     "output_type": "stream",
     "text": [
      "The number of genes sampled are 187\n"
     ]
    }
   ],
   "source": [
    "print(f'The number of genes sampled are {len(list_of_acc_numbers)}')"
   ]
  },
  {
   "attachments": {},
   "cell_type": "markdown",
   "id": "9c27fae9",
   "metadata": {},
   "source": [
    "Lets got through the genome and see if we can get the sequences and translate them into protein:"
   ]
  },
  {
   "cell_type": "code",
   "execution_count": 89,
   "id": "757f88a3",
   "metadata": {},
   "outputs": [],
   "source": [
    "list_of_biopython_objects3 = []\n",
    "not_in_genome3 = []\n",
    "list_of_names3 = []\n",
    "\n",
    "\n",
    "for acc in list_of_acc_numbers: \n",
    "    for protein in proteins: \n",
    "        if acc == protein.id: \n",
    "            # save \n",
    "            found_protein = protein.translate()\n",
    "            found_protein.id = protein.id\n",
    "            found_protein.name = protein.name \n",
    "            found_protein.description = protein.description\n",
    "            \n",
    "            list_of_biopython_objects3.append(found_protein)\n",
    "            list_of_names3.append(protein.id)\n",
    "            \n",
    "            \n",
    "# The ones that we didnt see in the genome             \n",
    "for acc in list_of_acc_numbers: \n",
    "    if acc not in list_of_names3:\n",
    "        not_in_genome3.append(acc)\n"
   ]
  },
  {
   "attachments": {},
   "cell_type": "markdown",
   "id": "7693bb84",
   "metadata": {},
   "source": [
    "Now, not all genes were in the genome bc they are annotated differently. We can fetch them from pdb by using the python package teemi like shown below. "
   ]
  },
  {
   "cell_type": "code",
   "execution_count": 90,
   "id": "3cb9a8f9",
   "metadata": {},
   "outputs": [],
   "source": [
    "from teemi.design.fetch_sequences import retrieve_sequences_from_PDB"
   ]
  },
  {
   "cell_type": "code",
   "execution_count": 91,
   "id": "94664552",
   "metadata": {},
   "outputs": [],
   "source": [
    "from_pdb3 = retrieve_sequences_from_PDB(not_in_genome3) "
   ]
  },
  {
   "cell_type": "code",
   "execution_count": 92,
   "id": "368737b8",
   "metadata": {},
   "outputs": [
    {
     "name": "stdout",
     "output_type": "stream",
     "text": [
      "The number of proteins found in the genome is : 118. The remaining number is : 69\n"
     ]
    }
   ],
   "source": [
    "print(f'The number of proteins found in the genome is : {len(list_of_biopython_objects3)}. The remaining number is : {len(not_in_genome3)}')"
   ]
  },
  {
   "cell_type": "code",
   "execution_count": 93,
   "id": "b50ee8f8",
   "metadata": {},
   "outputs": [
    {
     "data": {
      "text/plain": [
       "[SeqRecord(seq=Seq('MRAIWPLVSLFSAVKALPAASATASASVAASSSPAPTASATGNPFEGYQLYVNP...PSL'), id='tr|A0A100IHS6|A0A100IHS6_ASPNG', name='tr|A0A100IHS6|A0A100IHS6_ASPNG', description='tr|A0A100IHS6|A0A100IHS6_ASPNG Glucanase OS=Aspergillus niger OX=5061 GN=ABL_04185 PE=3 SV=1', dbxrefs=[]),\n",
       " SeqRecord(seq=Seq('MKFFNAKGSLLSSGIYLIALTPFVNAKCSLPSSYSWSSTDALATPKSGWTALKD...LKQ'), id='tr|A0A100I6G0|A0A100I6G0_ASPNG', name='tr|A0A100I6G0|A0A100I6G0_ASPNG', description='tr|A0A100I6G0|A0A100I6G0_ASPNG Alpha-L-arabinofuranosidase OS=Aspergillus niger OX=5061 GN=ABL_01224 PE=3 SV=1', dbxrefs=[]),\n",
       " SeqRecord(seq=Seq('MAFIKYALPALAAAQVAMAASCGSTDSTITISSQSDLDSYATCTTLKGDVEISE...YAL'), id='tr|A0A117DX26|A0A117DX26_ASPNG', name='tr|A0A117DX26|A0A117DX26_ASPNG', description='tr|A0A117DX26|A0A117DX26_ASPNG GPI-anchored cell wall organization protein Ecm33 OS=Aspergillus niger OX=5061 GN=ABL_02084 PE=4 SV=1', dbxrefs=[]),\n",
       " SeqRecord(seq=Seq('MTNFKWIVAAAGLLSGQVLAAPTATYTHAKRATVSDAAFGYASMNGGTTGGAGG...LTF'), id='tr|A0A124BYG9|A0A124BYG9_ASPNG', name='tr|A0A124BYG9|A0A124BYG9_ASPNG', description='tr|A0A124BYG9|A0A124BYG9_ASPNG Pectate lyase OS=Aspergillus niger OX=5061 GN=ABL_08192 PE=3 SV=1', dbxrefs=[]),\n",
       " SeqRecord(seq=Seq('MSNLPHEPEFEQAYKELASTLENSTLFQKNPEYRKALAVVSVPERVIQFRVVWE...DWW'), id='tr|A0A100I9R5|A0A100I9R5_ASPNG', name='tr|A0A100I9R5|A0A100I9R5_ASPNG', description='tr|A0A100I9R5|A0A100I9R5_ASPNG Glutamate dehydrogenase OS=Aspergillus niger OX=5061 GN=ABL_02070 PE=3 SV=1', dbxrefs=[]),\n",
       " SeqRecord(seq=Seq('MHVRSYLSAVLYGLPALTQVAAAKSTGDPFQLYTISAENITAKLIPYGARLTSL...GTV'), id='tr|A0A124BVP3|A0A124BVP3_ASPNG', name='tr|A0A124BVP3|A0A124BVP3_ASPNG', description='tr|A0A124BVP3|A0A124BVP3_ASPNG Aldose 1-epimerase OS=Aspergillus niger OX=5061 GN=ABL_01832 PE=4 SV=1', dbxrefs=[]),\n",
       " SeqRecord(seq=Seq('MKVASLLSLALPGAALAATDSFQSRCNDFQNKIDIANVTVRSVAYVAAGQNISQ...TCV'), id='tr|A0A117E4Y1|A0A117E4Y1_ASPNG', name='tr|A0A117E4Y1|A0A117E4Y1_ASPNG', description='tr|A0A117E4Y1|A0A117E4Y1_ASPNG Carboxylic ester hydrolase OS=Aspergillus niger OX=5061 GN=ABL_10098 PE=3 SV=1', dbxrefs=[]),\n",
       " SeqRecord(seq=Seq('MLTKNLLLCFAAAKAVLAVPHDSVVERSDALHKLSERSTPSSTGENNGFYYSFW...TVQ'), id='tr|F5CI28|F5CI28_ASPNG', name='tr|F5CI28|F5CI28_ASPNG', description='tr|F5CI28|F5CI28_ASPNG Endo-1,4-beta-xylanase OS=Aspergillus niger OX=5061 GN=xynB PE=2 SV=1', dbxrefs=[]),\n",
       " SeqRecord(seq=Seq('MPSFSQATELSAWKELQEHHNSVGRNIVLKECFQKDPQRFEKFSRTFNNTVDNS...NLA'), id='tr|A0A100ILW0|A0A100ILW0_ASPNG', name='tr|A0A100ILW0|A0A100ILW0_ASPNG', description='tr|A0A100ILW0|A0A100ILW0_ASPNG Glucose-6-phosphate isomerase OS=Aspergillus niger OX=5061 GN=ABL_05991 PE=3 SV=1', dbxrefs=[]),\n",
       " SeqRecord(seq=Seq('MASKDRDILPDVVKPVHYNVSLFDLQFGGSWGYKGTVKIDSKVTRPTKSIVLNS...GYA'), id='tr|A0A100IMG5|A0A100IMG5_ASPNG', name='tr|A0A100IMG5|A0A100IMG5_ASPNG', description='tr|A0A100IMG5|A0A100IMG5_ASPNG Aminopeptidase OS=Aspergillus niger OX=5061 GN=ABL_06578 PE=3 SV=1', dbxrefs=[]),\n",
       " SeqRecord(seq=Seq('MVQSSVLGFPRMGKLRDLKKATEAYWGDKISRDELLAEGKRLRLEHWKLQKDAG...HGN'), id='tr|A0A117DYT5|A0A117DYT5_ASPNG', name='tr|A0A117DYT5|A0A117DYT5_ASPNG', description='tr|A0A117DYT5|A0A117DYT5_ASPNG 5-methyltetrahydropteroyltriglutamate--homocysteine S-methyltransferase OS=Aspergillus niger OX=5061 GN=ABL_02132 PE=3 SV=1', dbxrefs=[]),\n",
       " SeqRecord(seq=Seq('MAPKSLFYSLFSTISVALASSIPQTDYDVIVVGGGPAGLSVLSSLGRMRRRTLM...RRS'), id='tr|A0A117E1C5|A0A117E1C5_ASPNG', name='tr|A0A117E1C5|A0A117E1C5_ASPNG', description='tr|A0A117E1C5|A0A117E1C5_ASPNG Sulphydryl oxidase Sox OS=Aspergillus niger OX=5061 GN=ABL_06509 PE=4 SV=1', dbxrefs=[]),\n",
       " SeqRecord(seq=Seq('MVKLTDLLARAWLVPLAYGASQSRLSTTTSSQPQFTIPASADVGAQLIANIDDP...LEW'), id='tr|A0A117DZ97|A0A117DZ97_ASPNG', name='tr|A0A117DZ97|A0A117DZ97_ASPNG', description='tr|A0A117DZ97|A0A117DZ97_ASPNG alpha-glucosidase OS=Aspergillus niger OX=5061 GN=ABL_02512 PE=3 SV=1', dbxrefs=[]),\n",
       " SeqRecord(seq=Seq('MASSAEPQTAPFGTWDSPITAATLTSKGISFAGIAATADGIIYVNEGRPAEEGR...KGE'), id='tr|A0A100IAD1|A0A100IAD1_ASPNG', name='tr|A0A100IAD1|A0A100IAD1_ASPNG', description='tr|A0A100IAD1|A0A100IAD1_ASPNG Dipeptidyl-peptidase V OS=Aspergillus niger OX=5061 GN=ABL_02226 PE=3 SV=1', dbxrefs=[]),\n",
       " SeqRecord(seq=Seq('MQVKFLATLLPLLLHLPAAVDGLQGKNARISASLKRHAGRDVPQTALNSTNVYP...HLS'), id='tr|A0A100I1U6|A0A100I1U6_ASPNG', name='tr|A0A100I1U6|A0A100I1U6_ASPNG', description='tr|A0A100I1U6|A0A100I1U6_ASPNG alpha,alpha-trehalase OS=Aspergillus niger OX=5061 GN=ABL_00029 PE=4 SV=1', dbxrefs=[]),\n",
       " SeqRecord(seq=Seq('MLFHPLSLTPLSALAASTGVRPVAVRLIPSRMYSYVGKFSCVFSVVASRLVWTQ...PES'), id='tr|A0A100INN3|A0A100INN3_ASPNG', name='tr|A0A100INN3|A0A100INN3_ASPNG', description='tr|A0A100INN3|A0A100INN3_ASPNG 14-3-3 protein OS=Aspergillus niger OX=5061 GN=ABL_07153 PE=3 SV=1', dbxrefs=[]),\n",
       " SeqRecord(seq=Seq('MAPWILGEKFNTVYPHKGSIKALWETKWKFACEKSVYPFHDGAIEDFRPIFQKL...LKN'), id='tr|A0A100IK28|A0A100IK28_ASPNG', name='tr|A0A100IK28|A0A100IK28_ASPNG', description='tr|A0A100IK28|A0A100IK28_ASPNG Pigment biosynthesis protein Ayg1 OS=Aspergillus niger OX=5061 GN=ABL_05349 PE=4 SV=1', dbxrefs=[]),\n",
       " SeqRecord(seq=Seq('MKFSATTLAGASLLLGRAIAADLPAIEAKSNKFFYSNNGTQFFIRGVAYQQDYT...GEA'), id='tr|A0A100INU2|A0A100INU2_ASPNG', name='tr|A0A100INU2|A0A100INU2_ASPNG', description='tr|A0A100INU2|A0A100INU2_ASPNG 1,3-beta-glucanosyltransferase OS=Aspergillus niger OX=5061 GN=ABL_07290 PE=3 SV=1', dbxrefs=[]),\n",
       " SeqRecord(seq=Seq('MSVSFDTTDVAPAPVPVVQDGPCLGSKSRMPEFSLAGKVVLVSGAARGLGLTQA...AAW'), id='tr|A0A117DXA3|A0A117DXA3_ASPNG', name='tr|A0A117DXA3|A0A117DXA3_ASPNG', description='tr|A0A117DXA3|A0A117DXA3_ASPNG Short chain dehydrogenase OS=Aspergillus niger OX=5061 GN=ABL_02277 PE=3 SV=1', dbxrefs=[]),\n",
       " SeqRecord(seq=Seq('MSKHSKFTPELLIAAPRPSSAVPNDEGKVAIYTVSTYDLDTHADFSEVKLLNLE...VDA'), id='tr|A0A100IML6|A0A100IML6_ASPNG', name='tr|A0A100IML6|A0A100IML6_ASPNG', description='tr|A0A100IML6|A0A100IML6_ASPNG Oligopeptidase family protein OS=Aspergillus niger OX=5061 GN=ABL_06292 PE=4 SV=1', dbxrefs=[]),\n",
       " SeqRecord(seq=Seq('MKLPLFAAAAAGLANAASLPVERAEAEVASVAADLIVRALPNAPDGYTPSNVTC...FML'), id='tr|A0A100IR60|A0A100IR60_ASPNG', name='tr|A0A100IR60|A0A100IR60_ASPNG', description='tr|A0A100IR60|A0A100IR60_ASPNG Lysophospholipase OS=Aspergillus niger OX=5061 GN=ABL_08505 PE=3 SV=1', dbxrefs=[]),\n",
       " SeqRecord(seq=Seq('MVNFTIEEIRGLMDRPANIRNMSVIAHVDHGKSTLSDSLVQRAGIISAAKAGEG...DKL'), id='tr|A0A100I4C5|A0A100I4C5_ASPNG', name='tr|A0A100I4C5|A0A100I4C5_ASPNG', description='tr|A0A100I4C5|A0A100I4C5_ASPNG Elongation factor 2 OS=Aspergillus niger OX=5061 GN=ABL_00744 PE=3 SV=1', dbxrefs=[]),\n",
       " SeqRecord(seq=Seq('MAAPAQKFKVADISLAAFGRREIELAEIEMPGLMSIRRRYGPDQPLKGARIAGC...YRY'), id='tr|A0A124BX74|A0A124BX74_ASPNG', name='tr|A0A124BX74|A0A124BX74_ASPNG', description='tr|A0A124BX74|A0A124BX74_ASPNG Adenosylhomocysteinase OS=Aspergillus niger OX=5061 GN=ABL_04200 PE=3 SV=1', dbxrefs=[]),\n",
       " SeqRecord(seq=Seq('MFSATSRVLFSRLSTSSRLISSPLHSSLPISRLPSRIPYQFVTMSTGLDIVHTA...ALA'), id='tr|A0A100IS75|A0A100IS75_ASPNG', name='tr|A0A100IS75|A0A100IS75_ASPNG', description='tr|A0A100IS75|A0A100IS75_ASPNG Translation initiation inhibitor OS=Aspergillus niger OX=5061 GN=ABL_09041 PE=3 SV=1', dbxrefs=[]),\n",
       " SeqRecord(seq=Seq('MKNLLLLLASFTGSLVQAQTGVTHPISEECGPSVVCVNHYANVLPYHFFRNVST...VLK'), id='tr|A0A100IHG4|A0A100IHG4_ASPNG', name='tr|A0A100IHG4|A0A100IHG4_ASPNG', description='tr|A0A100IHG4|A0A100IHG4_ASPNG Lactonohydrolase OS=Aspergillus niger OX=5061 GN=ABL_04072 PE=4 SV=1', dbxrefs=[]),\n",
       " SeqRecord(seq=Seq('MGYQHATRDMVAYLRIASPIILLLIFVASFIASSIVTARNANKNANAVHTGPGG...ESH'), id='tr|A0A124BWF4|A0A124BWF4_ASPNG', name='tr|A0A124BWF4|A0A124BWF4_ASPNG', description='tr|A0A124BWF4|A0A124BWF4_ASPNG Alkaline phosphatase OS=Aspergillus niger OX=5061 GN=ABL_02941 PE=3 SV=1', dbxrefs=[]),\n",
       " SeqRecord(seq=Seq('MTPQTIIIGTGLAGLTTTSTLLTHHIPVLLLDRAPKPGGNSIKASSGINAAPTR...TCS'), id='tr|A0A100IPV4|A0A100IPV4_ASPNG', name='tr|A0A100IPV4|A0A100IPV4_ASPNG', description='tr|A0A100IPV4|A0A100IPV4_ASPNG Fumarate reductase OS=Aspergillus niger OX=5061 GN=ABL_07826 PE=3 SV=1', dbxrefs=[]),\n",
       " SeqRecord(seq=Seq('MYGTLAYLSFFLTCSLARSVGDVHQHAARTTTQYAQKQPPLDTPWTEDVGTNPW...STN'), id='tr|A0A124BV73|A0A124BV73_ASPNG', name='tr|A0A124BV73|A0A124BV73_ASPNG', description='tr|A0A124BV73|A0A124BV73_ASPNG beta-mannosidase OS=Aspergillus niger OX=5061 GN=ABL_01111 PE=3 SV=1', dbxrefs=[]),\n",
       " SeqRecord(seq=Seq('MLSRTSLLSLLSLAVGVVNADFGITTNDDSYVINANSPNSLVFTVDRGSCDITS...LFQ'), id='tr|A0A100IKQ4|A0A100IKQ4_ASPNG', name='tr|A0A100IKQ4|A0A100IKQ4_ASPNG', description='tr|A0A100IKQ4|A0A100IKQ4_ASPNG Rhamnogalacturonate lyase OS=Aspergillus niger OX=5061 GN=ABL_05670 PE=3 SV=1', dbxrefs=[]),\n",
       " SeqRecord(seq=Seq('MSDITHPTIKDGWFSEQSDMWPGQAMNLKVNQILHHEKSKYQDVLVFESSDYGT...LDA'), id='tr|A0A100IIJ3|A0A100IIJ3_ASPNG', name='tr|A0A100IIJ3|A0A100IIJ3_ASPNG', description='tr|A0A100IIJ3|A0A100IIJ3_ASPNG Spermidine synthase OS=Aspergillus niger OX=5061 GN=ABL_04515 PE=3 SV=1', dbxrefs=[]),\n",
       " SeqRecord(seq=Seq('MGAPTFKDSEKSANEVTSPPVYVDEDPEALKGEIHHGPNTDTQRGLSSRQLQLL...NDA'), id='tr|A0A124BXH6|A0A124BXH6_ASPNG', name='tr|A0A124BXH6|A0A124BXH6_ASPNG', description='tr|A0A124BXH6|A0A124BXH6_ASPNG L-glutamate gamma-semialdehyde dehydrogenase OS=Aspergillus niger OX=5061 GN=ABL_05084 PE=3 SV=1', dbxrefs=[]),\n",
       " SeqRecord(seq=Seq('METVDTSERLARLRQLMQEQFISGFSGSAGTAIVSMTKAALSTDGRYFNQASKQ...DSK'), id='tr|A0A100IMW6|A0A100IMW6_ASPNG', name='tr|A0A100IMW6|A0A100IMW6_ASPNG', description='tr|A0A100IMW6|A0A100IMW6_ASPNG Exocyst complex component Sec8 OS=Aspergillus niger OX=5061 GN=ABL_06780 PE=3 SV=1', dbxrefs=[]),\n",
       " SeqRecord(seq=Seq('MSVAKIAGVVLGSAALVAGHGYVSGAVVDGQYYGGYIVTSYAYESDPPETIAWS...LNA'), id='tr|A0A100IID9|A0A100IID9_ASPNG', name='tr|A0A100IID9|A0A100IID9_ASPNG', description='tr|A0A100IID9|A0A100IID9_ASPNG Endo-beta-1,4-glucanase D OS=Aspergillus niger OX=5061 GN=ABL_04425 PE=3 SV=1', dbxrefs=[]),\n",
       " SeqRecord(seq=Seq('MTIPEEVDIIVCGGGSTGCVIAGRLANLDHNLQVLLIEAGEDNLNNPWVYRPGI...SRL'), id='tr|A0A100INF1|A0A100INF1_ASPNG', name='tr|A0A100INF1|A0A100INF1_ASPNG', description='tr|A0A100INF1|A0A100INF1_ASPNG Glucose-methanol-choline (Gmc) oxidoreductase OS=Aspergillus niger OX=5061 GN=ABL_07089 PE=3 SV=1', dbxrefs=[]),\n",
       " SeqRecord(seq=Seq('MRPLQPYLLHILPLLPLTHSTNTNTTDILTHINPLIGTTNGGNVFAGATLPYGM...MEV'), id='tr|A0A117E3B9|A0A117E3B9_ASPNG', name='tr|A0A117E3B9|A0A117E3B9_ASPNG', description='tr|A0A117E3B9|A0A117E3B9_ASPNG Alpha-1,2-mannosidase OS=Aspergillus niger OX=5061 GN=ABL_09526 PE=4 SV=1', dbxrefs=[]),\n",
       " SeqRecord(seq=Seq('MWRIITALAAGYLIDSVQAAASQEYTWKNVVTGGGGGFTPGIVFNPSAKGVAYA...LEG'), id='tr|A0A100I349|A0A100I349_ASPNG', name='tr|A0A100I349|A0A100I349_ASPNG', description='tr|A0A100I349|A0A100I349_ASPNG Xyloglucanase OS=Aspergillus niger OX=5061 GN=ABL_00052 PE=4 SV=1', dbxrefs=[]),\n",
       " SeqRecord(seq=Seq('MVLAVDLLNPAPQAEARKHKLKTLVPAPRSFFMDVKCPGCFTITTVFSHAQTVV...RRK'), id='tr|A0A100INW8|A0A100INW8_ASPNG', name='tr|A0A100INW8|A0A100INW8_ASPNG', description='tr|A0A100INW8|A0A100INW8_ASPNG 40S ribosomal protein S27 OS=Aspergillus niger OX=5061 GN=ABL_07331 PE=3 SV=1', dbxrefs=[]),\n",
       " SeqRecord(seq=Seq('MRAPSLFGPATAGLSTVLRLGYFLQSTPAYALTFQSVSEPELDLSPLGQIAFTG...PAI'), id='tr|A0A124BWL8|A0A124BWL8_ASPNG', name='tr|A0A124BWL8|A0A124BWL8_ASPNG', description='tr|A0A124BWL8|A0A124BWL8_ASPNG Cellular morphogenesis protein OS=Aspergillus niger OX=5061 GN=ABL_03262 PE=4 SV=1', dbxrefs=[]),\n",
       " SeqRecord(seq=Seq('MKWTQLNTLVLPVLSCLIQFSSSRVVDFRLDLTWENSNVAGISRKAIHTNGQVP...GFD'), id='tr|A0A117E1I5|A0A117E1I5_ASPNG', name='tr|A0A117E1I5|A0A117E1I5_ASPNG', description='tr|A0A117E1I5|A0A117E1I5_ASPNG L-ascorbate oxidase OS=Aspergillus niger OX=5061 GN=ABL_06754 PE=3 SV=1', dbxrefs=[]),\n",
       " SeqRecord(seq=Seq('MDSKLDLESSRGYATSDAKPKPHSSLARNMGSVLLTFVLACFLVTLTNARRCTH...ELS'), id='tr|A0A117DWA5|A0A117DWA5_ASPNG', name='tr|A0A117DWA5|A0A117DWA5_ASPNG', description='tr|A0A117DWA5|A0A117DWA5_ASPNG Dipeptidase OS=Aspergillus niger OX=5061 GN=ABL_01542 PE=3 SV=1', dbxrefs=[]),\n",
       " SeqRecord(seq=Seq('MASFANPTQIFADDVIEEKGENARLSAFVGAIAVGDLVKSTLGPKGMDKILQSA...ERM'), id='tr|A0A100I376|A0A100I376_ASPNG', name='tr|A0A100I376|A0A100I376_ASPNG', description='tr|A0A100I376|A0A100I376_ASPNG CCT-beta OS=Aspergillus niger OX=5061 GN=ABL_00404 PE=3 SV=1', dbxrefs=[]),\n",
       " SeqRecord(seq=Seq('MQTKSLLTILLSAALAAATVDPASSNTKGKCPGTYNCSAAKTSTAIQAAECSHN...DCS'), id='tr|A0A100IRL5|A0A100IRL5_ASPNG', name='tr|A0A100IRL5|A0A100IRL5_ASPNG', description='tr|A0A100IRL5|A0A100IRL5_ASPNG Small secreted protein OS=Aspergillus niger OX=5061 GN=ABL_08730 PE=4 SV=1', dbxrefs=[]),\n",
       " SeqRecord(seq=Seq('MPLRAKVTNPAFGATASMSTAPIPKELPGDEPDDVLFHSHYGVRLIELNRPKKL...WVN'), id='tr|A0A100IKW0|A0A100IKW0_ASPNG', name='tr|A0A100IKW0|A0A100IKW0_ASPNG', description='tr|A0A100IKW0|A0A100IKW0_ASPNG Mitochondrial 3-hydroxyisobutyryl-CoA hydrolase OS=Aspergillus niger OX=5061 GN=ABL_05287 PE=4 SV=1', dbxrefs=[]),\n",
       " SeqRecord(seq=Seq('MFRLKMEVLMAIAAWAFATASQQIPRSSSWESDLKSLSGRLSNTSQVYFPGSSG...PIP'), id='tr|A0A100I6D1|A0A100I6D1_ASPNG', name='tr|A0A100I6D1|A0A100I6D1_ASPNG', description='tr|A0A100I6D1|A0A100I6D1_ASPNG FAD-binding PCMH-type domain-containing protein OS=Aspergillus niger OX=5061 GN=ABL_01192 PE=3 SV=1', dbxrefs=[]),\n",
       " SeqRecord(seq=Seq('MSEHGEVEVENPAAAFQVLPKEAIAEMGSVKLFNKWSYEDVEIRDISLTDYVQI...NIG'), id='tr|A0A124BVF8|A0A124BVF8_ASPNG', name='tr|A0A124BVF8|A0A124BVF8_ASPNG', description='tr|A0A124BVF8|A0A124BVF8_ASPNG SDA1 domain protein OS=Aspergillus niger OX=5061 GN=ABL_01431 PE=3 SV=1', dbxrefs=[]),\n",
       " SeqRecord(seq=Seq('MYFSKTAAALAALLPLATAQTYTDCDPLNKTCPADTALSSTTFTTDFTSGSFGG...ALL'), id='tr|A0A100I7W0|A0A100I7W0_ASPNG', name='tr|A0A100I7W0|A0A100I7W0_ASPNG', description='tr|A0A100I7W0|A0A100I7W0_ASPNG Glycosidase OS=Aspergillus niger OX=5061 GN=ABL_01595 PE=3 SV=1', dbxrefs=[]),\n",
       " SeqRecord(seq=Seq('MHFSSLLVASALCLTPAVYGYGVAQVTVKSHEDCDPGAPPNDKLIGDAETTYAT...LGL'), id='tr|A0A117E016|A0A117E016_ASPNG', name='tr|A0A117E016|A0A117E016_ASPNG', description='tr|A0A117E016|A0A117E016_ASPNG Similar to An08g06730 OS=Aspergillus niger OX=5061 GN=ABL_04531 PE=4 SV=1', dbxrefs=[]),\n",
       " SeqRecord(seq=Seq('MASYPKKKCGVLGATGSVGQRFILLLADHPFLELHAVGASERSAGKQYKDAVRW...GYI'), id='tr|A0A100INW1|A0A100INW1_ASPNG', name='tr|A0A100INW1|A0A100INW1_ASPNG', description='tr|A0A100INW1|A0A100INW1_ASPNG Aspartate-semialdehyde dehydrogenase OS=Aspergillus niger OX=5061 GN=ABL_07317 PE=4 SV=1', dbxrefs=[]),\n",
       " SeqRecord(seq=Seq('MPLKPFLFSALATLASASPLLYTRTTNETFVFTNANGLNFTQMNTTLPNVTIFA...TDA'), id='tr|A0A117E3D0|A0A117E3D0_ASPNG', name='tr|A0A117E3D0|A0A117E3D0_ASPNG', description='tr|A0A117E3D0|A0A117E3D0_ASPNG asparaginase OS=Aspergillus niger OX=5061 GN=ABL_09586 PE=3 SV=1', dbxrefs=[]),\n",
       " SeqRecord(seq=Seq('MASPTPNDDGRSPPLSNFPQDPSEFDSDPRISFSKLDDKFILETEDGQEFEYDT...AEE'), id='tr|A0A100IHZ6|A0A100IHZ6_ASPNG', name='tr|A0A100IHZ6|A0A100IHZ6_ASPNG', description='tr|A0A100IHZ6|A0A100IHZ6_ASPNG Tubulin beta chain OS=Aspergillus niger OX=5061 GN=ABL_04280 PE=3 SV=1', dbxrefs=[]),\n",
       " SeqRecord(seq=Seq('MTIILFFLSFLATALAATPAEWRSQSIYFLLTDRFARTDNSTTASCDLSARQYC...IMT'), id='tr|A0A117DXK4|A0A117DXK4_ASPNG', name='tr|A0A117DXK4|A0A117DXK4_ASPNG', description='tr|A0A117DXK4|A0A117DXK4_ASPNG alpha-amylase OS=Aspergillus niger OX=5061 GN=ABL_02513 PE=3 SV=1', dbxrefs=[]),\n",
       " SeqRecord(seq=Seq('MGSTTPSVFSTAVVPAAPEDALFGLAQAFRQDSSDKKVDLVIGAYRDNNAKPWI...ETS'), id='tr|A0A117E2A5|A0A117E2A5_ASPNG', name='tr|A0A117E2A5|A0A117E2A5_ASPNG', description='tr|A0A117E2A5|A0A117E2A5_ASPNG Aspartate transaminase OS=Aspergillus niger OX=5061 GN=ABL_06002 PE=3 SV=1', dbxrefs=[]),\n",
       " SeqRecord(seq=Seq('MDSAKQPAKLVKVTRVLGRTGSRGGVTQVRVEFMDDTSRSIIRNVKGPVKVDDI...RLR'), id='tr|A0A117E3C1|A0A117E3C1_ASPNG', name='tr|A0A117E3C1|A0A117E3C1_ASPNG', description='tr|A0A117E3C1|A0A117E3C1_ASPNG 40S ribosomal protein S28 OS=Aspergillus niger OX=5061 GN=ABL_09509 PE=3 SV=1', dbxrefs=[]),\n",
       " SeqRecord(seq=Seq('MSAPFAKFPSSASISPYPFTVSIPDKQLNDLKTLIRLSKIAPPTYESLQSDGRF...WQK'), id='tr|A0A100ISN1|A0A100ISN1_ASPNG', name='tr|A0A100ISN1|A0A100ISN1_ASPNG', description='tr|A0A100ISN1|A0A100ISN1_ASPNG Epoxide hydrolase OS=Aspergillus niger OX=5061 GN=ABL_09249 PE=3 SV=1', dbxrefs=[]),\n",
       " SeqRecord(seq=Seq('MKTFSLSLALLAAASMVSADVSVSDCAQMCLSNMNNKASELGCSSGDLSCLCSK...FLL'), id='tr|A0A100IPX8|A0A100IPX8_ASPNG', name='tr|A0A100IPX8|A0A100IPX8_ASPNG', description='tr|A0A100IPX8|A0A100IPX8_ASPNG Extracellular membrane protein CFEM domain-containing protein OS=Aspergillus niger OX=5061 GN=ABL_07828 PE=3 SV=1', dbxrefs=[]),\n",
       " SeqRecord(seq=Seq('MLDKQTESLPLAEERPHLRQPPHQYRRSILHFFTSAGLLLLSIYALFPRLSLFS...WDP'), id='tr|A0A100IT94|A0A100IT94_ASPNG', name='tr|A0A100IT94|A0A100IT94_ASPNG', description='tr|A0A100IT94|A0A100IT94_ASPNG Xaa-pro dipeptidase OS=Aspergillus niger OX=5061 GN=ABL_09581 PE=4 SV=1', dbxrefs=[]),\n",
       " SeqRecord(seq=Seq('MSAETFEFQAEISQLLSLIINTVYSNKEIFLRELISNASDALDKIRYESLSDPS...EVD'), id='tr|A0A100IN38|A0A100IN38_ASPNG', name='tr|A0A100IN38|A0A100IN38_ASPNG', description='tr|A0A100IN38|A0A100IN38_ASPNG Heat shock protein OS=Aspergillus niger OX=5061 GN=ABL_06562 PE=3 SV=1', dbxrefs=[]),\n",
       " SeqRecord(seq=Seq('MDREQFREAAHSAIDDIINYFDDLPNQRVLPTIEPGYLRPLIPTSPPENPEPWS...KRG'), id='tr|A0A100I1Y9|A0A100I1Y9_ASPNG', name='tr|A0A100I1Y9|A0A100I1Y9_ASPNG', description='tr|A0A100I1Y9|A0A100I1Y9_ASPNG Aromatic-L-amino-acid decarboxylase OS=Aspergillus niger OX=5061 GN=ABL_00062 PE=3 SV=1', dbxrefs=[]),\n",
       " SeqRecord(seq=Seq('MILFHLAPFFFLFGLVVSSQNPTVDLGYTKYKGKSLPNGISQWLGIRYAAAPTG...LSQ'), id='tr|A0A100ILS5|A0A100ILS5_ASPNG', name='tr|A0A100ILS5|A0A100ILS5_ASPNG', description='tr|A0A100ILS5|A0A100ILS5_ASPNG Carboxylic ester hydrolase OS=Aspergillus niger OX=5061 GN=ABL_06215 PE=3 SV=1', dbxrefs=[]),\n",
       " SeqRecord(seq=Seq('MAEQVPTFKLVLVGDGEKLHRPPNLTRHETSLLTGEISLQTTFVKRHLTGEFEK...ADL'), id='tr|A0A100IQ31|A0A100IQ31_ASPNG', name='tr|A0A100IQ31|A0A100IQ31_ASPNG', description='tr|A0A100IQ31|A0A100IQ31_ASPNG GTP-binding nuclear protein OS=Aspergillus niger OX=5061 GN=ABL_07962 PE=3 SV=1', dbxrefs=[]),\n",
       " SeqRecord(seq=Seq('MYFSSLLALGALVQAAAATYFAPNSTGLRIQHGFETILIQPFGYDGFRVRAWPF...DVF'), id='tr|A0A117E187|A0A117E187_ASPNG', name='tr|A0A117E187|A0A117E187_ASPNG', description='tr|A0A117E187|A0A117E187_ASPNG Alpha-xylosidase OS=Aspergillus niger OX=5061 GN=ABL_06329 PE=3 SV=1', dbxrefs=[]),\n",
       " SeqRecord(seq=Seq('MFPTYTQLFAAACAFATTANAVTPIEVKGKDFVNSKTGDRFQILGVDYQPGGSS...FML'), id='tr|A0A100IIK3|A0A100IIK3_ASPNG', name='tr|A0A100IIK3|A0A100IIK3_ASPNG', description='tr|A0A100IIK3|A0A100IIK3_ASPNG 1,3-beta-glucanosyltransferase OS=Aspergillus niger OX=5061 GN=ABL_04572 PE=3 SV=1', dbxrefs=[]),\n",
       " SeqRecord(seq=Seq('MAAKLIDRRFHNVPGRLRVAELFFDVPLNYNKPNDGTLRLFARSVRRLVTPAEP...TID'), id='tr|A0A124BXG2|A0A124BXG2_ASPNG', name='tr|A0A124BXG2|A0A124BXG2_ASPNG', description='tr|A0A124BXG2|A0A124BXG2_ASPNG Proline iminopeptidase OS=Aspergillus niger OX=5061 GN=ABL_04984 PE=3 SV=1', dbxrefs=[]),\n",
       " SeqRecord(seq=Seq('MSESVPELRFRSGNVPTRYFKACRWCRKQKMRCDARNQVPCARCRAVGRDCILD...IPQ'), id='tr|A0A100IJW8|A0A100IJW8_ASPNG', name='tr|A0A100IJW8|A0A100IJW8_ASPNG', description='tr|A0A100IJW8|A0A100IJW8_ASPNG C6 transcription factor OS=Aspergillus niger OX=5061 GN=ABL_05235 PE=4 SV=1', dbxrefs=[]),\n",
       " SeqRecord(seq=Seq('MADEVGANSPSANSPVYSVAAYLRPACSHETFESADAGASATYPMQCSALRKNG...KLK'), id='tr|A0A100I3F9|A0A100I3F9_ASPNG', name='tr|A0A100I3F9|A0A100I3F9_ASPNG', description='tr|A0A100I3F9|A0A100I3F9_ASPNG RNA polymerase I specific transcription initiation factor Rrn7 OS=Aspergillus niger OX=5061 GN=ABL_00146 PE=3 SV=1', dbxrefs=[]),\n",
       " SeqRecord(seq=Seq('MSKFLLWTVSAAALARAATLEQVCTVAHAKAAVPASGLVQGVVTNPSSVTAVPV...PIY'), id='tr|A0A100IN24|A0A100IN24_ASPNG', name='tr|A0A100IN24|A0A100IN24_ASPNG', description='tr|A0A100IN24|A0A100IN24_ASPNG Carboxylic ester hydrolase OS=Aspergillus niger OX=5061 GN=ABL_06870 PE=3 SV=1', dbxrefs=[]),\n",
       " SeqRecord(seq=Seq('MMKLYHVSLALFAGLGLVAGQGMDSLPPCALNRSQRDCATGSIPKTCKAIDVNC...LLL'), id='tr|A0A117E1S1|A0A117E1S1_ASPNG', name='tr|A0A117E1S1|A0A117E1S1_ASPNG', description='tr|A0A117E1S1|A0A117E1S1_ASPNG CFEM domain protein OS=Aspergillus niger OX=5061 GN=ABL_07158 PE=3 SV=1', dbxrefs=[]),\n",
       " SeqRecord(seq=Seq('MKLTFKDLKQQKFVIDAEPSETVGQVKEKISKEKGWEVPQLKLIYSGKILQDDK...EDM'), id='tr|A0A100IQ98|A0A100IQ98_ASPNG', name='tr|A0A100IQ98|A0A100IQ98_ASPNG', description='tr|A0A100IQ98|A0A100IQ98_ASPNG UV excision repair protein RAD23 OS=Aspergillus niger OX=5061 GN=ABL_08036 PE=3 SV=1', dbxrefs=[]),\n",
       " SeqRecord(seq=Seq('MSHPENEHVSAETSPNDVELTAMDGARTSSAEQRKSSGQSSITSTTMVPAGEKG...GGH'), id='tr|A0A117E2B9|A0A117E2B9_ASPNG', name='tr|A0A117E2B9|A0A117E2B9_ASPNG', description='tr|A0A117E2B9|A0A117E2B9_ASPNG ABC multidrug transporter Mdr1 OS=Aspergillus niger OX=5061 GN=ABL_08039 PE=4 SV=1', dbxrefs=[])]"
      ]
     },
     "execution_count": 93,
     "metadata": {},
     "output_type": "execute_result"
    }
   ],
   "source": [
    "from_pdb3 = [seq[0] for seq in from_pdb3]\n",
    "from_pdb3"
   ]
  },
  {
   "cell_type": "code",
   "execution_count": 94,
   "id": "cd0890f8",
   "metadata": {},
   "outputs": [],
   "source": [
    "all_proteins = list_of_biopython_objects3 + from_pdb3"
   ]
  },
  {
   "cell_type": "code",
   "execution_count": 95,
   "id": "a5e1e63a",
   "metadata": {},
   "outputs": [
    {
     "data": {
      "text/plain": [
       "187"
      ]
     },
     "execution_count": 95,
     "metadata": {},
     "output_type": "execute_result"
    }
   ],
   "source": [
    "len(all_proteins)\n"
   ]
  },
  {
   "attachments": {},
   "cell_type": "markdown",
   "id": "5740b094",
   "metadata": {},
   "source": [
    "Now we have all our sequences and we want to make them into fasta files. We can do it like shown next."
   ]
  },
  {
   "attachments": {},
   "cell_type": "markdown",
   "id": "109001e4",
   "metadata": {},
   "source": [
    "## Making fasta files with our sequences:"
   ]
  },
  {
   "cell_type": "code",
   "execution_count": 96,
   "id": "54378102-5513-47ff-82a0-78b3d8e23eab",
   "metadata": {},
   "outputs": [],
   "source": [
    "with open('../data/mutant_fasta_files/all_blaA_proteins_2006_2023.fasta', 'w') as outfile:\n",
    "    for i in range(0, len(all_blaA_proteins)):\n",
    "        print(all_blaA_proteins[i].format(\"fasta\"), file = outfile)"
   ]
  },
  {
   "cell_type": "code",
   "execution_count": 97,
   "id": "67b809e8-55cf-441c-9a1d-2a9f474b3c8f",
   "metadata": {},
   "outputs": [],
   "source": [
    "with open('../data/mutant_fasta_files/all_QM_proteins_2006_2023.fasta', 'w') as outfile:\n",
    "    for i in range(0, len(all_QM_proteins)):\n",
    "        print(all_QM_proteins[i].format(\"fasta\"), file = outfile)"
   ]
  },
  {
   "cell_type": "code",
   "execution_count": 98,
   "id": "3986e56f",
   "metadata": {},
   "outputs": [],
   "source": [
    "with open('../data/mutant_fasta_files/all_proteins_2006_2023.fasta', 'w') as outfile:\n",
    "    for i in range(0, len(all_proteins)):\n",
    "        print(all_proteins[i].format(\"fasta\"), file = outfile)"
   ]
  },
  {
   "attachments": {},
   "cell_type": "markdown",
   "id": "ea8b9f5a",
   "metadata": {},
   "source": [
    "This ends this notebook. "
   ]
  }
 ],
 "metadata": {
  "kernelspec": {
   "display_name": "Python 3 (ipykernel)",
   "language": "python",
   "name": "python3"
  },
  "language_info": {
   "codemirror_mode": {
    "name": "ipython",
    "version": 3
   },
   "file_extension": ".py",
   "mimetype": "text/x-python",
   "name": "python",
   "nbconvert_exporter": "python",
   "pygments_lexer": "ipython3",
   "version": "3.8.13"
  }
 },
 "nbformat": 4,
 "nbformat_minor": 5
}
